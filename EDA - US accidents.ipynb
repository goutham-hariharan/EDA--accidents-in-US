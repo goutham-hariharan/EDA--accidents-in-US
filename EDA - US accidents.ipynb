{
 "cells": [
  {
   "cell_type": "code",
   "execution_count": 1,
   "id": "141e3fda",
   "metadata": {},
   "outputs": [],
   "source": [
    "import pandas as pd\n",
    "import numpy as np \n",
    "import matplotlib.pyplot as plt"
   ]
  },
  {
   "cell_type": "code",
   "execution_count": 2,
   "id": "3d01ae4e",
   "metadata": {},
   "outputs": [],
   "source": [
    "raw_data = pd.read_csv('US_Accidents_Dec21_updated.csv')"
   ]
  },
  {
   "cell_type": "code",
   "execution_count": 3,
   "id": "973564eb",
   "metadata": {},
   "outputs": [
    {
     "data": {
      "text/html": [
       "<div>\n",
       "<style scoped>\n",
       "    .dataframe tbody tr th:only-of-type {\n",
       "        vertical-align: middle;\n",
       "    }\n",
       "\n",
       "    .dataframe tbody tr th {\n",
       "        vertical-align: top;\n",
       "    }\n",
       "\n",
       "    .dataframe thead th {\n",
       "        text-align: right;\n",
       "    }\n",
       "</style>\n",
       "<table border=\"1\" class=\"dataframe\">\n",
       "  <thead>\n",
       "    <tr style=\"text-align: right;\">\n",
       "      <th></th>\n",
       "      <th>ID</th>\n",
       "      <th>Severity</th>\n",
       "      <th>Start_Time</th>\n",
       "      <th>End_Time</th>\n",
       "      <th>Start_Lat</th>\n",
       "      <th>Start_Lng</th>\n",
       "      <th>End_Lat</th>\n",
       "      <th>End_Lng</th>\n",
       "      <th>Distance(mi)</th>\n",
       "      <th>Description</th>\n",
       "      <th>...</th>\n",
       "      <th>Roundabout</th>\n",
       "      <th>Station</th>\n",
       "      <th>Stop</th>\n",
       "      <th>Traffic_Calming</th>\n",
       "      <th>Traffic_Signal</th>\n",
       "      <th>Turning_Loop</th>\n",
       "      <th>Sunrise_Sunset</th>\n",
       "      <th>Civil_Twilight</th>\n",
       "      <th>Nautical_Twilight</th>\n",
       "      <th>Astronomical_Twilight</th>\n",
       "    </tr>\n",
       "  </thead>\n",
       "  <tbody>\n",
       "    <tr>\n",
       "      <th>0</th>\n",
       "      <td>A-1</td>\n",
       "      <td>3</td>\n",
       "      <td>2016-02-08 00:37:08</td>\n",
       "      <td>2016-02-08 06:37:08</td>\n",
       "      <td>40.108910</td>\n",
       "      <td>-83.092860</td>\n",
       "      <td>40.112060</td>\n",
       "      <td>-83.031870</td>\n",
       "      <td>3.230</td>\n",
       "      <td>Between Sawmill Rd/Exit 20 and OH-315/Olentang...</td>\n",
       "      <td>...</td>\n",
       "      <td>False</td>\n",
       "      <td>False</td>\n",
       "      <td>False</td>\n",
       "      <td>False</td>\n",
       "      <td>False</td>\n",
       "      <td>False</td>\n",
       "      <td>Night</td>\n",
       "      <td>Night</td>\n",
       "      <td>Night</td>\n",
       "      <td>Night</td>\n",
       "    </tr>\n",
       "    <tr>\n",
       "      <th>1</th>\n",
       "      <td>A-2</td>\n",
       "      <td>2</td>\n",
       "      <td>2016-02-08 05:56:20</td>\n",
       "      <td>2016-02-08 11:56:20</td>\n",
       "      <td>39.865420</td>\n",
       "      <td>-84.062800</td>\n",
       "      <td>39.865010</td>\n",
       "      <td>-84.048730</td>\n",
       "      <td>0.747</td>\n",
       "      <td>At OH-4/OH-235/Exit 41 - Accident.</td>\n",
       "      <td>...</td>\n",
       "      <td>False</td>\n",
       "      <td>False</td>\n",
       "      <td>False</td>\n",
       "      <td>False</td>\n",
       "      <td>False</td>\n",
       "      <td>False</td>\n",
       "      <td>Night</td>\n",
       "      <td>Night</td>\n",
       "      <td>Night</td>\n",
       "      <td>Night</td>\n",
       "    </tr>\n",
       "    <tr>\n",
       "      <th>2</th>\n",
       "      <td>A-3</td>\n",
       "      <td>2</td>\n",
       "      <td>2016-02-08 06:15:39</td>\n",
       "      <td>2016-02-08 12:15:39</td>\n",
       "      <td>39.102660</td>\n",
       "      <td>-84.524680</td>\n",
       "      <td>39.102090</td>\n",
       "      <td>-84.523960</td>\n",
       "      <td>0.055</td>\n",
       "      <td>At I-71/US-50/Exit 1 - Accident.</td>\n",
       "      <td>...</td>\n",
       "      <td>False</td>\n",
       "      <td>False</td>\n",
       "      <td>False</td>\n",
       "      <td>False</td>\n",
       "      <td>False</td>\n",
       "      <td>False</td>\n",
       "      <td>Night</td>\n",
       "      <td>Night</td>\n",
       "      <td>Night</td>\n",
       "      <td>Day</td>\n",
       "    </tr>\n",
       "    <tr>\n",
       "      <th>3</th>\n",
       "      <td>A-4</td>\n",
       "      <td>2</td>\n",
       "      <td>2016-02-08 06:51:45</td>\n",
       "      <td>2016-02-08 12:51:45</td>\n",
       "      <td>41.062130</td>\n",
       "      <td>-81.537840</td>\n",
       "      <td>41.062170</td>\n",
       "      <td>-81.535470</td>\n",
       "      <td>0.123</td>\n",
       "      <td>At Dart Ave/Exit 21 - Accident.</td>\n",
       "      <td>...</td>\n",
       "      <td>False</td>\n",
       "      <td>False</td>\n",
       "      <td>False</td>\n",
       "      <td>False</td>\n",
       "      <td>False</td>\n",
       "      <td>False</td>\n",
       "      <td>Night</td>\n",
       "      <td>Night</td>\n",
       "      <td>Day</td>\n",
       "      <td>Day</td>\n",
       "    </tr>\n",
       "    <tr>\n",
       "      <th>4</th>\n",
       "      <td>A-5</td>\n",
       "      <td>3</td>\n",
       "      <td>2016-02-08 07:53:43</td>\n",
       "      <td>2016-02-08 13:53:43</td>\n",
       "      <td>39.172393</td>\n",
       "      <td>-84.492792</td>\n",
       "      <td>39.170476</td>\n",
       "      <td>-84.501798</td>\n",
       "      <td>0.500</td>\n",
       "      <td>At Mitchell Ave/Exit 6 - Accident.</td>\n",
       "      <td>...</td>\n",
       "      <td>False</td>\n",
       "      <td>False</td>\n",
       "      <td>False</td>\n",
       "      <td>False</td>\n",
       "      <td>False</td>\n",
       "      <td>False</td>\n",
       "      <td>Day</td>\n",
       "      <td>Day</td>\n",
       "      <td>Day</td>\n",
       "      <td>Day</td>\n",
       "    </tr>\n",
       "    <tr>\n",
       "      <th>...</th>\n",
       "      <td>...</td>\n",
       "      <td>...</td>\n",
       "      <td>...</td>\n",
       "      <td>...</td>\n",
       "      <td>...</td>\n",
       "      <td>...</td>\n",
       "      <td>...</td>\n",
       "      <td>...</td>\n",
       "      <td>...</td>\n",
       "      <td>...</td>\n",
       "      <td>...</td>\n",
       "      <td>...</td>\n",
       "      <td>...</td>\n",
       "      <td>...</td>\n",
       "      <td>...</td>\n",
       "      <td>...</td>\n",
       "      <td>...</td>\n",
       "      <td>...</td>\n",
       "      <td>...</td>\n",
       "      <td>...</td>\n",
       "      <td>...</td>\n",
       "    </tr>\n",
       "    <tr>\n",
       "      <th>2845337</th>\n",
       "      <td>A-2845338</td>\n",
       "      <td>2</td>\n",
       "      <td>2019-08-23 18:03:25</td>\n",
       "      <td>2019-08-23 18:32:01</td>\n",
       "      <td>34.002480</td>\n",
       "      <td>-117.379360</td>\n",
       "      <td>33.998880</td>\n",
       "      <td>-117.370940</td>\n",
       "      <td>0.543</td>\n",
       "      <td>At Market St - Accident.</td>\n",
       "      <td>...</td>\n",
       "      <td>False</td>\n",
       "      <td>False</td>\n",
       "      <td>False</td>\n",
       "      <td>False</td>\n",
       "      <td>False</td>\n",
       "      <td>False</td>\n",
       "      <td>Day</td>\n",
       "      <td>Day</td>\n",
       "      <td>Day</td>\n",
       "      <td>Day</td>\n",
       "    </tr>\n",
       "    <tr>\n",
       "      <th>2845338</th>\n",
       "      <td>A-2845339</td>\n",
       "      <td>2</td>\n",
       "      <td>2019-08-23 19:11:30</td>\n",
       "      <td>2019-08-23 19:38:23</td>\n",
       "      <td>32.766960</td>\n",
       "      <td>-117.148060</td>\n",
       "      <td>32.765550</td>\n",
       "      <td>-117.153630</td>\n",
       "      <td>0.338</td>\n",
       "      <td>At Camino Del Rio/Mission Center Rd - Accident.</td>\n",
       "      <td>...</td>\n",
       "      <td>False</td>\n",
       "      <td>False</td>\n",
       "      <td>False</td>\n",
       "      <td>False</td>\n",
       "      <td>False</td>\n",
       "      <td>False</td>\n",
       "      <td>Day</td>\n",
       "      <td>Day</td>\n",
       "      <td>Day</td>\n",
       "      <td>Day</td>\n",
       "    </tr>\n",
       "    <tr>\n",
       "      <th>2845339</th>\n",
       "      <td>A-2845340</td>\n",
       "      <td>2</td>\n",
       "      <td>2019-08-23 19:00:21</td>\n",
       "      <td>2019-08-23 19:28:49</td>\n",
       "      <td>33.775450</td>\n",
       "      <td>-117.847790</td>\n",
       "      <td>33.777400</td>\n",
       "      <td>-117.857270</td>\n",
       "      <td>0.561</td>\n",
       "      <td>At Glassell St/Grand Ave - Accident. in the ri...</td>\n",
       "      <td>...</td>\n",
       "      <td>False</td>\n",
       "      <td>False</td>\n",
       "      <td>False</td>\n",
       "      <td>False</td>\n",
       "      <td>False</td>\n",
       "      <td>False</td>\n",
       "      <td>Day</td>\n",
       "      <td>Day</td>\n",
       "      <td>Day</td>\n",
       "      <td>Day</td>\n",
       "    </tr>\n",
       "    <tr>\n",
       "      <th>2845340</th>\n",
       "      <td>A-2845341</td>\n",
       "      <td>2</td>\n",
       "      <td>2019-08-23 19:00:21</td>\n",
       "      <td>2019-08-23 19:29:42</td>\n",
       "      <td>33.992460</td>\n",
       "      <td>-118.403020</td>\n",
       "      <td>33.983110</td>\n",
       "      <td>-118.395650</td>\n",
       "      <td>0.772</td>\n",
       "      <td>At CA-90/Marina Fwy/Jefferson Blvd - Accident.</td>\n",
       "      <td>...</td>\n",
       "      <td>False</td>\n",
       "      <td>False</td>\n",
       "      <td>False</td>\n",
       "      <td>False</td>\n",
       "      <td>False</td>\n",
       "      <td>False</td>\n",
       "      <td>Day</td>\n",
       "      <td>Day</td>\n",
       "      <td>Day</td>\n",
       "      <td>Day</td>\n",
       "    </tr>\n",
       "    <tr>\n",
       "      <th>2845341</th>\n",
       "      <td>A-2845342</td>\n",
       "      <td>2</td>\n",
       "      <td>2019-08-23 18:52:06</td>\n",
       "      <td>2019-08-23 19:21:31</td>\n",
       "      <td>34.133930</td>\n",
       "      <td>-117.230920</td>\n",
       "      <td>34.137360</td>\n",
       "      <td>-117.239340</td>\n",
       "      <td>0.537</td>\n",
       "      <td>At Highland Ave/Arden Ave - Accident.</td>\n",
       "      <td>...</td>\n",
       "      <td>False</td>\n",
       "      <td>False</td>\n",
       "      <td>False</td>\n",
       "      <td>False</td>\n",
       "      <td>False</td>\n",
       "      <td>False</td>\n",
       "      <td>Day</td>\n",
       "      <td>Day</td>\n",
       "      <td>Day</td>\n",
       "      <td>Day</td>\n",
       "    </tr>\n",
       "  </tbody>\n",
       "</table>\n",
       "<p>2845342 rows × 47 columns</p>\n",
       "</div>"
      ],
      "text/plain": [
       "                ID  Severity           Start_Time             End_Time  \\\n",
       "0              A-1         3  2016-02-08 00:37:08  2016-02-08 06:37:08   \n",
       "1              A-2         2  2016-02-08 05:56:20  2016-02-08 11:56:20   \n",
       "2              A-3         2  2016-02-08 06:15:39  2016-02-08 12:15:39   \n",
       "3              A-4         2  2016-02-08 06:51:45  2016-02-08 12:51:45   \n",
       "4              A-5         3  2016-02-08 07:53:43  2016-02-08 13:53:43   \n",
       "...            ...       ...                  ...                  ...   \n",
       "2845337  A-2845338         2  2019-08-23 18:03:25  2019-08-23 18:32:01   \n",
       "2845338  A-2845339         2  2019-08-23 19:11:30  2019-08-23 19:38:23   \n",
       "2845339  A-2845340         2  2019-08-23 19:00:21  2019-08-23 19:28:49   \n",
       "2845340  A-2845341         2  2019-08-23 19:00:21  2019-08-23 19:29:42   \n",
       "2845341  A-2845342         2  2019-08-23 18:52:06  2019-08-23 19:21:31   \n",
       "\n",
       "         Start_Lat   Start_Lng    End_Lat     End_Lng  Distance(mi)  \\\n",
       "0        40.108910  -83.092860  40.112060  -83.031870         3.230   \n",
       "1        39.865420  -84.062800  39.865010  -84.048730         0.747   \n",
       "2        39.102660  -84.524680  39.102090  -84.523960         0.055   \n",
       "3        41.062130  -81.537840  41.062170  -81.535470         0.123   \n",
       "4        39.172393  -84.492792  39.170476  -84.501798         0.500   \n",
       "...            ...         ...        ...         ...           ...   \n",
       "2845337  34.002480 -117.379360  33.998880 -117.370940         0.543   \n",
       "2845338  32.766960 -117.148060  32.765550 -117.153630         0.338   \n",
       "2845339  33.775450 -117.847790  33.777400 -117.857270         0.561   \n",
       "2845340  33.992460 -118.403020  33.983110 -118.395650         0.772   \n",
       "2845341  34.133930 -117.230920  34.137360 -117.239340         0.537   \n",
       "\n",
       "                                               Description  ...  Roundabout  \\\n",
       "0        Between Sawmill Rd/Exit 20 and OH-315/Olentang...  ...       False   \n",
       "1                       At OH-4/OH-235/Exit 41 - Accident.  ...       False   \n",
       "2                         At I-71/US-50/Exit 1 - Accident.  ...       False   \n",
       "3                          At Dart Ave/Exit 21 - Accident.  ...       False   \n",
       "4                       At Mitchell Ave/Exit 6 - Accident.  ...       False   \n",
       "...                                                    ...  ...         ...   \n",
       "2845337                           At Market St - Accident.  ...       False   \n",
       "2845338    At Camino Del Rio/Mission Center Rd - Accident.  ...       False   \n",
       "2845339  At Glassell St/Grand Ave - Accident. in the ri...  ...       False   \n",
       "2845340     At CA-90/Marina Fwy/Jefferson Blvd - Accident.  ...       False   \n",
       "2845341              At Highland Ave/Arden Ave - Accident.  ...       False   \n",
       "\n",
       "        Station   Stop Traffic_Calming Traffic_Signal Turning_Loop  \\\n",
       "0         False  False           False          False        False   \n",
       "1         False  False           False          False        False   \n",
       "2         False  False           False          False        False   \n",
       "3         False  False           False          False        False   \n",
       "4         False  False           False          False        False   \n",
       "...         ...    ...             ...            ...          ...   \n",
       "2845337   False  False           False          False        False   \n",
       "2845338   False  False           False          False        False   \n",
       "2845339   False  False           False          False        False   \n",
       "2845340   False  False           False          False        False   \n",
       "2845341   False  False           False          False        False   \n",
       "\n",
       "        Sunrise_Sunset Civil_Twilight Nautical_Twilight Astronomical_Twilight  \n",
       "0                Night          Night             Night                 Night  \n",
       "1                Night          Night             Night                 Night  \n",
       "2                Night          Night             Night                   Day  \n",
       "3                Night          Night               Day                   Day  \n",
       "4                  Day            Day               Day                   Day  \n",
       "...                ...            ...               ...                   ...  \n",
       "2845337            Day            Day               Day                   Day  \n",
       "2845338            Day            Day               Day                   Day  \n",
       "2845339            Day            Day               Day                   Day  \n",
       "2845340            Day            Day               Day                   Day  \n",
       "2845341            Day            Day               Day                   Day  \n",
       "\n",
       "[2845342 rows x 47 columns]"
      ]
     },
     "execution_count": 3,
     "metadata": {},
     "output_type": "execute_result"
    }
   ],
   "source": [
    "raw_data"
   ]
  },
  {
   "cell_type": "code",
   "execution_count": 4,
   "id": "2b07baf3",
   "metadata": {},
   "outputs": [
    {
     "name": "stdout",
     "output_type": "stream",
     "text": [
      "<class 'pandas.core.frame.DataFrame'>\n",
      "RangeIndex: 2845342 entries, 0 to 2845341\n",
      "Data columns (total 47 columns):\n",
      " #   Column                 Dtype  \n",
      "---  ------                 -----  \n",
      " 0   ID                     object \n",
      " 1   Severity               int64  \n",
      " 2   Start_Time             object \n",
      " 3   End_Time               object \n",
      " 4   Start_Lat              float64\n",
      " 5   Start_Lng              float64\n",
      " 6   End_Lat                float64\n",
      " 7   End_Lng                float64\n",
      " 8   Distance(mi)           float64\n",
      " 9   Description            object \n",
      " 10  Number                 float64\n",
      " 11  Street                 object \n",
      " 12  Side                   object \n",
      " 13  City                   object \n",
      " 14  County                 object \n",
      " 15  State                  object \n",
      " 16  Zipcode                object \n",
      " 17  Country                object \n",
      " 18  Timezone               object \n",
      " 19  Airport_Code           object \n",
      " 20  Weather_Timestamp      object \n",
      " 21  Temperature(F)         float64\n",
      " 22  Wind_Chill(F)          float64\n",
      " 23  Humidity(%)            float64\n",
      " 24  Pressure(in)           float64\n",
      " 25  Visibility(mi)         float64\n",
      " 26  Wind_Direction         object \n",
      " 27  Wind_Speed(mph)        float64\n",
      " 28  Precipitation(in)      float64\n",
      " 29  Weather_Condition      object \n",
      " 30  Amenity                bool   \n",
      " 31  Bump                   bool   \n",
      " 32  Crossing               bool   \n",
      " 33  Give_Way               bool   \n",
      " 34  Junction               bool   \n",
      " 35  No_Exit                bool   \n",
      " 36  Railway                bool   \n",
      " 37  Roundabout             bool   \n",
      " 38  Station                bool   \n",
      " 39  Stop                   bool   \n",
      " 40  Traffic_Calming        bool   \n",
      " 41  Traffic_Signal         bool   \n",
      " 42  Turning_Loop           bool   \n",
      " 43  Sunrise_Sunset         object \n",
      " 44  Civil_Twilight         object \n",
      " 45  Nautical_Twilight      object \n",
      " 46  Astronomical_Twilight  object \n",
      "dtypes: bool(13), float64(13), int64(1), object(20)\n",
      "memory usage: 773.4+ MB\n"
     ]
    }
   ],
   "source": [
    "raw_data.info()"
   ]
  },
  {
   "cell_type": "code",
   "execution_count": 5,
   "id": "01e62508",
   "metadata": {},
   "outputs": [
    {
     "data": {
      "text/html": [
       "<div>\n",
       "<style scoped>\n",
       "    .dataframe tbody tr th:only-of-type {\n",
       "        vertical-align: middle;\n",
       "    }\n",
       "\n",
       "    .dataframe tbody tr th {\n",
       "        vertical-align: top;\n",
       "    }\n",
       "\n",
       "    .dataframe thead th {\n",
       "        text-align: right;\n",
       "    }\n",
       "</style>\n",
       "<table border=\"1\" class=\"dataframe\">\n",
       "  <thead>\n",
       "    <tr style=\"text-align: right;\">\n",
       "      <th></th>\n",
       "      <th>Severity</th>\n",
       "      <th>Start_Lat</th>\n",
       "      <th>Start_Lng</th>\n",
       "      <th>End_Lat</th>\n",
       "      <th>End_Lng</th>\n",
       "      <th>Distance(mi)</th>\n",
       "      <th>Number</th>\n",
       "      <th>Temperature(F)</th>\n",
       "      <th>Wind_Chill(F)</th>\n",
       "      <th>Humidity(%)</th>\n",
       "      <th>Pressure(in)</th>\n",
       "      <th>Visibility(mi)</th>\n",
       "      <th>Wind_Speed(mph)</th>\n",
       "      <th>Precipitation(in)</th>\n",
       "    </tr>\n",
       "  </thead>\n",
       "  <tbody>\n",
       "    <tr>\n",
       "      <th>count</th>\n",
       "      <td>2.845342e+06</td>\n",
       "      <td>2.845342e+06</td>\n",
       "      <td>2.845342e+06</td>\n",
       "      <td>2.845342e+06</td>\n",
       "      <td>2.845342e+06</td>\n",
       "      <td>2.845342e+06</td>\n",
       "      <td>1.101431e+06</td>\n",
       "      <td>2.776068e+06</td>\n",
       "      <td>2.375699e+06</td>\n",
       "      <td>2.772250e+06</td>\n",
       "      <td>2.786142e+06</td>\n",
       "      <td>2.774796e+06</td>\n",
       "      <td>2.687398e+06</td>\n",
       "      <td>2.295884e+06</td>\n",
       "    </tr>\n",
       "    <tr>\n",
       "      <th>mean</th>\n",
       "      <td>2.137572e+00</td>\n",
       "      <td>3.624520e+01</td>\n",
       "      <td>-9.711463e+01</td>\n",
       "      <td>3.624532e+01</td>\n",
       "      <td>-9.711439e+01</td>\n",
       "      <td>7.026779e-01</td>\n",
       "      <td>8.089408e+03</td>\n",
       "      <td>6.179356e+01</td>\n",
       "      <td>5.965823e+01</td>\n",
       "      <td>6.436545e+01</td>\n",
       "      <td>2.947234e+01</td>\n",
       "      <td>9.099391e+00</td>\n",
       "      <td>7.395044e+00</td>\n",
       "      <td>7.016940e-03</td>\n",
       "    </tr>\n",
       "    <tr>\n",
       "      <th>std</th>\n",
       "      <td>4.787216e-01</td>\n",
       "      <td>5.363797e+00</td>\n",
       "      <td>1.831782e+01</td>\n",
       "      <td>5.363873e+00</td>\n",
       "      <td>1.831763e+01</td>\n",
       "      <td>1.560361e+00</td>\n",
       "      <td>1.836009e+04</td>\n",
       "      <td>1.862263e+01</td>\n",
       "      <td>2.116097e+01</td>\n",
       "      <td>2.287457e+01</td>\n",
       "      <td>1.045286e+00</td>\n",
       "      <td>2.717546e+00</td>\n",
       "      <td>5.527454e+00</td>\n",
       "      <td>9.348831e-02</td>\n",
       "    </tr>\n",
       "    <tr>\n",
       "      <th>min</th>\n",
       "      <td>1.000000e+00</td>\n",
       "      <td>2.456603e+01</td>\n",
       "      <td>-1.245481e+02</td>\n",
       "      <td>2.456601e+01</td>\n",
       "      <td>-1.245457e+02</td>\n",
       "      <td>0.000000e+00</td>\n",
       "      <td>0.000000e+00</td>\n",
       "      <td>-8.900000e+01</td>\n",
       "      <td>-8.900000e+01</td>\n",
       "      <td>1.000000e+00</td>\n",
       "      <td>0.000000e+00</td>\n",
       "      <td>0.000000e+00</td>\n",
       "      <td>0.000000e+00</td>\n",
       "      <td>0.000000e+00</td>\n",
       "    </tr>\n",
       "    <tr>\n",
       "      <th>25%</th>\n",
       "      <td>2.000000e+00</td>\n",
       "      <td>3.344517e+01</td>\n",
       "      <td>-1.180331e+02</td>\n",
       "      <td>3.344628e+01</td>\n",
       "      <td>-1.180333e+02</td>\n",
       "      <td>5.200000e-02</td>\n",
       "      <td>1.270000e+03</td>\n",
       "      <td>5.000000e+01</td>\n",
       "      <td>4.600000e+01</td>\n",
       "      <td>4.800000e+01</td>\n",
       "      <td>2.931000e+01</td>\n",
       "      <td>1.000000e+01</td>\n",
       "      <td>3.500000e+00</td>\n",
       "      <td>0.000000e+00</td>\n",
       "    </tr>\n",
       "    <tr>\n",
       "      <th>50%</th>\n",
       "      <td>2.000000e+00</td>\n",
       "      <td>3.609861e+01</td>\n",
       "      <td>-9.241808e+01</td>\n",
       "      <td>3.609799e+01</td>\n",
       "      <td>-9.241772e+01</td>\n",
       "      <td>2.440000e-01</td>\n",
       "      <td>4.007000e+03</td>\n",
       "      <td>6.400000e+01</td>\n",
       "      <td>6.300000e+01</td>\n",
       "      <td>6.700000e+01</td>\n",
       "      <td>2.982000e+01</td>\n",
       "      <td>1.000000e+01</td>\n",
       "      <td>7.000000e+00</td>\n",
       "      <td>0.000000e+00</td>\n",
       "    </tr>\n",
       "    <tr>\n",
       "      <th>75%</th>\n",
       "      <td>2.000000e+00</td>\n",
       "      <td>4.016024e+01</td>\n",
       "      <td>-8.037243e+01</td>\n",
       "      <td>4.016105e+01</td>\n",
       "      <td>-8.037338e+01</td>\n",
       "      <td>7.640000e-01</td>\n",
       "      <td>9.567000e+03</td>\n",
       "      <td>7.600000e+01</td>\n",
       "      <td>7.600000e+01</td>\n",
       "      <td>8.300000e+01</td>\n",
       "      <td>3.001000e+01</td>\n",
       "      <td>1.000000e+01</td>\n",
       "      <td>1.000000e+01</td>\n",
       "      <td>0.000000e+00</td>\n",
       "    </tr>\n",
       "    <tr>\n",
       "      <th>max</th>\n",
       "      <td>4.000000e+00</td>\n",
       "      <td>4.900058e+01</td>\n",
       "      <td>-6.711317e+01</td>\n",
       "      <td>4.907500e+01</td>\n",
       "      <td>-6.710924e+01</td>\n",
       "      <td>1.551860e+02</td>\n",
       "      <td>9.999997e+06</td>\n",
       "      <td>1.960000e+02</td>\n",
       "      <td>1.960000e+02</td>\n",
       "      <td>1.000000e+02</td>\n",
       "      <td>5.890000e+01</td>\n",
       "      <td>1.400000e+02</td>\n",
       "      <td>1.087000e+03</td>\n",
       "      <td>2.400000e+01</td>\n",
       "    </tr>\n",
       "  </tbody>\n",
       "</table>\n",
       "</div>"
      ],
      "text/plain": [
       "           Severity     Start_Lat     Start_Lng       End_Lat       End_Lng  \\\n",
       "count  2.845342e+06  2.845342e+06  2.845342e+06  2.845342e+06  2.845342e+06   \n",
       "mean   2.137572e+00  3.624520e+01 -9.711463e+01  3.624532e+01 -9.711439e+01   \n",
       "std    4.787216e-01  5.363797e+00  1.831782e+01  5.363873e+00  1.831763e+01   \n",
       "min    1.000000e+00  2.456603e+01 -1.245481e+02  2.456601e+01 -1.245457e+02   \n",
       "25%    2.000000e+00  3.344517e+01 -1.180331e+02  3.344628e+01 -1.180333e+02   \n",
       "50%    2.000000e+00  3.609861e+01 -9.241808e+01  3.609799e+01 -9.241772e+01   \n",
       "75%    2.000000e+00  4.016024e+01 -8.037243e+01  4.016105e+01 -8.037338e+01   \n",
       "max    4.000000e+00  4.900058e+01 -6.711317e+01  4.907500e+01 -6.710924e+01   \n",
       "\n",
       "       Distance(mi)        Number  Temperature(F)  Wind_Chill(F)  \\\n",
       "count  2.845342e+06  1.101431e+06    2.776068e+06   2.375699e+06   \n",
       "mean   7.026779e-01  8.089408e+03    6.179356e+01   5.965823e+01   \n",
       "std    1.560361e+00  1.836009e+04    1.862263e+01   2.116097e+01   \n",
       "min    0.000000e+00  0.000000e+00   -8.900000e+01  -8.900000e+01   \n",
       "25%    5.200000e-02  1.270000e+03    5.000000e+01   4.600000e+01   \n",
       "50%    2.440000e-01  4.007000e+03    6.400000e+01   6.300000e+01   \n",
       "75%    7.640000e-01  9.567000e+03    7.600000e+01   7.600000e+01   \n",
       "max    1.551860e+02  9.999997e+06    1.960000e+02   1.960000e+02   \n",
       "\n",
       "        Humidity(%)  Pressure(in)  Visibility(mi)  Wind_Speed(mph)  \\\n",
       "count  2.772250e+06  2.786142e+06    2.774796e+06     2.687398e+06   \n",
       "mean   6.436545e+01  2.947234e+01    9.099391e+00     7.395044e+00   \n",
       "std    2.287457e+01  1.045286e+00    2.717546e+00     5.527454e+00   \n",
       "min    1.000000e+00  0.000000e+00    0.000000e+00     0.000000e+00   \n",
       "25%    4.800000e+01  2.931000e+01    1.000000e+01     3.500000e+00   \n",
       "50%    6.700000e+01  2.982000e+01    1.000000e+01     7.000000e+00   \n",
       "75%    8.300000e+01  3.001000e+01    1.000000e+01     1.000000e+01   \n",
       "max    1.000000e+02  5.890000e+01    1.400000e+02     1.087000e+03   \n",
       "\n",
       "       Precipitation(in)  \n",
       "count       2.295884e+06  \n",
       "mean        7.016940e-03  \n",
       "std         9.348831e-02  \n",
       "min         0.000000e+00  \n",
       "25%         0.000000e+00  \n",
       "50%         0.000000e+00  \n",
       "75%         0.000000e+00  \n",
       "max         2.400000e+01  "
      ]
     },
     "execution_count": 5,
     "metadata": {},
     "output_type": "execute_result"
    }
   ],
   "source": [
    "raw_data.describe()"
   ]
  },
  {
   "cell_type": "code",
   "execution_count": 6,
   "id": "b14ab812",
   "metadata": {},
   "outputs": [
    {
     "data": {
      "text/plain": [
       "Number                   1743911\n",
       "Precipitation(in)         549458\n",
       "Wind_Chill(F)             469643\n",
       "Wind_Speed(mph)           157944\n",
       "Wind_Direction             73775\n",
       "Humidity(%)                73092\n",
       "Weather_Condition          70636\n",
       "Visibility(mi)             70546\n",
       "Temperature(F)             69274\n",
       "Pressure(in)               59200\n",
       "Weather_Timestamp          50736\n",
       "Airport_Code                9549\n",
       "Timezone                    3659\n",
       "Nautical_Twilight           2867\n",
       "Civil_Twilight              2867\n",
       "Sunrise_Sunset              2867\n",
       "Astronomical_Twilight       2867\n",
       "Zipcode                     1319\n",
       "City                         137\n",
       "Street                         2\n",
       "Country                        0\n",
       "Junction                       0\n",
       "Start_Time                     0\n",
       "End_Time                       0\n",
       "Start_Lat                      0\n",
       "Turning_Loop                   0\n",
       "Traffic_Signal                 0\n",
       "Traffic_Calming                0\n",
       "Stop                           0\n",
       "Station                        0\n",
       "Roundabout                     0\n",
       "Railway                        0\n",
       "No_Exit                        0\n",
       "Crossing                       0\n",
       "Give_Way                       0\n",
       "Bump                           0\n",
       "Amenity                        0\n",
       "Start_Lng                      0\n",
       "End_Lat                        0\n",
       "End_Lng                        0\n",
       "Distance(mi)                   0\n",
       "Description                    0\n",
       "Severity                       0\n",
       "Side                           0\n",
       "County                         0\n",
       "State                          0\n",
       "ID                             0\n",
       "dtype: int64"
      ]
     },
     "execution_count": 6,
     "metadata": {},
     "output_type": "execute_result"
    }
   ],
   "source": [
    "np.sum(raw_data.isnull()).sort_values(ascending=False)"
   ]
  },
  {
   "cell_type": "code",
   "execution_count": 7,
   "id": "211a651b",
   "metadata": {},
   "outputs": [
    {
     "data": {
      "text/plain": [
       "Number                   6.129003e-01\n",
       "Precipitation(in)        1.931079e-01\n",
       "Wind_Chill(F)            1.650568e-01\n",
       "Wind_Speed(mph)          5.550967e-02\n",
       "Wind_Direction           2.592834e-02\n",
       "Humidity(%)              2.568830e-02\n",
       "Weather_Condition        2.482514e-02\n",
       "Visibility(mi)           2.479350e-02\n",
       "Temperature(F)           2.434646e-02\n",
       "Pressure(in)             2.080593e-02\n",
       "Weather_Timestamp        1.783125e-02\n",
       "Airport_Code             3.356011e-03\n",
       "Timezone                 1.285961e-03\n",
       "Nautical_Twilight        1.007612e-03\n",
       "Civil_Twilight           1.007612e-03\n",
       "Sunrise_Sunset           1.007612e-03\n",
       "Astronomical_Twilight    1.007612e-03\n",
       "Zipcode                  4.635647e-04\n",
       "City                     4.814887e-05\n",
       "Street                   7.029032e-07\n",
       "Country                  0.000000e+00\n",
       "Junction                 0.000000e+00\n",
       "Start_Time               0.000000e+00\n",
       "End_Time                 0.000000e+00\n",
       "Start_Lat                0.000000e+00\n",
       "Turning_Loop             0.000000e+00\n",
       "Traffic_Signal           0.000000e+00\n",
       "Traffic_Calming          0.000000e+00\n",
       "Stop                     0.000000e+00\n",
       "Station                  0.000000e+00\n",
       "Roundabout               0.000000e+00\n",
       "Railway                  0.000000e+00\n",
       "No_Exit                  0.000000e+00\n",
       "Crossing                 0.000000e+00\n",
       "Give_Way                 0.000000e+00\n",
       "Bump                     0.000000e+00\n",
       "Amenity                  0.000000e+00\n",
       "Start_Lng                0.000000e+00\n",
       "End_Lat                  0.000000e+00\n",
       "End_Lng                  0.000000e+00\n",
       "Distance(mi)             0.000000e+00\n",
       "Description              0.000000e+00\n",
       "Severity                 0.000000e+00\n",
       "Side                     0.000000e+00\n",
       "County                   0.000000e+00\n",
       "State                    0.000000e+00\n",
       "ID                       0.000000e+00\n",
       "dtype: float64"
      ]
     },
     "execution_count": 7,
     "metadata": {},
     "output_type": "execute_result"
    }
   ],
   "source": [
    "percentage_of_missing_values = np.sum(raw_data.isnull()).sort_values(ascending=False) / len(raw_data)\n",
    "percentage_of_missing_values"
   ]
  },
  {
   "cell_type": "code",
   "execution_count": 8,
   "id": "34feb511",
   "metadata": {},
   "outputs": [
    {
     "data": {
      "text/plain": [
       "<AxesSubplot:>"
      ]
     },
     "execution_count": 8,
     "metadata": {},
     "output_type": "execute_result"
    },
    {
     "data": {
      "image/png": "[encoded data removed]",
      "text/plain": [
       "<Figure size 432x288 with 1 Axes>"
      ]
     },
     "metadata": {
      "needs_background": "light"
     },
     "output_type": "display_data"
    }
   ],
   "source": [
    "percentage_of_missing_values[percentage_of_missing_values!=0].plot(kind='barh')"
   ]
  },
  {
   "cell_type": "code",
   "execution_count": 9,
   "id": "74b79d0d",
   "metadata": {},
   "outputs": [
    {
     "data": {
      "text/html": [
       "<div>\n",
       "<style scoped>\n",
       "    .dataframe tbody tr th:only-of-type {\n",
       "        vertical-align: middle;\n",
       "    }\n",
       "\n",
       "    .dataframe tbody tr th {\n",
       "        vertical-align: top;\n",
       "    }\n",
       "\n",
       "    .dataframe thead th {\n",
       "        text-align: right;\n",
       "    }\n",
       "</style>\n",
       "<table border=\"1\" class=\"dataframe\">\n",
       "  <thead>\n",
       "    <tr style=\"text-align: right;\">\n",
       "      <th></th>\n",
       "      <th>ID</th>\n",
       "      <th>Severity</th>\n",
       "      <th>Start_Time</th>\n",
       "      <th>End_Time</th>\n",
       "      <th>Start_Lat</th>\n",
       "      <th>Start_Lng</th>\n",
       "      <th>End_Lat</th>\n",
       "      <th>End_Lng</th>\n",
       "      <th>Distance(mi)</th>\n",
       "      <th>Description</th>\n",
       "      <th>...</th>\n",
       "      <th>Roundabout</th>\n",
       "      <th>Station</th>\n",
       "      <th>Stop</th>\n",
       "      <th>Traffic_Calming</th>\n",
       "      <th>Traffic_Signal</th>\n",
       "      <th>Turning_Loop</th>\n",
       "      <th>Sunrise_Sunset</th>\n",
       "      <th>Civil_Twilight</th>\n",
       "      <th>Nautical_Twilight</th>\n",
       "      <th>Astronomical_Twilight</th>\n",
       "    </tr>\n",
       "  </thead>\n",
       "  <tbody>\n",
       "    <tr>\n",
       "      <th>0</th>\n",
       "      <td>A-1</td>\n",
       "      <td>3</td>\n",
       "      <td>2016-02-08 00:37:08</td>\n",
       "      <td>2016-02-08 06:37:08</td>\n",
       "      <td>40.108910</td>\n",
       "      <td>-83.092860</td>\n",
       "      <td>40.112060</td>\n",
       "      <td>-83.031870</td>\n",
       "      <td>3.230</td>\n",
       "      <td>Between Sawmill Rd/Exit 20 and OH-315/Olentang...</td>\n",
       "      <td>...</td>\n",
       "      <td>False</td>\n",
       "      <td>False</td>\n",
       "      <td>False</td>\n",
       "      <td>False</td>\n",
       "      <td>False</td>\n",
       "      <td>False</td>\n",
       "      <td>Night</td>\n",
       "      <td>Night</td>\n",
       "      <td>Night</td>\n",
       "      <td>Night</td>\n",
       "    </tr>\n",
       "    <tr>\n",
       "      <th>1</th>\n",
       "      <td>A-2</td>\n",
       "      <td>2</td>\n",
       "      <td>2016-02-08 05:56:20</td>\n",
       "      <td>2016-02-08 11:56:20</td>\n",
       "      <td>39.865420</td>\n",
       "      <td>-84.062800</td>\n",
       "      <td>39.865010</td>\n",
       "      <td>-84.048730</td>\n",
       "      <td>0.747</td>\n",
       "      <td>At OH-4/OH-235/Exit 41 - Accident.</td>\n",
       "      <td>...</td>\n",
       "      <td>False</td>\n",
       "      <td>False</td>\n",
       "      <td>False</td>\n",
       "      <td>False</td>\n",
       "      <td>False</td>\n",
       "      <td>False</td>\n",
       "      <td>Night</td>\n",
       "      <td>Night</td>\n",
       "      <td>Night</td>\n",
       "      <td>Night</td>\n",
       "    </tr>\n",
       "    <tr>\n",
       "      <th>2</th>\n",
       "      <td>A-3</td>\n",
       "      <td>2</td>\n",
       "      <td>2016-02-08 06:15:39</td>\n",
       "      <td>2016-02-08 12:15:39</td>\n",
       "      <td>39.102660</td>\n",
       "      <td>-84.524680</td>\n",
       "      <td>39.102090</td>\n",
       "      <td>-84.523960</td>\n",
       "      <td>0.055</td>\n",
       "      <td>At I-71/US-50/Exit 1 - Accident.</td>\n",
       "      <td>...</td>\n",
       "      <td>False</td>\n",
       "      <td>False</td>\n",
       "      <td>False</td>\n",
       "      <td>False</td>\n",
       "      <td>False</td>\n",
       "      <td>False</td>\n",
       "      <td>Night</td>\n",
       "      <td>Night</td>\n",
       "      <td>Night</td>\n",
       "      <td>Day</td>\n",
       "    </tr>\n",
       "    <tr>\n",
       "      <th>3</th>\n",
       "      <td>A-4</td>\n",
       "      <td>2</td>\n",
       "      <td>2016-02-08 06:51:45</td>\n",
       "      <td>2016-02-08 12:51:45</td>\n",
       "      <td>41.062130</td>\n",
       "      <td>-81.537840</td>\n",
       "      <td>41.062170</td>\n",
       "      <td>-81.535470</td>\n",
       "      <td>0.123</td>\n",
       "      <td>At Dart Ave/Exit 21 - Accident.</td>\n",
       "      <td>...</td>\n",
       "      <td>False</td>\n",
       "      <td>False</td>\n",
       "      <td>False</td>\n",
       "      <td>False</td>\n",
       "      <td>False</td>\n",
       "      <td>False</td>\n",
       "      <td>Night</td>\n",
       "      <td>Night</td>\n",
       "      <td>Day</td>\n",
       "      <td>Day</td>\n",
       "    </tr>\n",
       "    <tr>\n",
       "      <th>4</th>\n",
       "      <td>A-5</td>\n",
       "      <td>3</td>\n",
       "      <td>2016-02-08 07:53:43</td>\n",
       "      <td>2016-02-08 13:53:43</td>\n",
       "      <td>39.172393</td>\n",
       "      <td>-84.492792</td>\n",
       "      <td>39.170476</td>\n",
       "      <td>-84.501798</td>\n",
       "      <td>0.500</td>\n",
       "      <td>At Mitchell Ave/Exit 6 - Accident.</td>\n",
       "      <td>...</td>\n",
       "      <td>False</td>\n",
       "      <td>False</td>\n",
       "      <td>False</td>\n",
       "      <td>False</td>\n",
       "      <td>False</td>\n",
       "      <td>False</td>\n",
       "      <td>Day</td>\n",
       "      <td>Day</td>\n",
       "      <td>Day</td>\n",
       "      <td>Day</td>\n",
       "    </tr>\n",
       "    <tr>\n",
       "      <th>...</th>\n",
       "      <td>...</td>\n",
       "      <td>...</td>\n",
       "      <td>...</td>\n",
       "      <td>...</td>\n",
       "      <td>...</td>\n",
       "      <td>...</td>\n",
       "      <td>...</td>\n",
       "      <td>...</td>\n",
       "      <td>...</td>\n",
       "      <td>...</td>\n",
       "      <td>...</td>\n",
       "      <td>...</td>\n",
       "      <td>...</td>\n",
       "      <td>...</td>\n",
       "      <td>...</td>\n",
       "      <td>...</td>\n",
       "      <td>...</td>\n",
       "      <td>...</td>\n",
       "      <td>...</td>\n",
       "      <td>...</td>\n",
       "      <td>...</td>\n",
       "    </tr>\n",
       "    <tr>\n",
       "      <th>2845337</th>\n",
       "      <td>A-2845338</td>\n",
       "      <td>2</td>\n",
       "      <td>2019-08-23 18:03:25</td>\n",
       "      <td>2019-08-23 18:32:01</td>\n",
       "      <td>34.002480</td>\n",
       "      <td>-117.379360</td>\n",
       "      <td>33.998880</td>\n",
       "      <td>-117.370940</td>\n",
       "      <td>0.543</td>\n",
       "      <td>At Market St - Accident.</td>\n",
       "      <td>...</td>\n",
       "      <td>False</td>\n",
       "      <td>False</td>\n",
       "      <td>False</td>\n",
       "      <td>False</td>\n",
       "      <td>False</td>\n",
       "      <td>False</td>\n",
       "      <td>Day</td>\n",
       "      <td>Day</td>\n",
       "      <td>Day</td>\n",
       "      <td>Day</td>\n",
       "    </tr>\n",
       "    <tr>\n",
       "      <th>2845338</th>\n",
       "      <td>A-2845339</td>\n",
       "      <td>2</td>\n",
       "      <td>2019-08-23 19:11:30</td>\n",
       "      <td>2019-08-23 19:38:23</td>\n",
       "      <td>32.766960</td>\n",
       "      <td>-117.148060</td>\n",
       "      <td>32.765550</td>\n",
       "      <td>-117.153630</td>\n",
       "      <td>0.338</td>\n",
       "      <td>At Camino Del Rio/Mission Center Rd - Accident.</td>\n",
       "      <td>...</td>\n",
       "      <td>False</td>\n",
       "      <td>False</td>\n",
       "      <td>False</td>\n",
       "      <td>False</td>\n",
       "      <td>False</td>\n",
       "      <td>False</td>\n",
       "      <td>Day</td>\n",
       "      <td>Day</td>\n",
       "      <td>Day</td>\n",
       "      <td>Day</td>\n",
       "    </tr>\n",
       "    <tr>\n",
       "      <th>2845339</th>\n",
       "      <td>A-2845340</td>\n",
       "      <td>2</td>\n",
       "      <td>2019-08-23 19:00:21</td>\n",
       "      <td>2019-08-23 19:28:49</td>\n",
       "      <td>33.775450</td>\n",
       "      <td>-117.847790</td>\n",
       "      <td>33.777400</td>\n",
       "      <td>-117.857270</td>\n",
       "      <td>0.561</td>\n",
       "      <td>At Glassell St/Grand Ave - Accident. in the ri...</td>\n",
       "      <td>...</td>\n",
       "      <td>False</td>\n",
       "      <td>False</td>\n",
       "      <td>False</td>\n",
       "      <td>False</td>\n",
       "      <td>False</td>\n",
       "      <td>False</td>\n",
       "      <td>Day</td>\n",
       "      <td>Day</td>\n",
       "      <td>Day</td>\n",
       "      <td>Day</td>\n",
       "    </tr>\n",
       "    <tr>\n",
       "      <th>2845340</th>\n",
       "      <td>A-2845341</td>\n",
       "      <td>2</td>\n",
       "      <td>2019-08-23 19:00:21</td>\n",
       "      <td>2019-08-23 19:29:42</td>\n",
       "      <td>33.992460</td>\n",
       "      <td>-118.403020</td>\n",
       "      <td>33.983110</td>\n",
       "      <td>-118.395650</td>\n",
       "      <td>0.772</td>\n",
       "      <td>At CA-90/Marina Fwy/Jefferson Blvd - Accident.</td>\n",
       "      <td>...</td>\n",
       "      <td>False</td>\n",
       "      <td>False</td>\n",
       "      <td>False</td>\n",
       "      <td>False</td>\n",
       "      <td>False</td>\n",
       "      <td>False</td>\n",
       "      <td>Day</td>\n",
       "      <td>Day</td>\n",
       "      <td>Day</td>\n",
       "      <td>Day</td>\n",
       "    </tr>\n",
       "    <tr>\n",
       "      <th>2845341</th>\n",
       "      <td>A-2845342</td>\n",
       "      <td>2</td>\n",
       "      <td>2019-08-23 18:52:06</td>\n",
       "      <td>2019-08-23 19:21:31</td>\n",
       "      <td>34.133930</td>\n",
       "      <td>-117.230920</td>\n",
       "      <td>34.137360</td>\n",
       "      <td>-117.239340</td>\n",
       "      <td>0.537</td>\n",
       "      <td>At Highland Ave/Arden Ave - Accident.</td>\n",
       "      <td>...</td>\n",
       "      <td>False</td>\n",
       "      <td>False</td>\n",
       "      <td>False</td>\n",
       "      <td>False</td>\n",
       "      <td>False</td>\n",
       "      <td>False</td>\n",
       "      <td>Day</td>\n",
       "      <td>Day</td>\n",
       "      <td>Day</td>\n",
       "      <td>Day</td>\n",
       "    </tr>\n",
       "  </tbody>\n",
       "</table>\n",
       "<p>2845342 rows × 46 columns</p>\n",
       "</div>"
      ],
      "text/plain": [
       "                ID  Severity           Start_Time             End_Time  \\\n",
       "0              A-1         3  2016-02-08 00:37:08  2016-02-08 06:37:08   \n",
       "1              A-2         2  2016-02-08 05:56:20  2016-02-08 11:56:20   \n",
       "2              A-3         2  2016-02-08 06:15:39  2016-02-08 12:15:39   \n",
       "3              A-4         2  2016-02-08 06:51:45  2016-02-08 12:51:45   \n",
       "4              A-5         3  2016-02-08 07:53:43  2016-02-08 13:53:43   \n",
       "...            ...       ...                  ...                  ...   \n",
       "2845337  A-2845338         2  2019-08-23 18:03:25  2019-08-23 18:32:01   \n",
       "2845338  A-2845339         2  2019-08-23 19:11:30  2019-08-23 19:38:23   \n",
       "2845339  A-2845340         2  2019-08-23 19:00:21  2019-08-23 19:28:49   \n",
       "2845340  A-2845341         2  2019-08-23 19:00:21  2019-08-23 19:29:42   \n",
       "2845341  A-2845342         2  2019-08-23 18:52:06  2019-08-23 19:21:31   \n",
       "\n",
       "         Start_Lat   Start_Lng    End_Lat     End_Lng  Distance(mi)  \\\n",
       "0        40.108910  -83.092860  40.112060  -83.031870         3.230   \n",
       "1        39.865420  -84.062800  39.865010  -84.048730         0.747   \n",
       "2        39.102660  -84.524680  39.102090  -84.523960         0.055   \n",
       "3        41.062130  -81.537840  41.062170  -81.535470         0.123   \n",
       "4        39.172393  -84.492792  39.170476  -84.501798         0.500   \n",
       "...            ...         ...        ...         ...           ...   \n",
       "2845337  34.002480 -117.379360  33.998880 -117.370940         0.543   \n",
       "2845338  32.766960 -117.148060  32.765550 -117.153630         0.338   \n",
       "2845339  33.775450 -117.847790  33.777400 -117.857270         0.561   \n",
       "2845340  33.992460 -118.403020  33.983110 -118.395650         0.772   \n",
       "2845341  34.133930 -117.230920  34.137360 -117.239340         0.537   \n",
       "\n",
       "                                               Description  ... Roundabout  \\\n",
       "0        Between Sawmill Rd/Exit 20 and OH-315/Olentang...  ...      False   \n",
       "1                       At OH-4/OH-235/Exit 41 - Accident.  ...      False   \n",
       "2                         At I-71/US-50/Exit 1 - Accident.  ...      False   \n",
       "3                          At Dart Ave/Exit 21 - Accident.  ...      False   \n",
       "4                       At Mitchell Ave/Exit 6 - Accident.  ...      False   \n",
       "...                                                    ...  ...        ...   \n",
       "2845337                           At Market St - Accident.  ...      False   \n",
       "2845338    At Camino Del Rio/Mission Center Rd - Accident.  ...      False   \n",
       "2845339  At Glassell St/Grand Ave - Accident. in the ri...  ...      False   \n",
       "2845340     At CA-90/Marina Fwy/Jefferson Blvd - Accident.  ...      False   \n",
       "2845341              At Highland Ave/Arden Ave - Accident.  ...      False   \n",
       "\n",
       "        Station   Stop Traffic_Calming Traffic_Signal Turning_Loop  \\\n",
       "0         False  False           False          False        False   \n",
       "1         False  False           False          False        False   \n",
       "2         False  False           False          False        False   \n",
       "3         False  False           False          False        False   \n",
       "4         False  False           False          False        False   \n",
       "...         ...    ...             ...            ...          ...   \n",
       "2845337   False  False           False          False        False   \n",
       "2845338   False  False           False          False        False   \n",
       "2845339   False  False           False          False        False   \n",
       "2845340   False  False           False          False        False   \n",
       "2845341   False  False           False          False        False   \n",
       "\n",
       "        Sunrise_Sunset Civil_Twilight Nautical_Twilight Astronomical_Twilight  \n",
       "0                Night          Night             Night                 Night  \n",
       "1                Night          Night             Night                 Night  \n",
       "2                Night          Night             Night                   Day  \n",
       "3                Night          Night               Day                   Day  \n",
       "4                  Day            Day               Day                   Day  \n",
       "...                ...            ...               ...                   ...  \n",
       "2845337            Day            Day               Day                   Day  \n",
       "2845338            Day            Day               Day                   Day  \n",
       "2845339            Day            Day               Day                   Day  \n",
       "2845340            Day            Day               Day                   Day  \n",
       "2845341            Day            Day               Day                   Day  \n",
       "\n",
       "[2845342 rows x 46 columns]"
      ]
     },
     "execution_count": 9,
     "metadata": {},
     "output_type": "execute_result"
    }
   ],
   "source": [
    "data = raw_data.drop('Number',axis=1)\n",
    "data"
   ]
  },
  {
   "cell_type": "code",
   "execution_count": 10,
   "id": "13ac6e7f",
   "metadata": {},
   "outputs": [
    {
     "data": {
      "text/plain": [
       "Precipitation(in)        1.931079e-01\n",
       "Wind_Chill(F)            1.650568e-01\n",
       "Wind_Speed(mph)          5.550967e-02\n",
       "Wind_Direction           2.592834e-02\n",
       "Humidity(%)              2.568830e-02\n",
       "Weather_Condition        2.482514e-02\n",
       "Visibility(mi)           2.479350e-02\n",
       "Temperature(F)           2.434646e-02\n",
       "Pressure(in)             2.080593e-02\n",
       "Weather_Timestamp        1.783125e-02\n",
       "Airport_Code             3.356011e-03\n",
       "Timezone                 1.285961e-03\n",
       "Nautical_Twilight        1.007612e-03\n",
       "Civil_Twilight           1.007612e-03\n",
       "Sunrise_Sunset           1.007612e-03\n",
       "Astronomical_Twilight    1.007612e-03\n",
       "Zipcode                  4.635647e-04\n",
       "City                     4.814887e-05\n",
       "Street                   7.029032e-07\n",
       "Country                  0.000000e+00\n",
       "Junction                 0.000000e+00\n",
       "Start_Time               0.000000e+00\n",
       "End_Time                 0.000000e+00\n",
       "Start_Lat                0.000000e+00\n",
       "Turning_Loop             0.000000e+00\n",
       "Traffic_Signal           0.000000e+00\n",
       "Traffic_Calming          0.000000e+00\n",
       "Stop                     0.000000e+00\n",
       "Station                  0.000000e+00\n",
       "Roundabout               0.000000e+00\n",
       "Railway                  0.000000e+00\n",
       "No_Exit                  0.000000e+00\n",
       "Crossing                 0.000000e+00\n",
       "Give_Way                 0.000000e+00\n",
       "Bump                     0.000000e+00\n",
       "Amenity                  0.000000e+00\n",
       "Start_Lng                0.000000e+00\n",
       "End_Lat                  0.000000e+00\n",
       "End_Lng                  0.000000e+00\n",
       "Distance(mi)             0.000000e+00\n",
       "Description              0.000000e+00\n",
       "Severity                 0.000000e+00\n",
       "Side                     0.000000e+00\n",
       "County                   0.000000e+00\n",
       "State                    0.000000e+00\n",
       "ID                       0.000000e+00\n",
       "dtype: float64"
      ]
     },
     "execution_count": 10,
     "metadata": {},
     "output_type": "execute_result"
    }
   ],
   "source": [
    "percentage_of_missing_values = np.sum(data.isnull()).sort_values(ascending=False)/ len(data)\n",
    "percentage_of_missing_values"
   ]
  },
  {
   "cell_type": "code",
   "execution_count": 11,
   "id": "d2ab993c",
   "metadata": {},
   "outputs": [
    {
     "data": {
      "text/plain": [
       "<AxesSubplot:>"
      ]
     },
     "execution_count": 11,
     "metadata": {},
     "output_type": "execute_result"
    },
    {
     "data": {
      "image/png": "[encoded data removed]",
      "text/plain": [
       "<Figure size 432x288 with 1 Axes>"
      ]
     },
     "metadata": {
      "needs_background": "light"
     },
     "output_type": "display_data"
    }
   ],
   "source": [
    "percentage_of_missing_values[percentage_of_missing_values!=0].plot(kind='barh')"
   ]
  },
  {
   "cell_type": "code",
   "execution_count": 12,
   "id": "b56ebfe0",
   "metadata": {},
   "outputs": [
    {
     "data": {
      "text/plain": [
       "Index(['ID', 'Severity', 'Start_Time', 'End_Time', 'Start_Lat', 'Start_Lng',\n",
       "       'End_Lat', 'End_Lng', 'Distance(mi)', 'Description', 'Street', 'Side',\n",
       "       'City', 'County', 'State', 'Zipcode', 'Country', 'Timezone',\n",
       "       'Airport_Code', 'Weather_Timestamp', 'Temperature(F)', 'Wind_Chill(F)',\n",
       "       'Humidity(%)', 'Pressure(in)', 'Visibility(mi)', 'Wind_Direction',\n",
       "       'Wind_Speed(mph)', 'Precipitation(in)', 'Weather_Condition', 'Amenity',\n",
       "       'Bump', 'Crossing', 'Give_Way', 'Junction', 'No_Exit', 'Railway',\n",
       "       'Roundabout', 'Station', 'Stop', 'Traffic_Calming', 'Traffic_Signal',\n",
       "       'Turning_Loop', 'Sunrise_Sunset', 'Civil_Twilight', 'Nautical_Twilight',\n",
       "       'Astronomical_Twilight'],\n",
       "      dtype='object')"
      ]
     },
     "execution_count": 12,
     "metadata": {},
     "output_type": "execute_result"
    }
   ],
   "source": [
    "data.columns"
   ]
  },
  {
   "cell_type": "code",
   "execution_count": 13,
   "id": "37262a21",
   "metadata": {},
   "outputs": [
    {
     "data": {
      "text/plain": [
       "0               Dublin\n",
       "1               Dayton\n",
       "2           Cincinnati\n",
       "3                Akron\n",
       "4           Cincinnati\n",
       "              ...     \n",
       "2845337      Riverside\n",
       "2845338      San Diego\n",
       "2845339         Orange\n",
       "2845340    Culver City\n",
       "2845341       Highland\n",
       "Name: City, Length: 2845342, dtype: object"
      ]
     },
     "execution_count": 13,
     "metadata": {},
     "output_type": "execute_result"
    }
   ],
   "source": [
    "data.City"
   ]
  },
  {
   "cell_type": "code",
   "execution_count": 14,
   "id": "8a2044b0",
   "metadata": {},
   "outputs": [
    {
     "name": "stdout",
     "output_type": "stream",
     "text": [
      "total number of cities  11682\n"
     ]
    }
   ],
   "source": [
    "cities = data.City.unique()\n",
    "total_cities = len(cities)\n",
    "print('total number of cities ',total_cities)"
   ]
  },
  {
   "cell_type": "code",
   "execution_count": 15,
   "id": "8f7eb470",
   "metadata": {},
   "outputs": [
    {
     "data": {
      "text/plain": [
       "Miami          106966\n",
       "Los Angeles     68956\n",
       "Orlando         54691\n",
       "Dallas          41979\n",
       "Houston         39448\n",
       "                ...  \n",
       "Chenoa              1\n",
       "Township 9          1\n",
       "Chauncey            1\n",
       "Germfask            1\n",
       "De Berry            1\n",
       "Name: City, Length: 11681, dtype: int64"
      ]
     },
     "execution_count": 15,
     "metadata": {},
     "output_type": "execute_result"
    }
   ],
   "source": [
    "cities_by_accident = data.City.value_counts()\n",
    "cities_by_accident"
   ]
  },
  {
   "cell_type": "code",
   "execution_count": 16,
   "id": "73a85270",
   "metadata": {},
   "outputs": [
    {
     "data": {
      "text/plain": [
       "<AxesSubplot:>"
      ]
     },
     "execution_count": 16,
     "metadata": {},
     "output_type": "execute_result"
    },
    {
     "data": {
      "image/png": "[encoded data removed]",
      "text/plain": [
       "<Figure size 432x288 with 1 Axes>"
      ]
     },
     "metadata": {
      "needs_background": "light"
     },
     "output_type": "display_data"
    }
   ],
   "source": [
    "cities_by_accident[:15].plot(kind='barh')"
   ]
  },
  {
   "cell_type": "code",
   "execution_count": 17,
   "id": "a44bf080",
   "metadata": {},
   "outputs": [
    {
     "data": {
      "text/plain": [
       "<AxesSubplot:xlabel='City', ylabel='Count'>"
      ]
     },
     "execution_count": 17,
     "metadata": {},
     "output_type": "execute_result"
    },
    {
     "data": {
      "image/png": "[encoded data removed]",
      "text/plain": [
       "<Figure size 432x288 with 1 Axes>"
      ]
     },
     "metadata": {},
     "output_type": "display_data"
    }
   ],
   "source": [
    "import seaborn as sns\n",
    "sns.set_style(\"darkgrid\")\n",
    "sns.histplot(cities_by_accident, log_scale=True,color = 'black')"
   ]
  },
  {
   "cell_type": "code",
   "execution_count": 18,
   "id": "cd18e287",
   "metadata": {},
   "outputs": [],
   "source": [
    "df = data[['Severity','Start_Time','End_Time','Start_Lat', 'Start_Lng',\n",
    "       'End_Lat', 'End_Lng', 'Distance(mi)','Side', 'Street','City', 'County', 'State',\n",
    "              'Country','Wind_Chill(F)','Humidity(%)', 'Pressure(in)', 'Visibility(mi)',\n",
    "             'Wind_Speed(mph)', 'Precipitation(in)', 'Sunrise_Sunset']].copy()\n",
    "\n",
    "df['Start_Time'] = pd.to_datetime(df['Start_Time'])\n",
    "df['End_Time'] = pd.to_datetime(df['End_Time'])"
   ]
  },
  {
   "cell_type": "code",
   "execution_count": 19,
   "id": "0c002ea4",
   "metadata": {},
   "outputs": [],
   "source": [
    "year = df.Start_Time.dt.year"
   ]
  },
  {
   "cell_type": "code",
   "execution_count": 20,
   "id": "d2915c8b",
   "metadata": {},
   "outputs": [],
   "source": [
    "accidents_per_year = year.value_counts()"
   ]
  },
  {
   "cell_type": "code",
   "execution_count": 21,
   "id": "d07585e3",
   "metadata": {},
   "outputs": [
    {
     "name": "stderr",
     "output_type": "stream",
     "text": [
      "G:\\anaconda\\lib\\site-packages\\seaborn\\distributions.py:2557: FutureWarning: `distplot` is a deprecated function and will be removed in a future version. Please adapt your code to use either `displot` (a figure-level function with similar flexibility) or `histplot` (an axes-level function for histograms).\n",
      "  warnings.warn(msg, FutureWarning)\n"
     ]
    },
    {
     "data": {
      "text/plain": [
       "<AxesSubplot:xlabel='Start_Time'>"
      ]
     },
     "execution_count": 21,
     "metadata": {},
     "output_type": "execute_result"
    },
    {
     "data": {
      "image/png": "[encoded data removed]",
      "text/plain": [
       "<Figure size 432x288 with 1 Axes>"
      ]
     },
     "metadata": {},
     "output_type": "display_data"
    }
   ],
   "source": [
    "sns.distplot(year, bins=6, kde=False, norm_hist=True)"
   ]
  },
  {
   "cell_type": "code",
   "execution_count": 22,
   "id": "463eec83",
   "metadata": {},
   "outputs": [
    {
     "data": {
      "text/plain": [
       "12    473943\n",
       "11    360696\n",
       "10    299131\n",
       "9     241822\n",
       "6     226561\n",
       "1     198365\n",
       "2     194995\n",
       "5     181944\n",
       "8     178670\n",
       "4     171880\n",
       "7     159111\n",
       "3     158224\n",
       "Name: Start_Time, dtype: int64"
      ]
     },
     "execution_count": 22,
     "metadata": {},
     "output_type": "execute_result"
    }
   ],
   "source": [
    "month = df.Start_Time.dt.month\n",
    "month.value_counts()"
   ]
  },
  {
   "cell_type": "code",
   "execution_count": 23,
   "id": "3cef3d59",
   "metadata": {},
   "outputs": [
    {
     "data": {
      "text/plain": [
       "<AxesSubplot:xlabel='Start_Time'>"
      ]
     },
     "execution_count": 23,
     "metadata": {},
     "output_type": "execute_result"
    },
    {
     "data": {
      "image/png": "[encoded data removed]",
      "text/plain": [
       "<Figure size 432x288 with 1 Axes>"
      ]
     },
     "metadata": {},
     "output_type": "display_data"
    }
   ],
   "source": [
    "sns.distplot(month, bins=12, kde=False, norm_hist=True)"
   ]
  },
  {
   "cell_type": "code",
   "execution_count": 24,
   "id": "773bafce",
   "metadata": {},
   "outputs": [
    {
     "data": {
      "text/plain": [
       "4    492074\n",
       "3    463477\n",
       "2    455037\n",
       "1    443968\n",
       "0    419821\n",
       "5    311691\n",
       "6    259274\n",
       "Name: Start_Time, dtype: int64"
      ]
     },
     "execution_count": 24,
     "metadata": {},
     "output_type": "execute_result"
    }
   ],
   "source": [
    "days = df.Start_Time.dt.dayofweek\n",
    "days.value_counts()"
   ]
  },
  {
   "cell_type": "code",
   "execution_count": 25,
   "id": "bd250137",
   "metadata": {},
   "outputs": [
    {
     "data": {
      "text/plain": [
       "<AxesSubplot:xlabel='Start_Time'>"
      ]
     },
     "execution_count": 25,
     "metadata": {},
     "output_type": "execute_result"
    },
    {
     "data": {
      "image/png": "[encoded data removed]",
      "text/plain": [
       "<Figure size 432x288 with 1 Axes>"
      ]
     },
     "metadata": {},
     "output_type": "display_data"
    }
   ],
   "source": [
    "sns.distplot(days, bins=7, kde=False, norm_hist=True)"
   ]
  },
  {
   "cell_type": "code",
   "execution_count": 26,
   "id": "436ed129",
   "metadata": {},
   "outputs": [
    {
     "data": {
      "text/plain": [
       "17    220358\n",
       "16    218385\n",
       "15    214264\n",
       "14    191480\n",
       "18    168982\n",
       "13    166473\n",
       "12    143715\n",
       "7     135191\n",
       "8     130879\n",
       "19    116911\n",
       "11    113271\n",
       "6     111160\n",
       "9     108779\n",
       "10    103926\n",
       "20     94682\n",
       "21     87078\n",
       "22     81188\n",
       "5      80303\n",
       "23     74243\n",
       "0      68800\n",
       "1      59370\n",
       "2      55443\n",
       "4      51805\n",
       "3      48656\n",
       "Name: Start_Time, dtype: int64"
      ]
     },
     "execution_count": 26,
     "metadata": {},
     "output_type": "execute_result"
    }
   ],
   "source": [
    "hours = df.Start_Time.dt.hour\n",
    "hours.value_counts()"
   ]
  },
  {
   "cell_type": "code",
   "execution_count": 27,
   "id": "893885a7",
   "metadata": {},
   "outputs": [
    {
     "data": {
      "text/plain": [
       "<AxesSubplot:xlabel='Start_Time'>"
      ]
     },
     "execution_count": 27,
     "metadata": {},
     "output_type": "execute_result"
    },
    {
     "data": {
      "image/png": "[encoded data removed]",
      "text/plain": [
       "<Figure size 432x288 with 1 Axes>"
      ]
     },
     "metadata": {},
     "output_type": "display_data"
    }
   ],
   "source": [
    "sns.distplot(df.Start_Time.dt.hour,norm_hist=True,bins=24,kde=False)"
   ]
  },
  {
   "cell_type": "code",
   "execution_count": 28,
   "id": "f3d4a0fa",
   "metadata": {},
   "outputs": [
    {
     "data": {
      "text/plain": [
       "0          40.108910\n",
       "1          39.865420\n",
       "2          39.102660\n",
       "3          41.062130\n",
       "4          39.172393\n",
       "             ...    \n",
       "2845337    34.002480\n",
       "2845338    32.766960\n",
       "2845339    33.775450\n",
       "2845340    33.992460\n",
       "2845341    34.133930\n",
       "Name: Start_Lat, Length: 2845342, dtype: float64"
      ]
     },
     "execution_count": 28,
     "metadata": {},
     "output_type": "execute_result"
    }
   ],
   "source": [
    "df.Start_Lat"
   ]
  },
  {
   "cell_type": "code",
   "execution_count": 29,
   "id": "7de6e6e0",
   "metadata": {},
   "outputs": [
    {
     "data": {
      "text/plain": [
       "0          -83.092860\n",
       "1          -84.062800\n",
       "2          -84.524680\n",
       "3          -81.537840\n",
       "4          -84.492792\n",
       "              ...    \n",
       "2845337   -117.379360\n",
       "2845338   -117.148060\n",
       "2845339   -117.847790\n",
       "2845340   -118.403020\n",
       "2845341   -117.230920\n",
       "Name: Start_Lng, Length: 2845342, dtype: float64"
      ]
     },
     "execution_count": 29,
     "metadata": {},
     "output_type": "execute_result"
    }
   ],
   "source": [
    "df.Start_Lng"
   ]
  },
  {
   "cell_type": "code",
   "execution_count": 30,
   "id": "75cf29f8",
   "metadata": {},
   "outputs": [],
   "source": [
    "sample_df = df.sample(int(0.1 * len(df)))"
   ]
  },
  {
   "cell_type": "code",
   "execution_count": 31,
   "id": "debb1ce6",
   "metadata": {},
   "outputs": [
    {
     "data": {
      "text/plain": [
       "<AxesSubplot:xlabel='Start_Lng', ylabel='Start_Lat'>"
      ]
     },
     "execution_count": 31,
     "metadata": {},
     "output_type": "execute_result"
    },
    {
     "data": {
      "image/png": "[encoded data removed]",
      "text/plain": [
       "<Figure size 432x288 with 1 Axes>"
      ]
     },
     "metadata": {},
     "output_type": "display_data"
    }
   ],
   "source": [
    "sns.scatterplot(x=sample_df.Start_Lng, y=sample_df.Start_Lat, size=0.001)"
   ]
  },
  {
   "cell_type": "code",
   "execution_count": 32,
   "id": "1ea9f7cf",
   "metadata": {},
   "outputs": [],
   "source": [
    "import folium"
   ]
  },
  {
   "cell_type": "code",
   "execution_count": 33,
   "id": "a8c45ca3",
   "metadata": {},
   "outputs": [
    {
     "data": {
      "text/plain": [
       "(40.10891, -83.09286)"
      ]
     },
     "execution_count": 33,
     "metadata": {},
     "output_type": "execute_result"
    }
   ],
   "source": [
    "lat, lon = df.Start_Lat[0], df.Start_Lng[0]\n",
    "lat, lon"
   ]
  },
  {
   "cell_type": "code",
   "execution_count": 34,
   "id": "505e8fad",
   "metadata": {},
   "outputs": [
    {
     "name": "stdout",
     "output_type": "stream",
     "text": [
      "1467216    36.062968\n",
      "2133102    28.526300\n",
      "305870     39.901270\n",
      "922840     36.109197\n",
      "764928     28.452957\n",
      "             ...    \n",
      "2217255    38.675740\n",
      "1341319    34.719250\n",
      "1600242    41.867621\n",
      "1692824    27.300121\n",
      "2472002    34.012283\n",
      "Name: Start_Lat, Length: 100, dtype: float64\n",
      "1467216    -86.682666\n",
      "2133102    -81.386550\n",
      "305870     -79.704484\n",
      "922840     -86.667157\n",
      "764928     -81.477669\n",
      "              ...    \n",
      "2217255    -77.255630\n",
      "1341319   -114.311441\n",
      "1600242    -75.712094\n",
      "1692824    -82.451644\n",
      "2472002   -118.418366\n",
      "Name: Start_Lng, Length: 100, dtype: float64\n"
     ]
    }
   ],
   "source": [
    "for x in df[['Start_Lat', 'Start_Lng']].sample(100).iteritems():\n",
    "    print(x[1])"
   ]
  },
  {
   "cell_type": "code",
   "execution_count": 35,
   "id": "e6eb2f4a",
   "metadata": {},
   "outputs": [
    {
     "data": {
      "text/plain": [
       "<zip at 0x246b784c480>"
      ]
     },
     "execution_count": 35,
     "metadata": {},
     "output_type": "execute_result"
    }
   ],
   "source": [
    "zip(list(df.Start_Lat), list(df.Start_Lng))"
   ]
  },
  {
   "cell_type": "code",
   "execution_count": 36,
   "id": "8400eaf6",
   "metadata": {},
   "outputs": [],
   "source": [
    "from folium.plugins import HeatMap"
   ]
  },
  {
   "cell_type": "code",
   "execution_count": 37,
   "id": "bf5709d0",
   "metadata": {},
   "outputs": [],
   "source": [
    "sample_df = df.sample(int(0.001 * len(df)))\n",
    "lat_lon_pairs = list(zip(list(sample_df.Start_Lat), list(sample_df.Start_Lng)))\n"
   ]
  },
  {
   "cell_type": "code",
   "execution_count": 38,
   "id": "a29dabcb",
   "metadata": {},
   "outputs": [
    {
     "data": {
      "text/html": [
       "<div style=\"width:100%;\"><div style=\"position:relative;width:100%;height:0;padding-bottom:60%;\"><span style=\"color:#565656\">Make this Notebook Trusted to load map: File -> Trust Notebook</span><iframe srcdoc=\"&lt;!DOCTYPE html&gt;\n",
       "&lt;head&gt;    \n",
       "    &lt;meta http-equiv=&quot;content-type&quot; content=&quot;text/html; charset=UTF-8&quot; /&gt;\n",
       "    \n",
       "        &lt;script&gt;\n",
       "            L_NO_TOUCH = false;\n",
       "            L_DISABLE_3D = false;\n",
       "        &lt;/script&gt;\n",
       "    \n",
       "    &lt;style&gt;html, body {width: 100%;height: 100%;margin: 0;padding: 0;}&lt;/style&gt;\n",
       "    &lt;style&gt;#map {position:absolute;top:0;bottom:0;right:0;left:0;}&lt;/style&gt;\n",
       "    &lt;script src=&quot;https://cdn.jsdelivr.net/npm/leaflet@1.6.0/dist/leaflet.js&quot;&gt;&lt;/script&gt;\n",
       "    &lt;script src=&quot;https://code.jquery.com/jquery-1.12.4.min.js&quot;&gt;&lt;/script&gt;\n",
       "    &lt;script src=&quot;https://maxcdn.bootstrapcdn.com/bootstrap/3.2.0/js/bootstrap.min.js&quot;&gt;&lt;/script&gt;\n",
       "    &lt;script src=&quot;https://cdnjs.cloudflare.com/ajax/libs/Leaflet.awesome-markers/2.0.2/leaflet.awesome-markers.js&quot;&gt;&lt;/script&gt;\n",
       "    &lt;link rel=&quot;stylesheet&quot; href=&quot;https://cdn.jsdelivr.net/npm/leaflet@1.6.0/dist/leaflet.css&quot;/&gt;\n",
       "    &lt;link rel=&quot;stylesheet&quot; href=&quot;https://maxcdn.bootstrapcdn.com/bootstrap/3.2.0/css/bootstrap.min.css&quot;/&gt;\n",
       "    &lt;link rel=&quot;stylesheet&quot; href=&quot;https://maxcdn.bootstrapcdn.com/bootstrap/3.2.0/css/bootstrap-theme.min.css&quot;/&gt;\n",
       "    &lt;link rel=&quot;stylesheet&quot; href=&quot;https://maxcdn.bootstrapcdn.com/font-awesome/4.6.3/css/font-awesome.min.css&quot;/&gt;\n",
       "    &lt;link rel=&quot;stylesheet&quot; href=&quot;https://cdnjs.cloudflare.com/ajax/libs/Leaflet.awesome-markers/2.0.2/leaflet.awesome-markers.css&quot;/&gt;\n",
       "    &lt;link rel=&quot;stylesheet&quot; href=&quot;https://cdn.jsdelivr.net/gh/python-visualization/folium/folium/templates/leaflet.awesome.rotate.min.css&quot;/&gt;\n",
       "    \n",
       "            &lt;meta name=&quot;viewport&quot; content=&quot;width=device-width,\n",
       "                initial-scale=1.0, maximum-scale=1.0, user-scalable=no&quot; /&gt;\n",
       "            &lt;style&gt;\n",
       "                #map_32cb6f3b2fa2e25b475186de9788f4e4 {\n",
       "                    position: relative;\n",
       "                    width: 100.0%;\n",
       "                    height: 100.0%;\n",
       "                    left: 0.0%;\n",
       "                    top: 0.0%;\n",
       "                }\n",
       "            &lt;/style&gt;\n",
       "        \n",
       "    &lt;script src=&quot;https://cdn.jsdelivr.net/gh/python-visualization/folium@master/folium/templates/leaflet_heat.min.js&quot;&gt;&lt;/script&gt;\n",
       "&lt;/head&gt;\n",
       "&lt;body&gt;    \n",
       "    \n",
       "            &lt;div class=&quot;folium-map&quot; id=&quot;map_32cb6f3b2fa2e25b475186de9788f4e4&quot; &gt;&lt;/div&gt;\n",
       "        \n",
       "&lt;/body&gt;\n",
       "&lt;script&gt;    \n",
       "    \n",
       "            var map_32cb6f3b2fa2e25b475186de9788f4e4 = L.map(\n",
       "                &quot;map_32cb6f3b2fa2e25b475186de9788f4e4&quot;,\n",
       "                {\n",
       "                    center: [0, 0],\n",
       "                    crs: L.CRS.EPSG3857,\n",
       "                    zoom: 1,\n",
       "                    zoomControl: true,\n",
       "                    preferCanvas: false,\n",
       "                }\n",
       "            );\n",
       "\n",
       "            \n",
       "\n",
       "        \n",
       "    \n",
       "            var tile_layer_23ebd7251377f6a44056f617f9cbe2bf = L.tileLayer(\n",
       "                &quot;https://{s}.tile.openstreetmap.org/{z}/{x}/{y}.png&quot;,\n",
       "                {&quot;attribution&quot;: &quot;Data by \\u0026copy; \\u003ca href=\\&quot;http://openstreetmap.org\\&quot;\\u003eOpenStreetMap\\u003c/a\\u003e, under \\u003ca href=\\&quot;http://www.openstreetmap.org/copyright\\&quot;\\u003eODbL\\u003c/a\\u003e.&quot;, &quot;detectRetina&quot;: false, &quot;maxNativeZoom&quot;: 18, &quot;maxZoom&quot;: 18, &quot;minZoom&quot;: 0, &quot;noWrap&quot;: false, &quot;opacity&quot;: 1, &quot;subdomains&quot;: &quot;abc&quot;, &quot;tms&quot;: false}\n",
       "            ).addTo(map_32cb6f3b2fa2e25b475186de9788f4e4);\n",
       "        \n",
       "    \n",
       "            var heat_map_9bbf2d06c367305eeb896ec0ce41e25d = L.heatLayer(\n",
       "                [[27.714916, -82.335274], [39.109949, -121.030246], [29.941682, -90.109535], [37.549929, -77.114263], [37.949533, -121.296808], [36.326448, -119.224448], [25.744244, -80.287076], [33.811629, -118.161993], [33.727943, -78.87005500000002], [41.787549, -87.90786], [41.120526, -73.373995], [38.6118, -121.26335], [37.78200800000001, -122.22363], [34.027688, -117.796746], [40.50079, -74.30119], [36.915556, -121.735496], [37.62880300000001, -77.458538], [34.181519, -79.80735200000002], [34.723247, -92.259456], [38.944318, -121.097889], [34.074171, -80.905541], [32.87500900000001, -80.718473], [34.04055, -118.179849], [38.897494, -76.949985], [38.495482, -77.38379599999998], [39.594611, -106.252464], [39.01855, -76.97125], [42.050873, -122.607421], [39.82461, -86.18131], [36.335971, -119.565096], [25.775845, -80.159812], [35.105758, -85.347965], [27.960664, -82.77293], [37.22294, -77.39090999999998], [29.777364, -95.415902], [29.509044, -98.551606], [33.855689, -80.393754], [43.63958, -122.17557], [26.211607, -81.73597], [33.895414, -118.259131], [37.633845, -121.103882], [37.76083, -122.39235], [41.1606, -81.46943], [33.990277, -117.921765], [38.193672, -121.078452], [38.614932, -77.299329], [31.532197, -82.202089], [37.93065900000001, -121.296045], [34.084299, -117.692574], [34.896481, -120.488899], [33.810147, -117.832076], [33.582201, -111.891247], [25.769711, -80.335312], [34.023813, -118.242146], [41.55647, -83.68735], [32.660247, -96.891569], [34.272783000000004, -118.449043], [45.521024, -122.665754], [34.785675, -82.374437], [40.58494, -73.95294], [44.324918, -93.956428], [33.837492, -117.532761], [42.14449000000001, -122.6383], [29.95247800000001, -90.083919], [26.557345, -80.06975899999998], [25.767744, -80.33628399999998], [26.582354, -80.173212], [41.10463, -81.49996999999998], [41.64006, -108.48333999999998], [41.894973, -72.64222600000002], [36.075409, -95.893235], [30.280807, -97.678922], [28.539158, -81.28834300000003], [39.894472, -75.917045], [38.239574, -122.452577], [38.808809, -77.493156], [34.1365, -117.503443], [34.034583000000005, -118.345728], [40.849662, -92.39926], [25.71472, -80.410383], [40.315887, -104.98003], [33.974723, -118.234305], [35.939585, -84.00621600000002], [30.288759, -82.85928299999998], [47.11951, -122.43485], [30.432798, -91.058746], [33.872679999999995, -118.29092], [36.257318, -119.86512], [38.87116, -77.0447], [45.281502, -93.560765], [41.845989, -87.62695], [34.059151, -112.144705], [33.569167, -81.853624], [33.858797, -118.211457], [35.78837199999999, -78.642606], [37.70107, -121.8128], [35.88216699999999, -78.83945600000001], [40.215184, -77.965637], [43.181761, -77.638837], [42.95177, -71.45088], [39.432107, -77.512376], [40.762935, -111.954556], [35.597308, -119.210012], [32.771076, -114.616273], [34.067059, -117.444391], [37.973619, -121.267646], [33.56624, -84.78158], [36.221119, -86.726598], [39.963895, -105.181506], [25.769715, -80.33499599999998], [25.499405, -80.444963], [27.849778000000004, -82.381801], [32.953578, -117.244244], [34.023717, -118.427751], [33.3865, -111.62135], [38.568396, -121.467403], [25.686005, -80.39960699999997], [33.422892, -112.189507], [25.807607, -80.290802], [30.441622, -91.132433], [35.708113, -79.816218], [29.632186, -95.387283], [25.767744, -80.33628399999998], [37.400357, -120.759518], [37.701445, -121.858171], [32.814574, -96.644929], [34.153620000000004, -118.348757], [33.725806, -117.803903], [38.64111, -121.45137], [32.848855, -117.178722], [45.38598, -122.273119], [28.176561, -82.74038], [32.969854, -117.249174], [44.77603, -93.54062], [34.673144, -118.156238], [33.311757, -111.89422], [39.07175, -94.48801], [40.538917, -111.984254], [46.02803, -123.24432], [27.49152, -82.47695999999998], [34.781959, -82.47333], [33.62624, -112.01336], [29.727249, -95.334443], [40.707961, -124.21021299999998], [33.92945, -118.36827], [44.92865, -89.20501], [36.99601, -121.7172], [32.914955, -117.230917], [43.07114, -87.929151], [41.74915, -87.74136], [37.100643, -121.015815], [42.15231, -87.79871999999996], [37.83498, -122.00899], [40.065261, -76.284352], [37.420028, -77.636113], [40.863701, -75.29536800000002], [35.368496, -118.967605], [33.85411, -117.79493], [29.671658, -95.546454], [41.67038, -72.839366], [38.223117, -122.257738], [38.540559, -121.768181], [32.641381, -117.100818], [35.23454, -80.76056], [29.777934, -95.301183], [40.729311, -73.87869], [34.024336, -117.740478], [26.603054, -81.629212], [28.538392, -81.35764300000002], [32.83978, -97.30954], [33.765906, -117.939301], [34.119597, -117.75231200000002], [37.071898, -76.397408], [38.222699, -85.515979], [33.60475, -117.69049], [26.710151, -81.901763], [37.638628, -121.016447], [38.14519, -85.55194], [38.055766, -121.296037], [42.4688, -82.91919], [38.78814000000001, -77.13665], [33.658840000000005, -111.9279], [41.359266, -72.21175], [38.643464, -121.112336], [33.89465, -118.327581], [42.69258, -73.82511600000002], [37.325075, -119.598003], [33.880026, -117.605358], [33.87536, -118.19317], [42.20224, -87.83431], [34.821254, -118.969719], [33.910599, -84.368487], [37.035026, -122.021674], [34.01789, -118.05273], [34.008275, -118.158241], [42.26892, -84.48156999999998], [36.846015, -76.19171300000002], [41.0795, -73.92190500000002], [25.876351, -80.24289], [36.308645, -86.681549], [37.10626, -76.47272], [42.396343, -121.361816], [30.42344000000001, -91.14449], [41.10123, -73.43605], [37.96389600000001, -122.326448], [37.939346, -122.516389], [34.162267, -117.46438700000002], [39.992691, -75.590389], [37.251924, -121.937438], [36.07531, -95.857249], [33.876525, -118.067911], [42.419, -82.93413000000002], [40.901717, -74.153851], [34.93679, -82.07669], [34.345632, -118.109754], [36.13539, -85.50676999999997], [29.737972, -95.605798], [40.04603400000001, -76.309221], [34.837635, -80.828078], [34.95585, -81.128135], [39.895156, -75.28039799999998], [40.8051, -73.920339], [37.960336, -122.052786], [28.409595, -82.300343], [34.070910999999995, -117.956055], [35.123164, -81.23944], [37.60497, -122.38431], [37.18581, -120.48819], [27.870769, -82.326741], [28.409087, -81.404754], [47.979451, -122.185574], [33.7493, -84.44218000000002], [34.14265, -118.172179], [25.670669, -80.335048], [38.739909, -90.524687], [42.927612, -85.66967], [35.205155, -80.79405600000003], [39.03215, -84.5894], [39.37413, -76.518198], [26.158561, -80.164686], [33.960012, -118.284226], [45.551609, -122.67879], [39.95439, -82.97565999999998], [30.942488, -85.118261], [32.480713, -93.781227], [45.4079, -122.56884], [42.49284, -82.9175], [34.080413, -118.472777], [25.763164, -80.301721], [34.06185, -117.545156], [38.536013, -121.473421], [38.659168, -121.350544], [29.399554, -98.511461], [38.939683, -76.94068399999998], [33.698451, -117.861378], [33.949714, -118.279577], [33.633377, -111.977692], [28.449914, -81.481045], [33.84787, -117.85612], [39.05886, -96.09232], [25.73323, -80.334334], [45.58322, -122.76857], [40.037712, -76.307795], [34.05835, -118.24435], [38.9197, -76.933178], [33.699293, -117.936347], [38.729125, -121.32756], [30.617374, -81.514747], [42.34455, -71.26302], [30.431571, -91.18306], [37.481805, -122.177116], [36.541973, -119.286835], [29.142326, -82.061561], [47.204404, -122.46123], [37.671249, -122.118511], [41.32205, -72.26204], [31.48813, -82.86113], [36.860591, -76.271649], [30.29763, -81.76999], [43.19838, -123.35962], [40.275376, -111.719167], [38.9268, -120.764571], [37.787671, -122.389202], [35.084527, -85.063556], [39.27956500000001, -76.727389], [34.098924, -117.540489], [30.349016, -97.545115], [39.73167, -84.2058], [43.35303, -84.1408], [38.008831, -109.352476], [29.777022, -95.412617], [39.942326, -79.19181400000002], [40.00975, -75.187221], [48.027188, -102.572419], [44.861907, -93.150264], [27.876761, -82.3268], [25.734989, -80.30295600000002], [33.697868, -81.197451], [40.703695, -73.959928], [45.943657, -108.714981], [33.703297, -84.151149], [35.233457, -78.36434399999997], [39.02254, -94.69154], [43.076566, -76.214529], [37.70169, -121.88288], [43.10889, -124.31207], [33.080733, -79.805813], [39.786869, -86.134968], [25.747981, -80.32264], [35.017794, -85.168687], [34.06503, -117.31224], [33.209749, -117.386995], [38.325666, -121.297441], [40.7103, -74.18131], [37.772062, -122.22481100000002], [38.37549, -121.950162], [35.086566999999995, -85.178372], [41.18077, -73.75877], [33.818090000000005, -117.88939], [44.14519, -93.93072], [40.04478, -111.74353], [39.94878, -83.02781999999998], [28.500617, -81.406324], [32.686440000000005, -96.62372], [32.553556, -81.168719], [26.227637, -80.296121], [25.795907, -80.321169], [37.335596, -121.858845], [36.77846, -76.43803199999998], [44.964991, -93.28224], [40.73744, -74.07644], [33.947158, -118.279325], [33.880151, -117.565244], [40.530336, -74.371123], [45.13479, -93.23869], [33.963849, -117.324773], [36.853455, -80.86294699999998], [34.620182, -117.835806], [34.064633, -118.002853], [32.846855, -117.235862], [41.73882, -72.66256], [35.100759000000004, -118.287855], [31.788898, -106.402777], [33.864787, -118.32682], [37.72885, -121.94449], [42.429005, -87.942825], [37.60003, -122.37632], [44.899026, -93.274725], [30.424382, -91.183567], [34.709045, -82.496349], [37.785581, -122.391582], [38.550762, -121.423248], [40.348491, -111.591643], [33.96385, -118.36992], [32.890009, -96.707839], [38.628394, -77.29352800000002], [43.94247, -121.35076], [40.101839, -82.930676], [34.076832, -117.544988], [44.886409, -93.295971], [32.76052, -97.239256], [39.021089, -123.133404], [32.767163000000004, -117.20606399999998], [33.825193, -118.287246], [34.02368, -118.164018], [35.97472, -78.87254], [37.93555, -122.32693], [45.703307, -110.463849], [32.708942, -117.085084], [32.447441, -93.699283], [32.747383, -96.763694], [38.222441, -121.557553], [39.640848, -84.27015899999998], [32.673758, -117.110084], [37.55308, -77.480368], [26.170941, -80.157878], [29.72523, -95.46022], [45.220309, -93.599804], [30.417271000000003, -87.30737099999996], [32.794074, -96.725202], [32.123215, -110.960943], [25.918739, -80.210636], [29.753023, -95.409741], [35.74522, -78.87228], [41.459773, -87.322579], [34.023574, -118.242985], [29.73752600000001, -95.502149], [34.746968, -92.269286], [47.75004000000001, -122.66859], [40.400351, -79.571626], [36.372486, -121.902701], [40.377305, -79.801387], [44.776228, -93.520194], [33.777001, -117.831189], [30.492862, -84.324396], [36.893413, -113.923434], [44.566348, -123.11003], [38.274221, -122.672934], [37.911758, -122.512702], [40.7815, -111.91], [29.736744, -95.5671], [42.391979, -122.422621], [38.79652, -77.19074300000003], [25.928151, -80.200342], [42.33921, -83.21598], [45.239242, -94.671045], [36.0772, -79.94925], [34.0612, -118.284209], [25.765911, -80.336376], [35.671995, -94.16488], [29.720412, -95.572326], [30.3563, -81.658185], [40.726221, -73.766487], [32.892868, -96.896028], [30.533891, -87.082453], [35.30042, -80.75322], [42.64557, -73.69795], [39.68874, -104.97125], [45.525281, -122.661725], [36.84316, -76.234465], [34.57954, -80.903363], [36.108767, -86.744084], [41.364308, -72.482955], [44.02851, -121.31618], [37.295901, -120.383511], [44.76634, -91.42893], [33.995271, -118.145091], [26.616109, -80.06842900000002], [42.94375, -85.67671], [34.155504, -118.44473899999998], [36.83712, -119.539736], [39.063033, -94.48814], [39.2805, -85.114434], [44.93657, -92.96069], [40.586651, -79.75046800000001], [37.211382, -93.329984], [33.856174, -117.984905], [39.285, -76.5353], [30.46162600000001, -91.110548], [44.05988, -122.96967], [39.704707, -76.645227], [39.378036, -76.74401800000003], [37.374214, -77.345798], [36.11036, -86.74489], [42.47398, -83.43199], [46.002207, -102.646866], [32.13928, -110.84061], [30.191789, -81.702861], [31.754212, -106.320999], [34.765214, -81.036935], [38.57852000000001, -90.44659], [36.680256, -121.64196499999998], [26.081453, -80.15763199999998], [33.842042, -118.286251], [26.330523, -81.80765799999998], [38.640086, -121.196016], [34.054081, -118.255459], [42.229031, -83.693064], [28.577656, -81.48975300000002], [35.37175, -118.97029], [45.0103, -93.186627], [45.255071, -92.984984], [33.07508, -117.07052], [25.704087, -80.295884], [39.193922, -121.594863], [41.85571, -87.64464], [28.533265000000004, -81.285628], [25.894945, -80.209599], [35.897473, -78.60935500000002], [41.81731, -71.3981], [39.158341, -75.577888], [40.22536, -76.72469], [40.252454, -74.08183100000002], [28.524329, -81.459078], [35.870779, -86.461249], [41.216076, -112.001716], [43.17393, -77.54128], [45.14283, -93.27922], [43.173855, -76.652973], [44.097222, -123.124855], [40.805004, -72.868003], [32.66277, -117.10927], [37.854112, -122.22025], [38.474197, -121.396657], [41.145065, -74.022258], [32.76874, -96.674864], [33.984907, -118.370722], [27.44627, -82.50551999999998], [42.00542100000001, -88.144802], [32.420514000000004, -111.158434], [40.518146, -76.46906], [40.351978, -111.772338], [40.188484, -74.608733], [36.155598, -86.857556], [39.623796, -75.95129], [38.730484, -120.799052], [37.714187, -121.07851399999998], [43.959656, -71.18419200000002], [30.333992, -81.67042099999998], [26.01657, -80.16736999999998], [33.972774, -118.075375], [36.36091500000001, -86.529446], [29.942637, -90.094012], [36.317552, -119.707289], [34.030671000000005, -117.602458], [35.09845, -80.93214], [30.703840000000003, -88.12449000000002], [27.95593, -82.46595], [33.740717, -117.833716], [25.747312, -80.350335], [33.43586, -112.10825], [28.417797, -81.42293199999997], [32.79575, -96.6922], [32.802611, -96.816319], [34.944092, -81.059168], [34.118577, -117.865462], [33.77344, -117.48507], [34.05968, -118.0013], [39.849611, -86.276353], [33.606517, -117.694198], [38.343068, -78.934053], [33.386517, -111.587716], [47.62841, -117.5367], [40.041927, -75.57472299999998], [25.766083, -80.20007700000002], [38.848447, -77.422632], [38.620504, -121.401447], [36.640659, -79.61515], [35.310586, -80.714442], [39.10974, -76.78403], [40.36382, -79.98413000000002], [41.09532, -81.49982], [42.43654, -71.25941], [39.442087, -76.343275], [32.283084, -110.97544], [35.372953, -80.783234], [25.81711, -80.20644], [43.189183, -77.61326899999997], [28.320851, -82.503295], [37.05644, -120.926515], [36.433763, -120.392182], [39.966356, -75.589548], [39.13151, -76.64291999999998], [28.538833, -81.37581800000002], [42.254786, -87.94717800000002], [43.127648, -120.89357], [45.523599, -122.565182], [39.505194, -76.614886], [33.85693, -117.97626], [25.736532, -80.343712], [33.919104, -118.371439], [37.864947, -122.567636], [33.974647, -118.285232], [37.001964, -121.556419], [35.25765999999999, -80.84174], [38.678159, -121.20454], [34.36831, -118.50193], [30.48517, -81.64305], [25.562831, -80.384912], [40.691586, -74.190658], [32.700823, -96.834502], [41.89088, -87.65047], [38.980529, -76.321198], [34.440479, -119.759979], [42.49079, -83.03765], [32.898632, -96.763385], [34.758167, -118.796074], [41.043437, -73.57226], [34.775752000000004, -118.589917], [33.678068, -84.397891], [33.69083, -117.86906299999998], [35.05912, -80.771915], [45.577718, -94.147602], [36.15152, -86.75153], [38.500653, -121.517683], [28.552627, -81.44658299999998], [37.961496, -78.082962], [29.77078, -95.21093], [42.275766, -117.789412], [34.065245000000004, -84.273837], [40.881682, -74.126397], [38.469814, -121.35538], [37.591513, -97.284611], [33.65187, -86.27743000000002], [35.352428, -119.018889], [27.962346000000004, -82.795862], [28.390209, -81.374791], [32.776540000000004, -96.784003], [32.851081, -96.766072], [47.1474, -110.824951], [43.189001, -77.60629499999997], [34.117799, -118.337568], [25.688051, -80.33144399999998], [40.214078, -74.098647], [28.333026, -81.486885], [43.08012, -70.78947], [45.64516, -122.8404], [28.442829, -81.47024300000002], [44.93518, -95.76711], [39.414404, -76.660845], [37.458883, -77.496196], [33.92707, -118.17808], [38.156601, -120.473874], [40.18358900000001, -111.64673], [40.820249, -73.836246], [40.08086, -75.385919], [25.889398, -80.16383499999998], [38.827648, -120.960625], [25.81217, -80.21171], [39.947322, -75.187461], [44.990669, -93.089329], [40.036418, -76.316037], [35.26847, -80.86811999999998], [39.725092, -86.264315], [38.953882, -123.101764], [44.218025, -93.509941], [34.03618400000001, -118.377698], [40.832166, -73.873917], [44.955013, -93.188771], [33.134667, -117.128568], [41.08548, -73.66458], [25.93256, -80.12189599999998], [38.137556, -122.213301], [27.80302, -82.66237], [43.094505, -75.836251], [40.34632, -79.68915], [42.41800900000001, -83.21876400000002], [45.922837, -120.700032], [42.81328, -73.97323], [33.876423, -118.130845], [35.159951, -113.685911], [34.136331, -80.960611], [26.62223, -80.06739], [28.450013, -81.497895], [37.13551, -76.52588], [32.513714, -93.745523], [25.630294, -80.41471800000002], [34.238963, -117.233337], [42.237188, -87.994089], [28.216543, -82.683491], [41.217374, -73.082265], [40.75921, -74.20895], [39.031982, -76.952395], [37.565828, -120.975383], [32.758181, -117.21501200000002], [45.062607, -123.492293], [33.04455, -117.28594], [40.098753, -75.17486600000002], [42.337226, -87.89498], [40.382105, -120.595432], [42.115788, -122.622283], [40.818631, -73.891837], [33.989323, -118.249943], [29.78511, -95.4521], [42.27616, -122.81006], [34.017208000000004, -117.817284], [45.056787, -120.683494], [45.069619, -93.285394], [38.63954, -122.594559], [38.380288, -78.65464300000002], [33.680896000000004, -84.80419599999998], [42.346823, -88.144805], [35.289433, -81.541251], [37.49557, -121.95213], [34.136484, -117.437721], [32.705841, -96.835137], [27.98148, -82.294088], [39.208523, -121.243796], [30.200891, -81.73959], [30.417459, -91.145539], [47.23, -122.42898999999998], [39.01731, -77.57599], [35.87586, -78.5402], [34.344175, -117.461669], [34.098872, -117.302037], [44.44356, -71.19081], [40.68932, -111.90303], [35.235144, -80.940896], [32.333972, -90.159137], [33.630537, -112.16831100000002], [39.944408, -78.009132], [25.956756, -80.293025], [38.094291, -122.230017], [46.71513, -111.918199], [34.27259, -111.18015], [33.956965000000004, -118.241938], [38.557892, -121.386315], [25.749963, -80.303587], [40.833123, -75.301011], [33.892661, -117.504669], [25.739346, -80.319725], [34.100396999999994, -117.538816], [29.923993, -90.086465], [41.231786, -73.071516], [35.01684, -85.269056], [45.17093300000001, -93.029747], [34.164834, -118.382774], [34.77036, -82.38682], [34.043879, -117.3127], [39.410557, -122.195459], [38.593361, -121.178618], [28.324990000000003, -82.32544], [37.750689, -122.151759], [28.473185, -81.332693], [38.297523, -122.457998], [40.817966, -73.961525], [32.881189, -96.692358], [33.819249, -117.915047], [40.546575, -79.824196], [41.148723, -73.81584000000002], [25.78971, -80.32138], [28.598225, -82.204828], [35.248063, -80.885785], [34.136484, -117.441776], [36.043337, -95.945829], [28.553446, -82.308492], [43.16463, -77.63407], [37.783173, -121.22897], [32.780224, -117.08283], [37.73813, -122.19405], [45.716754, -122.875058], [33.90354, -118.18827], [44.836181, -120.93], [25.888284, -80.210726], [40.977922, -78.54995699999998], [26.13642, -80.1695], [28.547555, -81.253005], [28.857437, -82.419313], [47.34984, -122.244883], [39.015792, -77.017752], [33.859546, -117.923265], [45.66852700000001, -122.552568], [40.710919, -112.09181], [37.408371, -122.069575], [42.36056, -73.42975], [34.310528000000005, -118.432134], [25.931232, -80.293542], [34.036559999999994, -118.37519], [42.47, -83.756192], [40.877437, -74.064431], [32.814785, -96.765849], [36.970121, -121.904456], [41.569943, -87.398026], [44.59255, -121.14789], [34.044604, -118.009887], [25.80927, -80.31626999999997], [26.558361, -81.871881], [34.14298, -118.02119], [38.40474, -122.812463], [39.373333, -123.275691], [36.834691, -121.422092], [32.711504999999995, -117.1674], [28.45045, -81.42781], [40.6408, -74.02192], [34.217399, -117.290452], [35.235954, -80.839451], [34.117915999999994, -118.784382], [43.021398, -85.664638], [34.055571, -118.1981], [39.28481, -84.56470999999998], [39.014221, -76.49058199999997], [30.450740000000003, -91.13901], [41.646392, -122.522389], [38.27025, -122.66748], [45.683909, -122.664724], [45.201389, -93.866892], [28.6005, -81.38637], [35.722887, -78.584094], [38.645487, -90.190041], [35.60915, -97.50183], [27.98149, -82.45457900000002], [38.777355, -76.06030799999998], [43.324144, -124.206358], [27.592946, -82.50999499999998], [47.80687800000001, -122.305906], [30.51589, -83.055], [45.576357, -111.104804], [34.067424, -117.435425], [43.765792, -118.211012], [37.78176, -122.39721000000002], [39.537144, -121.584566], [37.832762, -122.266598], [39.055633, -94.482805], [28.380792, -81.505078], [28.384629, -81.523044], [30.458369, -81.640512], [33.62393400000001, -112.384458], [28.56114, -81.47590600000002], [29.627566, -95.240261], [43.449286, -118.801485], [33.597811, -117.154158], [40.742779, -73.839665], [38.957845, -77.192284], [33.50951, -112.1688], [43.301119, -75.622927], [38.637992, -121.40508], [38.46506, -121.353305], [37.63218, -77.4502], [33.500508, -112.099909], [40.65745, -111.90158], [25.97053, -80.16575999999998], [34.01888, -117.50257], [26.00901, -80.24932199999998], [32.67587, -97.173293], [34.225641, -118.252555], [33.564466, -84.53630799999998], [37.532338, -122.0067], [32.91317, -117.11613], [30.41475800000001, -91.057478], [34.047126, -118.357453], [43.599237, -116.354879], [25.782338, -80.368619], [33.933818, -118.309041], [28.495584, -81.417521], [33.576811, -112.055996], [29.81313, -95.349176], [47.653528, -122.665931], [29.959686, -95.557917], [25.791462, -80.205298], [37.854382, -122.28747], [43.117386, -124.414024], [32.405548, -111.325605], [34.07042, -117.39843700000002], [26.45726, -80.08934], [39.534743, -123.404408], [34.072817, -117.775346], [32.654532, -96.750465], [38.596173, -121.412259], [33.886091, -118.265244], [32.655154, -117.106076], [25.90524, -80.34907199999998], [32.753173, -117.101248], [33.906626, -118.286811], [33.83026, -84.42566], [37.470513, -77.428411], [47.607813, -122.339123], [25.669776, -80.416237], [41.13458, -74.16835999999998], [45.529693, -122.665303], [37.083864, -121.1016], [41.832321, -122.590931], [45.654856, -113.778883], [45.194766, -122.583425], [34.188524, -79.851196], [32.657407, -117.082725], [39.58714000000001, -75.74067], [38.80883, -77.1536], [33.87375, -118.2216], [42.348111, -87.88921500000002], [34.139329, -118.204766], [33.917224, -118.192917], [34.260555, -119.234148], [29.656212, -95.563146], [34.066134000000005, -117.254233], [44.507815, -117.371921], [27.914341, -82.787689], [39.056514, -77.154074], [39.72542, -105.022004], [30.225790000000003, -97.68321], [47.461591, -92.901602], [33.912956, -118.17988], [39.872629, -75.38821800000002], [35.040659000000005, -85.266178], [39.291657, -121.09731200000002], [40.847092, -73.933364], [25.685194, -80.418423], [32.725793, -117.103216], [38.248651, -85.70478], [34.004257, -117.405523], [34.857195000000004, -82.323272], [34.813216, -118.884719], [33.45774, -112.34631], [32.86175, -117.18745], [38.571942, -122.87509], [30.014123, -95.112517], [38.879126, -77.252487], [35.39194000000001, -80.85172], [40.022925, -75.280326], [27.844919, -82.381553], [26.543347, -81.871341], [34.029368, -81.124151], [39.27685, -76.72527], [36.808185, -119.55599], [37.248249, -80.20476500000002], [33.865592, -118.330175], [37.68612, -112.136904], [38.496726, -121.459742], [33.000699, -117.225683], [41.757563, -72.663327], [38.743498, -90.395478], [43.029252, -77.973929], [40.60448, -74.050983], [38.917365, -77.045839], [45.040032, -93.096403], [35.886045, -78.74323299999998], [32.487614, -93.78028], [28.357378000000004, -81.494599], [45.368065, -122.5947], [33.78524, -117.83088], [38.972237, -77.178889], [37.544589, -77.42814399999997], [47.645079, -122.30016100000002], [40.70104600000001, -74.015504], [25.868259, -80.24149200000002], [34.068589, -118.040008], [38.535303000000006, -121.741096], [29.69525800000001, -95.512117], [30.388871, -87.272727], [37.427688, -77.624882], [33.981294, -118.07541299999998], [39.038983, -76.99201], [38.89199, -77.21715], [38.024722, -121.072758], [34.041057, -118.015026], [43.98506, -124.10131], [32.134306, -90.285926], [32.481703, -110.914365], [40.933413, -120.510818], [33.010822999999995, -87.758639], [39.327614, -77.344504], [26.627539, -81.697091], [34.76339, -82.47251999999997], [27.91562, -82.34883], [38.882299, -77.023011], [33.019953, -117.109848], [28.57788, -81.45621], [37.434048, -122.205805], [34.011723, -118.41796200000002], [40.764217, -73.89491899999999], [32.499912, -93.775398], [34.12399, -79.897356], [28.42435900000001, -81.40478399999998], [33.89815, -84.26787], [41.51803, -73.97705], [37.340276, -120.540352], [35.249247, -80.856495], [38.981791, -93.479721], [37.674913, -122.123977], [33.98526, -117.843167], [36.517871, -119.505951], [40.89979500000001, -73.81566099999998], [39.95959000000001, -75.175457], [42.41468, -88.198625], [33.710238000000004, -117.782232], [38.527549, -105.384139], [38.490112, -121.410148], [47.54632, -122.325962], [36.845307, -76.264247], [39.01922, -94.55382], [34.271131, -118.472217], [35.06107, -80.76988], [29.932031, -90.011943], [33.769321999999995, -112.128492], [25.702455, -80.332105], [28.589448, -81.468342], [36.154814, -86.788526], [33.70545300000001, -117.954392], [34.172028000000005, -118.570936], [40.474393, -74.407678], [35.43250300000001, -119.02446], [44.86226, -93.238255], [37.172849, -113.35116], [45.721609, -122.875476], [44.918961, -123.15161100000002], [36.73516, -119.94323500000002], [36.966972, -121.9733], [41.503441, -120.519836], [32.671526, -96.965263], [45.534482, -122.57901], [37.549678, -122.025257], [38.771185, -111.927663], [34.229933, -117.415856], [39.468863, -77.989891], [35.369543, -82.49278000000002], [35.25477, -80.80099], [33.759862, -117.853519], [34.171267, -118.515003], [29.953897, -95.393238], [25.882953, -80.353153], [32.75947, -97.045865], [41.916758, -93.57044], [35.19860999999999, -80.789614], [39.640179, -84.235279], [40.75152, -74.11938], [32.76644, -96.89601], [33.895128, -84.45219300000002], [41.682082, -73.85974399999998], [34.17635, -118.30778], [37.981141, -78.222666], [42.34106, -87.96363000000002], [35.72215999999999, -78.58399], [42.975754, -85.627463], [42.67033, -84.49024], [34.066761, -117.446205], [37.95717, -121.24022], [42.935599, -85.663374], [42.51834, -83.64528], [33.427351, -117.149115], [38.346683, -121.996627], [40.554581, -80.278485], [33.928023, -118.237041], [38.859545, -121.008585], [29.97281, -95.69682], [41.347922, -75.27972], [46.743293, -92.154896], [33.86675, -117.711479], [35.3888, -118.98248], [43.055975, -76.169379], [45.73056, -122.87594], [39.98689, -82.99961], [37.634986, -121.002699], [27.495849, -82.605929], [39.311223, -120.543053], [38.87243, -104.92731], [40.685923, -73.71288], [39.69697, -86.18299999999998], [38.704801, -77.780445], [42.959657, -85.6724], [25.854683, -80.32346], [35.83589, -78.67535500000002], [38.197113, -120.892672], [29.933149, -90.076745], [36.845985, -76.190237], [25.656426, -80.413329], [30.30925, -81.84867], [38.86953, -77.14914], [26.54747, -81.77253499999998], [34.011462, -118.13083], [33.051842, -117.072983], [33.680851000000004, -84.062291], [34.748206, -92.396221], [38.917704, -77.23002199999998], [37.31723, -121.93384], [34.104721999999995, -118.253106], [27.306749, -82.533681], [33.989391999999995, -118.369587], [28.478031, -81.396772], [43.657972, -123.205156], [45.582522, -118.615339], [33.960141, -118.231589], [35.23653, -80.83877], [40.217543, -78.940572], [39.006729, -120.99138899999998], [43.084217, -83.616947], [27.834809000000003, -82.728532], [39.481829, -104.993917], [40.72121, -73.8847], [39.313534, -120.471771], [33.5449, -111.90649], [32.749024, -117.159529], [37.17308, -118.290035], [37.76472, -113.05529], [43.61779, -122.08177], [38.581314, -121.463473], [30.421006, -87.323476], [28.331, -82.6664], [31.801525, -106.285178], [34.752097, -82.285514], [45.093327, -93.006147], [37.056912, -120.841952], [43.05954600000001, -83.857352], [39.683185, -75.587725], [28.512988, -81.375291], [30.398644, -91.089996], [27.447751, -82.573305], [33.774522, -118.074915], [33.870598, -98.53269], [40.154632, -79.55999399999997], [42.30304, -83.11558000000002], [38.231145, -122.112747], [33.596566, -81.67497], [37.27645, -113.64902], [33.96385, -118.36992], [41.234468, -77.33215200000002], [33.386520000000004, -111.58911], [35.83990700000001, -78.614941], [33.163881, -117.211922], [44.887287, -93.369002], [25.700819, -80.384113], [34.165132, -117.460911], [35.153608, -82.18073199999998], [34.056119, -118.256041], [27.317073, -82.52967], [34.0203, -118.239514], [38.524822, -122.481354], [34.067285, -117.541584], [39.057272, -77.076849], [42.306, -88.02898], [29.675314, -95.570514], [37.80763, -122.30404], [41.502151, -81.670644], [34.193333, -117.278007], [35.391846, -119.118931], [32.95005, -117.104876], [33.62894, -84.40039], [38.605524, -122.59542], [29.923573, -95.401215], [37.25319, -121.94313], [33.462393, -112.220707], [43.12059, -83.694449], [41.463414, -72.776798], [37.787535, -79.591775], [38.01947, -78.43346], [34.813411, -82.134847], [30.683958, -88.127009], [35.029848, -85.186484], [33.982676, -117.34188799999998], [36.135739, -120.157245], [37.890062, -121.276389], [38.56068, -121.46329], [39.465678, -121.555015], [37.766865, -121.733321], [34.338266, -118.515581], [38.146044, -122.216602], [38.044623, -121.320981], [33.979823, -118.278871], [34.683535, -80.618736], [37.255231, -121.87777], [28.378613, -81.405503], [38.29744, -120.281449], [29.469248, -98.475276], [40.1556, -103.04598], [34.73061, -86.59646], [39.431916, -123.383555], [41.82788, -87.63016999999998], [43.647333, -116.649618], [33.858135, -117.979506], [32.888147, -96.705308], [36.784458, -76.105276], [26.343246, -80.170386], [41.601088, -73.911838], [33.985594, -118.280385], [32.91653400000001, -96.701888], [33.989195, -118.241148], [45.086828, -93.446735], [43.013211, -88.225502], [43.683203000000006, -116.315756], [43.036161, -124.041366], [45.773531, -92.829114], [35.375842, -118.949615], [38.793271, -77.05017600000002], [34.082969, -117.695041], [36.808146, -119.887194], [37.89838, -122.30933], [38.11303, -85.69466], [34.154405, -118.384235], [33.118404, -117.319682], [37.994831, -121.25371], [34.571809, -112.276088], [37.368248, -76.571523], [45.134377, -122.897425], [38.430578, -121.398444], [36.144429, -86.69574300000002], [46.802512, -113.773476], [33.422871, -112.210407], [30.22142100000001, -81.513847], [25.732854, -80.31828399999998], [33.110652, -97.027446], [30.496051, -87.263101], [40.05963, -75.09594], [34.279799, -79.846503], [38.89092, -104.75691], [35.86822, -78.62080999999998], [32.972386, -80.227453], [26.272849, -81.749205], [37.647677, -122.095789], [34.206324, -117.141942], [45.259573, -122.786687], [41.89422, -72.6433], [28.171322, -82.351902], [32.805126, -96.793731], [30.386133, -91.073035], [37.36215, -121.04602], [43.886872, -121.38501], [38.396991, -81.85740200000002], [39.144894, -84.53716700000003], [25.925515, -80.171996], [34.103942, -118.319862], [33.189616, -87.451578], [37.239785, -76.63315899999998], [30.437516, -91.02661], [38.617018, -90.17856], [32.987234, -96.842046], [36.113873, -86.8099], [30.221081, -82.149549], [34.464427, -118.543269], [40.59158, -73.96068000000002], [30.126358000000003, -97.641304], [33.95323, -117.303871], [44.96424, -93.23616], [40.477396, -74.29954599999998], [40.55129, -74.48899999999998], [28.753441, -81.59322399999998], [40.661256, -78.68174599999998], [33.654920000000004, -84.36503], [45.4801, -122.56961], [37.66395900000001, -121.028276], [34.262836, -118.441033], [39.35732, -76.6499], [29.653514, -95.352563], [36.547018, -119.610868], [35.32230999999999, -119.037532], [34.066719, -117.243602], [37.56615, -77.36021], [40.776221, -111.94933], [42.72549, -84.54092], [32.90681, -96.728259], [39.8899, -86.04876], [37.926943, -121.341259], [25.82212, -80.25094], [26.586297, -81.72433199999998], [45.505415, -122.673639], [32.65963, -97.32119], [28.452685, -80.97434], [33.584035, -117.671524], [40.707125, -73.903235], [38.26041, -85.73843000000002], [40.90582, -74.10441], [30.430031, -84.273827], [38.034479, -121.072703], [38.11021, -85.68258], [27.381609, -82.447189], [40.84507, -73.91626], [25.897225, -80.380845], [37.143397, -121.984842], [25.883568, -80.243195], [44.723879, -92.851983], [40.679529, -75.341652], [38.194172, -77.500552], [35.176561, -78.697641], [25.702474, -80.33150699999999], [32.837598, -117.172155], [34.134431, -117.957005], [42.098547, -120.31918600000002], [32.788946, -96.764106], [33.916398, -118.365605], [33.94266, -113.1765], [41.19135, -79.87373000000002], [42.264372, -83.280562], [36.549013, -119.598444], [43.178496, -77.613505], [37.83694600000001, -92.096661], [41.858672, -87.74450999999998], [39.873355, -75.584002], [33.913773, -118.309098], [33.930722, -118.210617], [43.683423, -124.148792], [26.528943, -80.07329], [35.23002899999999, -80.742372], [40.570503, -77.244218], [35.98617700000001, -119.964518], [40.23379, -74.74878000000002], [26.677857, -80.06952], [34.047924, -81.12140699999998], [35.029814, -80.819824], [42.887757, -73.772913], [40.846059, -73.930479], [34.128603000000005, -117.247155], [32.163342, -110.960413], [37.54299, -122.02029], [37.794646, -122.26837], [25.685198, -80.418289], [38.935793, -77.13429000000002], [29.946582, -90.128828], [25.754494, -80.35123], [34.10686, -118.25006], [30.433903000000004, -91.119849], [47.46312, -122.21795], [32.65795, -97.32142], [29.676818, -95.528332], [40.161241, -75.27054100000002], [34.067640000000004, -117.60049], [38.662182, -121.267516], [38.93599, -76.916041], [28.570442, -81.19289300000001], [39.02431, -94.221615], [45.76572700000001, -93.613182], [44.199591, -93.533557], [36.177609, -86.77296700000002], [33.80123, -117.87848], [33.87115900000001, -118.1005], [38.109593, -120.460426], [25.890014, -80.212898], [37.741723, -121.574194], [41.295423, -74.137959], [35.27776, -81.02614], [30.63037700000001, -85.560467], [26.709069, -81.602089], [39.711563, -75.353102], [36.527426, -76.18137800000002], [34.152775, -118.330274], [34.066512, -117.252429], [40.82306, -124.18161], [38.24541, -122.0796], [42.17943, -88.07839], [39.80293, -104.93702], [25.68402, -80.387637], [42.48776, -96.38028], [36.812176, -76.74996800000002], [37.811298, -121.992688], [34.016236, -117.343994], [35.278505, -113.130544], [33.020258, -80.125991], [26.597528000000004, -81.848437], [34.229675, -77.957643], [36.743712, -121.374581], [38.926643, -104.719691], [25.790294, -80.368948], [26.164726, -80.20489], [45.84036, -123.51663], [25.82432, -80.20647], [37.68949, -122.103998], [25.940932, -80.30678], [37.78828, -122.19867], [26.382187, -81.808153], [45.55703, -122.5666], [30.062695, -81.874104], [25.943451, -80.30708800000002], [36.151602, -86.80163399999998], [26.16666, -80.142949], [33.696102, -117.084844], [33.745214000000004, -117.833401], [33.9137, -118.12041], [45.507939, -122.669176], [33.728693, -117.382656], [40.78128, -73.9441], [32.341597, -93.726028], [36.89852, -121.5564], [45.53598, -122.66773], [33.739466, -112.302749], [34.789488, -92.39017], [29.445891, -81.97476800000003], [28.436204, -81.366644], [44.176577, -70.231662], [32.705928, -97.320479], [30.247689, -97.804015], [34.072223, -117.907517], [41.356378, -73.639228], [34.54227, -119.86894], [45.01258, -122.99246], [45.17519, -123.23963], [38.04287, -122.24126], [45.010317, -93.170991], [44.89215, -93.42618], [38.34055, -77.07360899999998], [25.842772, -80.242584], [33.934932, -81.08078499999998], [27.46243, -82.609624], [33.86198, -118.309143], [37.79863, -121.031458], [44.055455, -123.227065], [37.769366, -119.092234], [40.73022, -73.83414], [38.644021, -121.378451], [42.97402, -77.12133], [25.88496, -80.26657800000002], [47.89106, -122.739207], [32.716365, -117.118004], [33.983001, -118.416908], [41.068707, -73.868095], [37.55135, -77.42822], [45.278589, -122.944756], [35.09063, -106.7365], [30.250892, -97.59274], [34.13558, -117.99506], [43.96192, -123.01143], [37.161086, -113.466796], [38.43548, -122.5782], [25.930694, -80.123533], [28.332802, -81.477721], [40.830805, -73.852098], [39.81069, -75.70496999999997], [40.08227, -82.90728], [34.87976, -89.99106], [38.851567, -76.973304], [33.752135, -117.455359], [38.965622, -76.632407], [41.99569, -87.87468], [36.00881, -83.9698], [45.52023, -123.0842], [25.701238, -80.334038], [34.22546, -119.159663], [45.675305, -121.275275], [44.62251, -121.13129], [37.128246, -121.976336], [47.0472, -122.82139], [33.568022, -81.744461], [40.073661, -120.840204], [43.02822000000001, -76.04495], [37.111269, -121.97619], [38.45192, -121.40803], [30.57411, -88.22532], [36.62633, -82.16311999999998], [37.61385, -77.36349799999998], [33.101513, -117.091157], [41.389512, -73.50680600000003], [34.237458000000004, -80.662662], [44.289379, -121.500568], [43.911317, -121.351894], [44.89745900000001, -93.226308], [33.60572, -117.690033], [34.052331, -118.259296], [35.017493, -90.002714], [34.17524, -79.808603], [37.77326, -122.22795], [27.112817, -82.384429], [37.992269, -122.306885], [34.526306, -82.84215999999998], [39.787105, -105.077008], [33.494385, -86.787325], [34.151990999999995, -118.132261], [30.441654, -91.130715], [36.015133, -86.735984], [35.254914, -118.914452], [25.899331, -80.188855], [38.3652, -120.794527], [35.127164, -118.411084], [35.38917100000001, -84.720787], [38.657615, -121.272241], [39.939759, -75.014759], [32.75894, -97.21836], [25.711094, -80.382351], [36.05903, -95.975416], [36.923734, -120.022147], [40.60718, -111.90542], [44.059972, -121.300717], [45.373568, -122.838132], [45.551147, -93.583824], [34.065671, -117.323107], [34.076262, -118.216461], [34.263754, -119.010903], [44.668844, -123.851065], [39.31259, -120.548547], [39.89145, -82.98697], [40.84524, -73.92778], [37.547906, -77.447968], [33.160032, -111.874669], [35.457045, -82.542357], [34.037240000000004, -118.309074], [37.06336500000001, -122.003145], [44.96688, -92.958508], [38.501308, -121.43164099999998], [38.64306, -90.34688], [40.75327, -74.21083], [43.05894, -77.639214], [32.358591, -111.089972], [34.068162, -117.386519], [25.90497, -80.227177], [34.063078999999995, -81.04633100000002], [41.423557, -73.300781], [25.602849, -80.376743], [43.04062, -87.92491], [38.858417, -77.836428], [40.10165, -75.25275], [42.053103, -88.010339], [43.73454, -121.46858], [33.924976, -118.280965], [38.3705, -121.958993], [38.911961, -76.84999499999998], [34.509443, -93.147246], [42.05505, -124.270643], [33.52071, -80.88192], [32.357295, -86.21653], [35.267336, -80.85021], [41.9621, -87.74528000000002], [46.984609000000006, -104.156881], [44.931562, -123.121293], [34.056721, -117.407021], [45.114698, -93.188346], [35.818813, -78.595848], [34.016575, -81.41013199999998], [39.19549, -112.081088], [26.83497, -80.0987], [44.391202, -123.578444], [41.2094, -95.94918], [28.338237, -81.50614200000003], [44.3014, -120.71914], [34.022428000000005, -118.166923], [33.90175900000001, -118.369435], [28.703048, -81.382312], [28.522928000000004, -82.21935], [37.711385, -122.127566], [33.904357, -117.460408], [36.62354600000001, -119.664395], [38.595789, -121.382892], [34.147973, -118.074871], [34.018881, -118.183721], [41.798912, -88.276487], [38.880754, -77.03041400000002], [38.996429, -76.984848], [36.062819, -86.68281], [27.388454, -82.447854], [34.186214, -118.942084], [33.870696, -117.744859], [28.08424, -82.45470999999998], [42.667647, -77.812331], [39.188886, -78.134883], [26.694206, -81.780929], [33.424755, -112.025045], [32.811859000000005, -117.151604], [32.764241, -117.158203], [43.04981, -88.22504], [35.094590000000004, -81.00518000000002], [27.755687, -82.665013], [33.458857, -80.726046], [35.50396, -117.665773], [33.454128999999995, -112.108252], [34.106603, -117.862167], [38.560435, -121.481534], [34.136516, -117.563344], [40.882062, -121.664332], [35.85684699999999, -78.607611], [33.885974, -78.597675], [33.941824, -118.07264], [44.24996, -123.197553], [35.368496, -118.967605], [32.803124, -96.793019], [32.83041, -97.31252], [44.94853300000001, -93.10279], [39.30973, -76.54172], [37.746906, -121.133669], [37.229226, -119.763048], [26.685599, -81.66372700000002], [39.941397, -75.00255200000002], [32.86701, -79.90754], [29.96657, -90.111108], [45.282399, -118.033029], [34.095491, -117.301714], [39.555111, -104.870529], [33.846926, -117.252848], [42.816048, -78.791853], [35.38573, -118.978029], [45.631247, -122.56006], [32.881116, -97.076025], [47.69421, -122.32951], [34.02854, -118.21539], [34.385454, -118.483067], [39.823948, -86.224275], [25.85225, -80.20814], [39.927073, -86.029824], [34.061661, -117.190808], [34.895491, -82.342173], [36.833011, -76.125771], [34.154133, -118.467958], [28.36936, -81.43014000000002], [37.66423, -122.463907], [37.767635, -122.396201], [35.93524, -78.85854], [35.909618, -84.128934], [27.300548, -82.49762700000002], [42.38145, -83.06496], [42.34756, -71.05815], [40.070659, -75.152182], [33.964319, -118.120005], [25.771645, -80.26530799999998], [40.04473, -80.65607], [45.424105, -122.590089], [33.864637, -118.198159], [44.0104, -117.00537], [40.842932, -73.87211500000002], [28.296747, -82.707415], [40.978833, -73.69550600000002], [34.924238, -118.212367], [35.77589099999999, -78.764191], [28.486835, -81.41856999999997], [28.303869, -81.468358], [39.800432, -104.933091], [34.422964, -118.428738], [45.890753, -123.154573], [25.62694, -80.393559], [34.845594, -82.299995], [44.94853300000001, -92.970138], [34.016141, -117.33995], [46.764915, -92.123264], [45.06953, -93.28592], [45.161225, -122.54364], [42.227481, -83.690128], [25.76861, -80.367676], [34.60563, -120.174154], [38.964039, -76.904985], [28.58404, -81.25816], [42.912818, -85.649313], [40.603998, -74.069384], [30.000892, -90.114967], [44.98705, -93.238295], [25.76107, -80.390812], [26.11624, -80.32151], [33.711135, -78.97709499999998], [43.022597, -88.035938], [32.80911500000001, -80.76709699999998], [39.671684, -75.675619], [33.437895000000005, -86.73003], [38.428079, -81.820626], [41.78855, -72.65706], [38.580508, -121.463968], [45.581606, -122.678681], [40.861383, -74.418092], [37.94046, -122.324391], [25.883637, -80.243199], [38.098087, -78.463874], [41.75706, -87.62578], [45.551609, -122.67879], [39.161668, -84.514359], [45.377125, -122.09837], [44.96988, -93.30887], [33.38627, -111.81054], [30.251787, -81.584333], [40.703695, -73.959928], [31.808581, -106.252883], [38.673473, -121.639777], [37.495863, -122.310985], [39.936784, -75.365089], [28.398495, -81.526661], [39.13421, -94.4991], [44.877304, -93.080624], [30.477736, -91.109316], [37.068628, -121.212533], [33.87072, -117.74486], [34.199119, -118.219746], [43.136606, -123.394609], [34.5016, -118.255856], [38.68203, -121.33527], [48.468206, -112.789629], [45.28913, -122.65558], [40.704052, -111.546498], [28.452939, -81.400159], [38.87904, -77.25407], [43.125232, -75.240994], [32.427706, -80.896437], [30.499262, -97.600255], [39.856301, -104.987278], [37.468199, -77.428286], [39.77122, -86.15428], [44.93291, -93.07175], [36.447223, -121.360968], [34.0038, -118.279032], [40.738328, -73.903176], [42.814525, -85.668758], [36.206389, -121.116768], [42.701537, -73.84872800000002], [40.639267, -73.74210699999998], [33.772003999999995, -84.54707900000002], [38.08829, -122.23185], [40.70148, -73.52115], [33.870805, -117.740212], [43.021293, -83.6818], [36.735917, -119.556397], [25.915793, -80.37971999999998], [41.174823, -73.154586], [34.591094, -118.094293], [45.407442, -122.571197], [37.42570900000001, -121.883969], [40.894492, -87.20390400000002], [27.950173, -82.5186], [42.36083, -83.2165], [30.091794, -97.738232], [34.701118, -120.167408], [39.780373, -123.831523], [43.028359, -74.300035], [35.913441, -119.044886], [40.26073, -111.70541], [32.880108, -96.821025], [26.675769, -80.05743000000002], [33.961756, -118.369344], [35.779838, -78.72986800000002], [32.964702, -117.247198], [40.802693, -74.07214], [40.426651, -122.283314], [37.53753, -77.31958], [45.066438, -93.197379], [39.83791, -86.28716], [38.59908400000001, -121.403333], [34.035327, -118.170158], [47.96912, -122.19653999999998], [37.36068, -120.84963700000002], [37.876767, -122.530254], [39.490503, -121.306029], [38.561872, -121.487107], [40.732534, -73.925141], [38.98841, -76.98767], [42.984443, -85.63906999999998], [25.59857, -80.35507199999998], [39.256521, -76.676512], [27.943287, -82.333331], [30.681495, -85.719421], [47.66829, -122.32237], [28.166054, -82.698249], [36.998552, -108.749638], [33.72017, -117.97198], [32.753174, -96.771078], [25.689146, -80.38287199999998], [45.438078, -93.58177], [33.86257, -81.229208], [33.6987, -117.86175], [33.88681, -118.1045], [28.48956, -81.43701], [33.505007, -117.659271], [38.66062, -75.59382], [28.56703, -81.209618], [42.452006, -123.306847], [33.869640999999994, -117.262606], [38.663843, -121.272205], [41.43166, -81.68160999999998], [37.324429, -120.540961], [44.861651, -93.463343], [26.582354, -80.173212], [42.30869000000001, -87.8768], [33.83459000000001, -117.93692], [32.745707, -96.917959], [42.36544, -83.1334], [47.464703, -92.523218], [35.955001, -83.97499599999998], [33.73087, -117.98655], [38.340606, -77.49193299999997], [37.869099, -122.040449], [40.794593, -73.68469499999998], [25.669679, -80.453378], [33.424561, -111.978098], [38.610644, -121.401418], [34.15482, -118.23978], [30.185649, -81.638522], [33.99557, -118.17683], [41.569787, -87.410198], [36.154577, -86.820029], [29.86174500000001, -95.384719], [35.025695, -80.965911], [41.603689, -90.343878], [40.590755, -74.623134], [34.938422, -89.995397], [41.924958, -87.968016], [34.068303, -117.97682], [34.173207, -118.601846], [37.892591, -122.159524], [34.635115, -117.345502], [40.008807, -75.30069499999998], [34.042952, -118.272653], [26.547148, -81.799823], [40.43826, -85.01522], [26.84301, -80.13189], [30.42258, -91.1347], [39.088078, -76.555518], [33.872979, -118.101368], [28.497022, -81.396934], [34.896462, -82.27261999999997], [25.876713, -80.169187], [42.42619000000001, -123.110469], [40.902537, -124.02889], [37.680235, -122.125205], [44.94843, -92.90329], [34.03242, -117.75921], [26.545156, -81.839239], [25.906932, -80.238078], [28.004955, -82.307692], [34.2682, -118.47205], [37.650541, -77.608141], [44.163379, -93.868868], [35.62501500000001, -82.21063199999998], [40.251584, -75.654928], [27.9416, -82.54824], [33.407354999999995, -111.943329], [28.069248, -82.449975], [35.534703, -80.86159], [25.732173, -80.33572099999998], [28.56641500000001, -81.286017], [45.507317, -122.683786], [35.91896, -94.19819], [39.00985, -94.69381], [34.0958, -117.30201], [45.424646, -92.989654], [33.62911, -81.302704], [33.410663, -117.279796], [39.878499, -123.731998], [40.844961, -76.823833], [36.063469, -79.42755799999998], [35.128021999999994, -90.023914], [33.76392, -118.02797], [46.75589, -92.10574], [30.15247, -97.76727], [33.40811, -111.7884], [39.871661, -84.368114], [28.474869, -81.446175], [34.3151, -117.47855], [35.117773, -80.92264399999998], [30.224443, -81.573727], [40.85333, -73.96133], [45.686812, -121.416878], [28.451637, -81.470822], [41.566966, -87.743197], [36.094819, -95.922156], [33.778464, -80.983244], [38.245675, -122.469189], [30.434452, -91.209462], [38.848098, -77.05279399999998], [33.677202, -117.844156], [36.230006, -87.545396], [40.210479, -76.794196], [29.85973, -95.52423], [41.23337, -73.19015], [25.684676, -80.387136], [40.97845, -73.69629], [40.699973, -73.961718], [33.506132, -81.865279], [25.889511, -80.162851], [30.447937, -81.61301], [37.54988, -122.05462], [42.17149000000001, -87.94958000000004], [44.781468, -123.039496], [40.75605, -73.19842], [38.06494, -122.22663], [43.156894, -73.575447], [38.220967, -119.998436], [25.76452, -80.260539], [44.994024, -93.283656], [39.925544, -86.25133199999998], [38.408471, -121.483887], [34.227945, -118.84703799999998], [43.148108, -123.36475], [36.254794, -120.211199], [45.53335, -122.56305], [38.662591, -121.327385], [38.84822, -77.08045], [38.709973, -77.221645], [32.790768, -96.599171], [34.013416, -117.343983], [25.68875, -80.308412], [39.93612, -86.15804], [39.753027, -121.97495], [31.607915, -97.104897], [42.206381, -87.94313000000002], [32.75018, -117.01585], [30.486604, -86.424738], [34.028252, -117.550052], [33.90823, -84.42974], [30.47265100000001, -91.183015], [42.95897, -87.8823], [38.666823, -121.27225], [37.55443, -122.04822], [36.214975, -86.5913], [32.503546, -93.771809], [44.541256, -123.06198], [37.786142, -122.27662], [40.26356, -76.81451], [35.02922, -85.31128000000002], [40.776818, -111.46751], [38.811575, -76.059926], [38.414831, -115.027298], [39.02883900000001, -85.891829], [40.065663, -75.32104], [28.57358, -81.37586999999998], [38.934598, -94.691577], [42.91834, -83.677205], [34.557922, -118.135704], [40.560941, -75.45459100000002], [36.159391, -86.780963], [37.78667, -122.3902], [34.00416, -117.35017], [29.156098, -82.134349], [38.60783, -90.21303], [34.118963, -117.866551], [35.161549, -81.905899], [25.73299500000001, -80.337037], [28.551744, -81.505862], [33.935334000000005, -117.111984], [37.53495, -122.07562], [34.070282, -117.864295], [39.003593, -81.634622], [25.73521400000001, -80.319257], [25.795038, -80.26084399999998], [38.821088, -76.886496], [35.209082, -118.842153], [33.648579999999995, -117.738386], [30.181433, -81.628812], [32.7877, -117.113981], [44.04017, -121.30637], [32.759193, -96.68273], [34.903055, -82.219309], [28.597358000000003, -81.2865], [42.879504, -117.45856], [25.582343, -80.331879], [37.233434, -77.39576], [34.190047, -79.800025], [29.804431, -95.218826], [38.809386, -77.491647], [39.016839, -94.129003], [40.654274, -73.56693100000003], [32.643756, -96.85701], [33.853314000000005, -98.571784], [32.7424, -96.81808], [34.039506, -117.55003899999998], [42.984941, -85.679371], [28.367899, -81.404363], [32.842039, -96.775285], [34.020182, -118.18263600000002], [37.99069, -122.33276399999998], [25.9274, -80.21497], [32.973057, -117.250364], [45.465217, -122.63839], [33.889621000000005, -118.192954], [47.78088, -122.31694], [25.732994, -80.337399], [32.806165, -97.210882], [38.700442, -121.244346], [41.178334, -73.175865], [39.927493, -76.860412], [30.431174, -91.052058], [32.906962, -97.31708], [37.39608, -121.90758999999998], [25.76861, -80.367676], [30.215949, -97.697259], [45.09171, -93.18803], [36.677222, -121.641111], [44.06557, -116.99539], [45.075946, -93.327564], [33.67876, -117.84836], [41.872678, -87.796124], [33.869918, -117.671453], [40.110765, -76.205721], [33.985405, -117.345095], [43.031548, -77.82733], [34.030496, -117.662514], [42.688824, -120.158878], [34.13308, -117.19431000000002], [30.340903000000004, -91.727276], [30.441473, -91.011632], [32.86243, -96.644018], [37.992017, -122.073722], [34.031, -117.32828], [29.577894, -98.595411], [38.558254, -76.060056], [37.875204, -121.277746], [27.654243, -82.374764], [30.254785, -82.272421], [40.817453, -124.187413], [38.62947800000001, -90.324313], [38.615658, -76.879755], [39.104732, -123.161391], [34.02864, -118.21611], [39.27921, -76.82166], [42.24016, -87.90572], [41.68794000000001, -88.06267], [38.664702, -121.336724], [28.06557, -82.5049], [36.757686, -119.775503], [33.889309999999995, -84.25650999999998], [35.380754, -119.372534], [26.543522, -81.85254599999998], [33.87334, -118.20712], [37.815022, -122.358505], [38.877545, -122.618185], [40.64219, -74.14211999999998], [37.44824000000001, -121.282871], [34.409576, -112.61292], [35.869629, -78.577211], [33.873505, -118.257583], [36.175662, -86.603042], [25.73299500000001, -80.337037], [40.155791, -77.29818399999998], [34.147859999999994, -81.21404799999998], [41.6217, -87.68275], [39.703405, -121.786827], [34.047444, -118.265742], [34.937778, -118.930556], [39.020172, -122.060713], [41.344224, -74.923056], [34.977138000000004, -79.601505], [32.705731, -96.827183], [42.246797, -87.979647], [25.698947, -80.442661], [39.483461, -79.051009], [40.36733, -76.9376], [34.029518, -81.103037], [27.39978300000001, -82.49661], [33.61773, -85.09424], [36.890455, -76.427863], [45.49845, -122.56555], [30.3408, -81.76088], [39.594389, -86.37638199999998], [37.75764, -121.115111], [30.325489, -97.674009], [28.450272, -81.407426], [45.10461, -93.04988], [40.41975, -80.05126], [39.00272800000001, -121.671563], [25.73919200000001, -80.442234], [34.273955, -118.930457], [40.72292, -74.17657], [30.557334, -88.205342], [36.881092, -76.21073100000002], [32.25069000000001, -110.8409], [39.523133, -75.68549], [38.404474, -120.71751299999998], [37.6664, -79.51214399999998], [28.569717, -81.32795899999998], [40.059467, -75.326975], [29.964240000000004, -90.09597], [33.625664, -112.099691], [41.51074000000001, -87.26015], [28.449911, -81.480513], [45.02776, -94.50813], [42.254412, -85.53763199999999], [36.147927, -95.868802], [41.091302, -78.51728], [27.301398, -82.530497], [38.560071, -121.478187], [42.331277, -121.957715], [32.76101, -117.1674], [33.880151, -117.565244], [33.609548, -117.257798], [40.71922, -80.142399], [30.452684, -91.181931], [39.906318, -86.071792], [42.42948, -86.25224], [26.265081, -80.12903299999998], [42.513682, -82.918351], [28.877447, -82.363342], [32.311273, -80.934809], [34.33783, -118.51422], [35.100022, -85.277964], [25.928167, -80.19994], [40.82309, -73.88274], [40.386701, -74.570784], [25.763526, -80.289191], [25.937759, -80.188641], [38.612078, -90.21453], [36.03188, -95.86052], [34.06927, -118.04526], [40.835878, -73.87382], [25.927047, -80.224132], [37.658652, -121.02608899999998], [29.973172, -90.065381], [33.85285, -118.27965], [32.207031, -110.894483], [38.162029, -78.99153100000002], [37.854862, -122.029221], [34.03069, -118.25814], [25.793426, -80.328779], [43.986298, -124.042656], [40.734922, -73.92106], [41.6171, -72.69575999999998], [41.7499, -87.70239000000002], [39.84236, -104.98402], [35.49323, -97.44199], [45.06047, -93.15145], [35.192033, -89.931557], [43.32302, -70.60814], [37.320519, -121.947968], [33.977551, -118.256415], [39.09619, -77.10991], [37.5742, -122.317782], [41.763212, -124.206137], [44.96499, -93.28723], [30.318890000000003, -81.80654], [43.75381, -123.138355], [33.825733, -118.241778], [41.62771, -93.60053], [38.906487, -77.461242], [35.19532, -80.88384], [32.614834, -93.894623], [33.129261, -117.097231], [28.1205, -80.70605], [42.912737, -85.639189], [41.556272, -72.743415], [33.93768, -118.352718], [36.992694, -119.413801], [45.50153, -122.660708], [38.449126, -122.742177], [34.06675, -117.45525], [37.960597, -121.333953], [40.90223, -73.79413000000002], [25.78424, -80.300537], [37.02764000000001, -120.836044], [42.1223, -71.229096], [36.20882, -86.77620999999998], [40.68889, -111.95191], [29.955135, -90.08185], [37.60784, -120.97498], [30.380044, -97.687437], [36.422792, -94.485911], [40.72897, -73.927858], [47.804742, -103.390527], [40.71061, -73.85976], [47.222845, -122.434044], [32.810121, -117.114869], [37.848986, -122.235713], [25.760888, -80.392699], [39.841709, -75.710488], [41.65034, -93.59341], [37.638334, -121.053596], [39.9865, -76.28118], [34.072, -118.108098], [25.685169, -80.446102], [38.275643, -122.04756299999998], [33.893498, -118.046897], [35.751773, -78.701075], [28.494551, -81.391449], [25.924072, -80.15433900000002], [34.847722999999995, -82.279862], [34.341598, -80.075389], [27.302248, -82.497623], [37.322727, -78.035137], [37.055657, -78.655674], [29.674769, -95.559521], [43.592365, -116.354409], [33.925069, -118.20989], [37.569882, -120.31923700000002], [28.919101, -81.444629], [35.75489, -84.78832], [40.854842, -73.9702], [38.677685, -121.805111], [42.420049, -73.672911], [28.577486, -81.476862], [26.088505, -80.209518], [32.75894, -97.00124], [40.901144, -74.140967], [37.550696, -79.66544300000002], [42.81941, -83.57014000000002], [39.084366, -76.89669], [35.729382, -78.651002], [33.887003, -117.581707], [30.235972, -97.728484], [41.87543, -87.67274], [35.29277800000001, -77.646378], [41.82319, -72.66608000000002], [39.317, -76.63616], [32.898288, -96.466244], [28.392874, -81.37246999999998], [32.75779, -117.00642], [41.028373, -76.078841], [42.558428, -71.14129100000002], [30.422876, -87.260468], [26.71485, -81.610066], [29.179194, -81.88335699999998], [25.945505, -80.280022], [45.125432, -93.487579], [28.451938, -81.400468], [47.290273, -122.30666], [28.576971, -81.70083199999998], [39.80833, -86.15668000000002], [33.884428, -117.88063], [41.194578, -73.195027], [38.64292800000001, -121.539758], [41.042486, -73.573926], [41.78967, -87.63064], [38.669975, -77.25694200000002], [37.34968, -121.90881], [37.070757, -121.074067], [38.88483400000001, -104.835487], [40.539985, -121.588596], [33.903945, -117.461227], [30.023177, -82.337313], [35.791922, -78.743916], [28.576778000000004, -81.45138299999998], [44.960335, -93.269194], [36.641514, -121.571436], [38.99252, -77.16176], [38.736523, -77.19246700000002], [34.007454, -117.927985], [34.029018, -117.968764], [35.139567, -92.402056], [34.22843, -117.288182], [40.84508, -73.9192], [36.752836, -79.978712], [37.56055, -121.90874], [35.86141, -78.6865], [39.008736, -122.613734], [41.848464, -124.140303], [33.675434, -87.243624], [42.117596, -73.956103], [37.75201, -83.60322], [30.462205, -91.140589], [39.250636, -119.977839], [34.074563, -117.618285], [34.016558, -118.176895], [45.190561, -123.207631], [38.688319, -120.78264], [42.875221, -71.34261], [30.50587, -87.221386], [36.96764, -76.51171], [27.486129, -82.030897], [33.409536, -83.761205], [25.831073, -80.242384], [35.70426900000001, -78.64094399999998], [29.960667, -90.091572], [34.19628, -117.419159], [40.383735, -77.996352], [32.76628, -96.85696], [35.036421000000004, -81.83639699999998], [35.277912, -81.16615999999998], [34.020495000000004, -118.194105], [29.69047, -95.32889], [25.811613, -80.313412], [32.789182000000004, -117.148417], [32.650267, -117.066303], [47.20065, -122.46157], [37.035965, -113.06742], [44.952199, -93.34778], [29.674998, -95.537387], [29.990819, -90.070284], [37.826871, -122.286515], [34.038463, -118.02102], [43.48853, -71.59458000000002], [36.032566, -86.64095400000002], [33.46239, -112.03753], [43.50634, -121.9347], [28.174318, -80.672099], [38.595165, -121.444301], [33.971509000000005, -118.252036], [25.597472, -80.38496500000002], [38.99932, -76.89194], [34.567409000000005, -79.53645300000002], [39.0103, -84.63495], [25.744128, -80.446322], [38.37096, -122.71372], [33.925606, -118.321377], [41.0451, -73.56396], [36.895702, -119.711172], [30.09009600000001, -90.4476], [34.952014, -82.066935], [44.965738, -122.701918], [42.48694, -96.39565], [34.128711, -79.945144], [40.69581, -73.9646], [33.589316, -111.908671], [37.58519, -77.41484], [38.43971, -88.95271], [44.94937, -93.040562], [34.605769, -118.147802], [40.434161, -79.99468399999998], [43.633808, -116.360281], [32.83185, -96.63149], [33.429555, -112.086073], [33.500565, -111.887973], [32.70786, -96.82968], [38.94914, -76.86070500000002], [40.133346, -75.061887], [36.210862, -119.233406], [34.06816, -117.60106299999998], [30.131285, -82.66380799999997], [37.824967, -122.30555], [29.943508, -90.097248], [35.33245, -80.80999], [44.95352000000001, -93.08321], [33.773753, -117.992676], [26.54875800000001, -81.839259], [45.431288, -118.360744], [30.249723, -97.866267], [36.484819, -121.418329], [37.240852, -80.219711], [29.15702000000001, -95.45255], [38.631264, -90.375385], [35.586161, -78.574218], [36.762539, -119.832767], [37.600131, -122.424372], [38.565356, -121.295766], [38.24541, -122.0796], [34.957458, -82.426227], [33.668994, -112.057058], [30.267405, -97.771315], [27.301396, -82.530403], [25.601297, -80.353022], [33.953127, -118.105047], [44.96542, -93.28805], [33.161083000000005, -84.03778100000002], [38.901461, -77.0199], [30.489129, -87.223322], [29.512207, -98.552773], [38.711693, -76.854642], [42.40622800000001, -82.956508], [32.88067, -80.001817], [27.447751, -82.573305], [30.216546, -97.751419], [32.36320300000001, -86.208279], [40.971512, -78.11833], [27.95669, -82.46048], [47.589844, -122.320736], [43.666025, -93.530049], [25.884911, -80.204549], [39.3134, -77.44219], [43.032793, -124.41526], [33.461696999999994, -112.114128], [34.173645, -118.390987], [25.796872, -80.346603], [45.29647, -93.78776], [34.886078000000005, -80.997959], [38.955787, -77.193413], [34.982971, -85.466509], [35.791266, -78.65286800000001], [38.01204, -121.997], [41.061753, -121.279626], [33.88426, -117.88064], [25.703314, -80.290734], [36.562587, -121.561115], [34.015957, -118.130169], [34.207967, -80.454542], [34.999627000000004, -82.063039], [24.668394, -81.254729], [40.782058, -77.063362], [41.575822, -71.81187800000002], [26.664182, -81.12854200000002], [42.35946, -83.57555], [40.872895, -76.971749], [37.768998, -122.409196], [30.478871, -91.140629], [28.12955800000001, -82.502498], [33.869422, -117.743793], [43.22277800000001, -83.560085], [25.745576, -80.392229], [34.669506, -92.354993], [33.77911, -117.88877], [34.529954, -80.375279], [34.053272, -117.547928], [34.06997, -117.29582], [30.24405, -81.60029300000002], [35.804003, -78.69385600000003], [25.656129, -80.41741999999998], [35.137546, -85.236475], [33.888148, -84.254517], [32.692809999999994, -117.1217], [42.825285, -83.869579], [38.759057, -122.277196], [33.941413, -117.555459], [41.787338, -88.074309], [34.030044000000004, -117.706845], [35.47112, -97.60113], [39.366298, -77.503277], [34.136291, -117.574342], [46.23506, -123.87196000000002], [42.757533, -73.738034], [33.73212, -84.30964], [48.10486, -123.37185], [30.24957, -92.98883], [40.845209, -73.91650600000001], [33.76774, -84.5322], [32.75992, -97.13479], [37.48768, -122.20653], [25.841787, -80.215034], [25.505654, -80.44019200000002], [25.586608, -80.386566], [28.613740000000004, -81.47619], [28.567046, -81.210233], [33.781296000000005, -117.879534], [32.779637, -117.097328], [43.142869, -77.54966], [36.09251, -80.24949000000002], [32.9541, -117.18881], [39.934032, -120.898479], [38.668264, -121.336592], [33.911716, -118.361282], [28.548429, -81.436295], [37.781821, -121.97741299999998], [35.87586500000001, -119.85321100000002], [38.48162, -121.422282], [25.87242, -80.20888000000002], [42.88657, -78.88618000000002], [30.295286, -84.37563], [39.086619, -94.541095], [40.72009, -111.90364], [25.78457, -80.23617], [39.049582, -121.093854], [34.126560999999995, -118.273188], [33.928622999999995, -118.326549], [32.485688, -93.827946], [37.775169, -121.320508], [33.95384, -118.17076000000002], [37.90474, -121.22951], [28.215651, -82.370141], [32.925540000000005, -96.828986], [41.06693, -73.866796], [34.0368, -118.377555], [28.174679, -82.353541], [37.81494, -121.993459], [25.769469, -80.33806899999998], [42.804989, -117.726269], [28.639415000000003, -81.387922], [27.29997, -82.497632], [39.740621, -105.158129], [43.312687, -73.608267], [41.78431, -87.74133], [39.977499, -75.586012], [41.687847, -91.917468], [35.01645, -85.38549], [33.94272, -84.505911], [42.84455, -73.452838], [28.002098, -82.325805], [45.23633, -123.06679], [25.807791, -80.305909], [33.108555, -117.094291], [43.00219, -123.314059], [26.45367, -80.16336], [44.970128, -93.321754], [33.965916, -118.08108], [34.037286, -118.038327], [33.462795, -112.215118], [38.940901, -76.88376], [34.492166999999995, -118.283689], [34.0638, -117.28666], [42.22483, -83.67643000000002], [33.85448, -118.09514], [33.75119, -84.4963], [33.892493, -118.190976], [38.58757, -121.44725], [27.893687, -82.722978], [39.20545, -84.474343], [43.620627, -116.354626], [34.157114, -118.448676], [29.83158, -95.38293], [34.141905, -117.489581], [37.552996, -77.443946], [36.60255, -77.56434499999997], [33.762887, -117.189348], [38.816322, -77.220945], [40.127445, -77.352837], [43.16463, -77.63407], [40.247629, -74.082409], [39.65733, -104.92042], [44.397141, -123.93518799999998], [33.326039, -117.159044], [42.973037, -74.028918], [37.945463, -122.057973], [44.94842, -92.9094], [35.809174, -80.861295], [26.27023, -81.742255], [36.039277, -86.672648], [42.33456, -122.87147], [34.13922, -118.01543], [25.925931, -80.166015], [47.86254, -121.71321], [40.70036500000001, -73.815304], [33.989163, -118.284854], [25.91568, -80.32515], [38.117312, -122.292605], [34.266158000000004, -78.601084], [35.260872, -118.918757], [28.565282, -81.19426700000002], [33.664026, -117.385084], [35.314190999999994, -80.741635], [41.75009, -72.729265], [34.04501, -81.11681], [26.01712, -80.16734], [44.16463, -71.00721899999998], [27.258743, -80.419782], [34.18606, -118.47396], [37.58837, -77.47863000000002], [35.47877000000001, -97.59501], [33.549402, -83.351007], [38.148736, -122.380732], [44.584118, -93.297625], [34.240254, -117.429524], [34.304924, -118.481362], [45.787723, -118.146677], [33.66876, -112.07275], [36.463115, -121.385933], [32.97639, -96.71549], [41.82315, -85.67114000000002], [32.727990000000005, -117.069], [40.72367, -73.72484], [44.83352, -93.059767], [37.905374, -121.183866], [37.32614, -122.05093], [42.05940800000001, -87.867804], [28.451198, -81.488114], [34.03606, -118.26965], [37.199319, -77.426446], [34.16207, -118.29389], [34.259518, -118.438225], [38.348962, -122.961342], [38.180666, -85.720659], [34.079375, -118.291706], [40.84947800000001, -73.941796], [38.64132, -121.47345], [43.047549, -77.65704699999998], [28.025476, -82.503824], [36.141355, -86.739897], [45.557287, -122.180939], [43.242943, -77.69659], [43.29976, -124.21225], [34.188455, -117.357834], [39.11352, -94.56462], [34.067840999999994, -117.403205], [38.782377, -76.895332], [38.84261, -76.86494], [37.975691, -122.318676], [44.76778, -122.5354], [33.988363, -117.903636], [34.025927, -118.231778], [40.63812, -111.83441], [35.27010999999999, -80.85417], [37.548812, -121.972006], [32.444720000000004, -93.729804], [27.508711, -82.415741], [35.801746, -78.58095], [42.485426, -83.456298], [37.8976, -122.093715], [36.204026, -121.133917], [40.79026, -73.1172], [35.35659099999999, -79.109635], [36.141299, -86.731852], [41.22682, -95.95907], [39.533097, -106.215451], [39.737705, -76.660411], [25.747537, -80.337062], [33.850681, -117.814865], [45.447955, -122.730297], [43.039472, -83.773696], [40.453687, -123.653365], [34.656683, -86.802581], [40.360818, -76.358028], [32.970585, -117.249409], [42.0585, -71.0606], [36.158119, -95.96711], [35.052405, -118.359371], [44.54992, -71.98635], [28.452192, -81.400388], [39.014383, -77.059299], [41.51132, -88.08609], [34.106762, -117.898941], [38.81145, -77.2102], [41.660016, -87.733029], [43.614681, -116.602674], [26.00787, -80.31711], [36.960798, -121.550897], [30.516489, -91.168437], [40.054548, -76.72224399999998], [32.154340000000005, -110.90337], [33.94747, -118.36829], [34.228513, -118.18508500000002], [35.58575, -82.58161], [35.20887800000001, -85.28863], [35.90804, -78.72835], [38.660735, -121.329068], [38.656599, -121.347195], [38.668673, -77.26683], [28.47902, -81.44962], [37.67237, -97.42877], [29.74710300000001, -95.365072], [37.557181, -92.793027], [35.510477, -82.57883000000002], [37.371186, -121.849139], [45.517514, -122.802949], [29.804259, -95.412279], [34.232662, -82.20700000000002], [38.70984, -77.19707], [35.027042, -85.366569], [36.073569, -86.990747], [38.65625, -77.28019], [28.493714, -81.461584], [45.706791, -121.574798], [41.95503, -87.73250999999998], [33.61302, -78.983211], [35.04300300000001, -82.30559699999998], [39.20969, -76.94622], [33.982997, -117.339884], [33.941666999999995, -118.279704], [46.170034, -123.732615], [34.261089, -117.449609], [36.835904, -76.065973], [37.89333, -121.85303], [32.769341, -117.130399], [41.894633, -87.655884], [39.8276, -104.98724], [30.036417, -89.911613], [40.24269, -74.08646], [47.02921, -114.10048], [33.750761, -84.381362], [35.36124, -118.914248], [40.726733, -111.767817], [28.536963, -81.310463], [34.14517, -118.2178], [34.87146, -82.445538], [34.432965, -119.875656], [34.148973, -118.46902], [33.853994, -117.928351], [35.879421, -78.692214], [37.813364, -122.250827], [37.76197, -122.40578], [37.327498, -120.25168], [37.885422, -120.499153], [42.30623, -87.96036], [36.05569000000001, -95.868523], [25.732097, -80.33571500000002], [37.33117100000001, -122.211576], [25.901833, -80.387027], [25.88562, -80.20928], [34.184657, -118.911241], [44.142651, -92.527692], [33.6692, -112.084148], [33.891106, -117.27201], [29.941857, -90.095389], [34.136431, -117.544092], [34.719390000000004, -86.573063], [32.806059999999995, -97.21088], [45.917802, -119.302129], [36.738795, -121.671601], [37.58484, -77.43919], [38.16484000000001, -85.72094], [45.138481, -93.038708], [32.675946, -97.038964], [39.254697, -76.686619], [37.693391, -122.391746], [35.20531, -78.666485], [32.236103, -110.916451], [39.799529, -105.03023], [34.036541, -118.15597], [37.308798, -77.337277], [43.490057, -124.220324], [34.025525, -117.805976], [40.735757, -73.858859], [44.14948, -89.34801], [43.952211, -92.358294], [33.407277, -111.995408], [41.663511, -87.591713], [36.245392, -119.349316], [32.727252, -97.508264], [41.83483, -87.63033], [44.118539, -117.372646], [29.60124, -95.20016], [39.096598, -94.595058], [40.85379, -73.963825], [33.587366, -81.759362], [30.425388, -91.1055], [35.6511, -78.56468199999998], [40.42962, -79.99897299999998], [32.449227, -93.778847], [33.935405, -118.280342], [34.06965, -118.2613], [34.290069, -119.034482], [29.88508400000001, -95.412012], [34.580074, -114.642863], [38.945149, -94.537879], [40.41105, -74.23262], [39.046489, -94.429082], [32.77446, -117.207893], [34.06503, -117.31224], [26.939069, -80.155626], [33.958886, -80.91763900000002], [40.018031, -76.741939], [30.344328000000004, -81.54612900000002], [37.032209, -121.947025], [41.835937, -72.665529], [38.34407, -85.71203], [40.207525, -76.861358], [41.29946, -96.00468], [37.725537, -122.183334], [37.987626, -122.039834], [32.77851500000001, -96.903556], [38.99078400000001, -94.552077], [34.199020000000004, -117.41729], [33.966809000000005, -117.32748], [39.11869, -121.146735], [39.766064, -84.200276], [25.819478, -80.386741], [45.461372, -122.6679], [37.106754, -119.31932], [29.980901, -90.109871], [28.549217, -81.413616], [40.71834000000001, -111.88826], [38.834298, -121.168266], [38.710049, -121.078667], [45.03709, -93.02393], [34.080704, -117.628484], [41.426718, -73.326542], [43.689977, -116.344302], [35.83557000000001, -78.64603100000002], [34.825188, -82.447367], [38.682476, -120.84822], [41.141513, -73.283058], [28.659340000000004, -81.38843], [34.68516, -85.0011], [42.88663, -71.47824], [33.88555, -117.6446], [39.106231, -94.571996], [44.27085, -92.54469], [33.597922, -117.660695], [34.22797, -117.28202], [39.90253, -82.89752], [37.23644, -121.75908], [44.95166, -93.1568], [25.831171, -80.23910699999998], [28.4869, -81.42589], [38.81858, -121.18671], [41.27779, -96.02388], [45.582121, -118.610298], [39.71143, -104.99904], [33.714004, -117.964571], [38.929724, -121.088711], [25.733363, -80.367765], [37.772062, -122.224812], [46.12126, -92.887999], [41.019658, -74.221455], [29.868624, -95.414228], [29.991540000000004, -90.05383], [27.099183, -82.20819300000002], [39.21135, -94.49213], [33.69845, -117.86138], [35.121042, -118.91467], [36.754495, -119.775709], [40.85249, -73.83567], [37.327079, -80.03286899999998], [34.072758, -118.05376], [25.866587, -80.292215], [44.573579, -93.298234], [34.50023, -118.381707], [32.354182, -90.023937], [25.571702, -80.376423], [41.43612, -91.091883], [32.20362, -110.949457], [47.59762, -122.33573], [33.841002, -118.206983], [34.031586, -118.15278700000002], [41.86758, -87.61888], [25.68608900000001, -80.395911], [38.577253000000006, -121.465373], [47.57953, -122.19693999999998], [29.40428, -82.344709], [43.05262000000001, -76.1507], [38.193841, -78.395551], [38.805797, -120.139876], [39.440048, -74.539693], [25.954652, -80.20552099999998], [35.894036, -78.561779], [40.367966, -120.840529], [39.93292, -82.83025], [39.016882, -122.91286200000002], [35.965362, -78.517842], [42.367335, -73.619664], [44.768739, -93.574901], [39.50015, -74.60643], [34.317219, -79.59455799999998], [34.124459, -118.272818], [28.491178, -81.430194], [40.841771, -111.915203], [37.387198, -77.515766], [30.377746, -97.52788], [33.931013, -118.17891000000002], [29.939940000000004, -95.2976], [40.004936, -75.218633], [28.027206, -82.180727], [45.8319, -95.26931], [32.602261, -93.842006], [32.7789, -96.81147], [47.203808, -122.287225], [45.51395, -122.68947], [37.407714, -122.066216], [25.89991400000001, -80.16134100000002], [42.176202, -86.30087900000002], [44.426256, -121.877935], [42.225299, -83.685098], [36.967123, -76.296145], [34.030462, -117.598181], [26.11809, -80.32985], [28.997919, -82.19408299999998], [40.973542, -111.892393], [42.984877, -85.677577], [28.251359000000004, -82.352278], [37.62789, -122.08164], [32.857051, -96.872691], [30.424424, -81.570484], [37.806862, -121.990775], [40.783342, -74.149163], [32.925542, -96.837605], [34.029368, -81.124151], [43.019371, -83.799813], [38.387893, -121.934412], [38.63292, -76.921464], [30.297432, -97.676026], [29.632269, -95.524469], [40.781703, -73.825004], [33.853436, -117.068349], [45.321393, -93.562103], [38.496008, -121.451268], [34.052408, -118.2267], [34.772539, -82.342287], [47.469831, -122.206088], [37.765048, -122.393169], [33.774382, -118.099343], [44.43876, -121.95413], [39.086555, -94.541269], [29.225051, -82.22546899999998], [34.173274, -118.306471], [33.871482, -117.68551399999998], [25.945505, -80.275444], [32.762265, -96.956799], [33.753055, -117.848639], [25.98877, -80.34414], [26.107388, -80.28210899999998], [28.539496000000003, -81.485653], [32.98245, -117.092731], [30.408135, -97.679332], [33.769389000000004, -81.387621], [40.77618, -74.24173], [32.67082, -97.20888], [37.92907, -121.256939], [29.80447, -95.29474], [41.23299, -73.03724], [37.41187, -121.87926000000002], [34.068624, -117.376454], [36.345049, -119.411382], [39.78277, -86.15973100000002], [38.803604, -120.116487], [27.971965, -82.4016], [39.69804600000001, -76.441027], [33.93555, -118.09823], [33.635791, -112.004317], [29.802856, -95.475777], [29.851012, -95.237097], [45.78415, -119.32883], [28.56791, -81.294413], [43.05257, -89.50325], [33.81296, -117.91247], [25.8878, -80.32394000000002], [42.933483, -85.680784], [33.974039000000005, -118.080118], [33.58193, -112.1515], [34.061273, -117.422587], [33.774984, -118.084184], [25.927509, -80.208166], [25.717718, -80.43946700000002], [27.864555, -82.326553], [35.805183, -78.732734], [45.85356, -93.30035], [30.44242, -91.007914], [34.06746, -117.571378], [38.64408, -121.38546], [30.336307, -97.755288], [47.57693, -122.31978], [25.846986, -80.211189], [34.031220000000005, -118.274582], [38.83998, -77.2195], [39.70606400000001, -75.745812], [33.67993, -117.87937], [29.63943, -95.53333], [39.217383, -78.13744200000002], [41.56786, -87.3495], [37.254689, -121.792392], [39.26274, -94.44811], [28.543134, -81.25264], [37.558747, -79.65842099999998], [40.35245, -111.772531], [26.30198, -80.24371], [33.91435, -117.88273], [30.931659000000003, -86.05912], [33.878648, -118.103173], [33.877790999999995, -117.54546], [40.727037, -73.888818], [45.527143, -122.66536]],\n",
       "                {&quot;blur&quot;: 15, &quot;maxZoom&quot;: 18, &quot;minOpacity&quot;: 0.5, &quot;radius&quot;: 25}\n",
       "            ).addTo(map_32cb6f3b2fa2e25b475186de9788f4e4);\n",
       "        \n",
       "&lt;/script&gt;\" style=\"position:absolute;width:100%;height:100%;left:0;top:0;border:none !important;\" allowfullscreen webkitallowfullscreen mozallowfullscreen></iframe></div></div>"
      ],
      "text/plain": [
       "<folium.folium.Map at 0x2470eac6f10>"
      ]
     },
     "execution_count": 38,
     "metadata": {},
     "output_type": "execute_result"
    }
   ],
   "source": [
    "map = folium.Map()\n",
    "HeatMap(lat_lon_pairs).add_to(map)\n",
    "map"
   ]
  },
  {
   "cell_type": "code",
   "execution_count": 39,
   "id": "fc197c6a",
   "metadata": {},
   "outputs": [
    {
     "data": {
      "text/plain": [
       "R    2353309\n",
       "L     492032\n",
       "N          1\n",
       "Name: Side, dtype: int64"
      ]
     },
     "execution_count": 39,
     "metadata": {},
     "output_type": "execute_result"
    }
   ],
   "source": [
    "df.Side.value_counts()"
   ]
  },
  {
   "cell_type": "code",
   "execution_count": 40,
   "id": "3d2c44fe",
   "metadata": {},
   "outputs": [
    {
     "data": {
      "text/plain": [
       "R    2353309\n",
       "L     492032\n",
       "Name: Side, dtype: int64"
      ]
     },
     "execution_count": 40,
     "metadata": {},
     "output_type": "execute_result"
    }
   ],
   "source": [
    "df = df[df.Side != 'N']\n",
    "df.Side.value_counts()"
   ]
  },
  {
   "cell_type": "code",
   "execution_count": 41,
   "id": "e841903b",
   "metadata": {},
   "outputs": [
    {
     "data": {
      "text/plain": [
       "<AxesSubplot:xlabel='index', ylabel='Side'>"
      ]
     },
     "execution_count": 41,
     "metadata": {},
     "output_type": "execute_result"
    },
    {
     "data": {
      "image/png": "[encoded data removed]",
      "text/plain": [
       "<Figure size 432x288 with 1 Axes>"
      ]
     },
     "metadata": {},
     "output_type": "display_data"
    }
   ],
   "source": [
    "sns.barplot(x=\"index\", y=\"Side\", data=df.Side.value_counts().to_frame().reset_index())"
   ]
  },
  {
   "cell_type": "code",
   "execution_count": 42,
   "id": "991f4713",
   "metadata": {},
   "outputs": [
    {
     "data": {
      "text/plain": [
       "CA    795867\n",
       "FL    401388\n",
       "TX    149037\n",
       "OR    126341\n",
       "VA    113535\n",
       "NY    108049\n",
       "PA     99975\n",
       "MN     97185\n",
       "NC     91362\n",
       "SC     89216\n",
       "MD     65085\n",
       "AZ     56504\n",
       "NJ     52902\n",
       "TN     52613\n",
       "UT     49193\n",
       "LA     47232\n",
       "IL     47105\n",
       "MI     43843\n",
       "GA     40086\n",
       "WA     32554\n",
       "CT     29762\n",
       "MO     29633\n",
       "CO     25340\n",
       "OH     24409\n",
       "IN     20850\n",
       "AL     19322\n",
       "MT     15964\n",
       "AR     10935\n",
       "IA      9607\n",
       "DC      9133\n",
       "KS      9033\n",
       "OK      8806\n",
       "ID      8544\n",
       "WI      7896\n",
       "WV      7632\n",
       "KY      6638\n",
       "MA      6392\n",
       "NV      6197\n",
       "MS      5320\n",
       "DE      4842\n",
       "RI      4451\n",
       "NH      3866\n",
       "NE      3320\n",
       "NM      2370\n",
       "ND      2258\n",
       "ME      2193\n",
       "WY       990\n",
       "VT       365\n",
       "SD       201\n",
       "Name: State, dtype: int64"
      ]
     },
     "execution_count": 42,
     "metadata": {},
     "output_type": "execute_result"
    }
   ],
   "source": [
    "df.State.value_counts()"
   ]
  },
  {
   "cell_type": "code",
   "execution_count": 43,
   "id": "af253fcd",
   "metadata": {},
   "outputs": [
    {
     "data": {
      "text/plain": [
       "<AxesSubplot:xlabel='index', ylabel='State'>"
      ]
     },
     "execution_count": 43,
     "metadata": {},
     "output_type": "execute_result"
    },
    {
     "data": {
      "image/png": "[encoded data removed]",
      "text/plain": [
       "<Figure size 1440x864 with 1 Axes>"
      ]
     },
     "metadata": {},
     "output_type": "display_data"
    }
   ],
   "source": [
    "f, ax = plt.subplots(figsize=(20, 12))\n",
    "sns.barplot(x=\"index\", y=\"State\", data=df.State.value_counts().to_frame().reset_index(),ax=ax)"
   ]
  },
  {
   "cell_type": "code",
   "execution_count": 44,
   "id": "cb65ebe7",
   "metadata": {},
   "outputs": [
    {
     "data": {
      "text/plain": [
       "Los Angeles        234122\n",
       "San Bernardino      55018\n",
       "Orange              51331\n",
       "San Diego           48366\n",
       "Sacramento          46708\n",
       "Riverside           42176\n",
       "Alameda             38997\n",
       "Santa Clara         27415\n",
       "Kern                21310\n",
       "Contra Costa        19726\n",
       "Fresno              16310\n",
       "San Joaquin         15919\n",
       "San Mateo           11802\n",
       "Sonoma               9653\n",
       "Ventura              9554\n",
       "Stanislaus           9413\n",
       "Monterey             8576\n",
       "Tulare               8470\n",
       "Placer               8311\n",
       "Solano               8302\n",
       "San Francisco        6871\n",
       "Santa Cruz           6747\n",
       "Santa Barbara        6617\n",
       "Merced               6482\n",
       "Marin                5493\n",
       "El Dorado            5380\n",
       "San Luis Obispo      5315\n",
       "Madera               4869\n",
       "Yolo                 4329\n",
       "Shasta               3809\n",
       "Nevada               3804\n",
       "Mendocino            3720\n",
       "Humboldt             3597\n",
       "Butte                3547\n",
       "Napa                 3212\n",
       "Yuba                 2672\n",
       "Siskiyou             2566\n",
       "Kings                2440\n",
       "Lake                 2380\n",
       "Tuolumne             2261\n",
       "Tehama               2069\n",
       "San Benito           1781\n",
       "Calaveras            1730\n",
       "Sutter               1602\n",
       "Amador               1402\n",
       "Lassen               1342\n",
       "Del Norte            1168\n",
       "Mono                  952\n",
       "Trinity               940\n",
       "Colusa                921\n",
       "Plumas                885\n",
       "Inyo                  879\n",
       "Glenn                 788\n",
       "Mariposa              764\n",
       "Modoc                 432\n",
       "Alpine                270\n",
       "Sierra                217\n",
       "Imperial              135\n",
       "Name: County, dtype: int64"
      ]
     },
     "execution_count": 44,
     "metadata": {},
     "output_type": "execute_result"
    }
   ],
   "source": [
    "df[df.State=='CA'].County.value_counts()"
   ]
  },
  {
   "cell_type": "code",
   "execution_count": 45,
   "id": "9cc63637",
   "metadata": {},
   "outputs": [
    {
     "data": {
      "text/plain": [
       "<AxesSubplot:xlabel='index', ylabel='County'>"
      ]
     },
     "execution_count": 45,
     "metadata": {},
     "output_type": "execute_result"
    },
    {
     "data": {
      "image/png": "[encoded data removed]",
      "text/plain": [
       "<Figure size 1440x864 with 1 Axes>"
      ]
     },
     "metadata": {},
     "output_type": "display_data"
    }
   ],
   "source": [
    "f, ax = plt.subplots(figsize=(20, 12))\n",
    "sns.barplot(x=\"index\", y=\"County\", data=df[df.State=='CA'].County.value_counts().to_frame().reset_index()[:12],ax=ax)"
   ]
  },
  {
   "cell_type": "code",
   "execution_count": 46,
   "id": "96b9d3da",
   "metadata": {},
   "outputs": [
    {
     "data": {
      "text/plain": [
       "Los Angeles             68956\n",
       "Long Beach               8862\n",
       "Whittier                 7162\n",
       "Baldwin Park             4694\n",
       "Pomona                   4377\n",
       "                        ...  \n",
       "Adelanto                    1\n",
       "Sherwood Forest             1\n",
       "Hidden Hills                1\n",
       "Palos Verdes Estates        1\n",
       "Upland                      1\n",
       "Name: City, Length: 156, dtype: int64"
      ]
     },
     "execution_count": 46,
     "metadata": {},
     "output_type": "execute_result"
    }
   ],
   "source": [
    "df[df.County=='Los Angeles'].City.value_counts()"
   ]
  },
  {
   "cell_type": "code",
   "execution_count": 47,
   "id": "a0865a08",
   "metadata": {},
   "outputs": [
    {
     "data": {
      "text/plain": [
       "<AxesSubplot:xlabel='index', ylabel='City'>"
      ]
     },
     "execution_count": 47,
     "metadata": {},
     "output_type": "execute_result"
    },
    {
     "data": {
      "image/png": "[encoded data removed]",
      "text/plain": [
       "<Figure size 1440x864 with 1 Axes>"
      ]
     },
     "metadata": {},
     "output_type": "display_data"
    }
   ],
   "source": [
    "f, ax = plt.subplots(figsize=(20, 12))\n",
    "sns.barplot(x=\"index\", y=\"City\", data=df[df.County=='Los Angeles'].City.value_counts().to_frame().reset_index()[:12],ax=ax)"
   ]
  },
  {
   "cell_type": "code",
   "execution_count": 48,
   "id": "44059edc",
   "metadata": {},
   "outputs": [
    {
     "data": {
      "text/plain": [
       "Los Angeles       234122\n",
       "Miami-Dade        143939\n",
       "Orange            114917\n",
       "San Bernardino     55018\n",
       "Dallas             50050\n",
       "San Diego          48366\n",
       "Sacramento         46708\n",
       "Harris             42559\n",
       "Riverside          42176\n",
       "Montgomery         41476\n",
       "Name: County, dtype: int64"
      ]
     },
     "execution_count": 48,
     "metadata": {},
     "output_type": "execute_result"
    }
   ],
   "source": [
    "df.County.value_counts()[:10]"
   ]
  },
  {
   "cell_type": "code",
   "execution_count": 49,
   "id": "07321502",
   "metadata": {},
   "outputs": [
    {
     "data": {
      "text/plain": [
       "<AxesSubplot:xlabel='index', ylabel='County'>"
      ]
     },
     "execution_count": 49,
     "metadata": {},
     "output_type": "execute_result"
    },
    {
     "data": {
      "image/png": "[encoded data removed]",
      "text/plain": [
       "<Figure size 1440x864 with 1 Axes>"
      ]
     },
     "metadata": {},
     "output_type": "display_data"
    }
   ],
   "source": [
    "f, ax = plt.subplots(figsize=(20, 12))\n",
    "sns.barplot(x=\"index\", y=\"County\", data=df.County.value_counts().to_frame().reset_index()[:10],ax=ax)"
   ]
  },
  {
   "cell_type": "code",
   "execution_count": 50,
   "id": "14bb683d",
   "metadata": {},
   "outputs": [
    {
     "data": {
      "text/plain": [
       "Miami          106966\n",
       "Los Angeles     68956\n",
       "Orlando         54691\n",
       "Dallas          41979\n",
       "Houston         39448\n",
       "Charlotte       33152\n",
       "Sacramento      32559\n",
       "San Diego       26627\n",
       "Raleigh         22840\n",
       "Minneapolis     22768\n",
       "Name: City, dtype: int64"
      ]
     },
     "execution_count": 50,
     "metadata": {},
     "output_type": "execute_result"
    }
   ],
   "source": [
    "df.City.value_counts()[:10]"
   ]
  },
  {
   "cell_type": "code",
   "execution_count": 51,
   "id": "528ae37e",
   "metadata": {},
   "outputs": [
    {
     "data": {
      "text/plain": [
       "<AxesSubplot:xlabel='index', ylabel='City'>"
      ]
     },
     "execution_count": 51,
     "metadata": {},
     "output_type": "execute_result"
    },
    {
     "data": {
      "image/png": "[encoded data removed]",
      "text/plain": [
       "<Figure size 1440x864 with 1 Axes>"
      ]
     },
     "metadata": {},
     "output_type": "display_data"
    }
   ],
   "source": [
    "f, ax = plt.subplots(figsize=(20, 12))\n",
    "sns.barplot(x=\"index\", y=\"City\", data=df.City.value_counts().to_frame().reset_index()[:10],ax=ax)"
   ]
  },
  {
   "cell_type": "code",
   "execution_count": 52,
   "id": "8a025c08",
   "metadata": {},
   "outputs": [
    {
     "data": {
      "text/plain": [
       "count    2.687398e+06\n",
       "mean     7.395044e+00\n",
       "std      5.527454e+00\n",
       "min      0.000000e+00\n",
       "25%      3.500000e+00\n",
       "50%      7.000000e+00\n",
       "75%      1.000000e+01\n",
       "max      1.087000e+03\n",
       "Name: Wind_Speed(mph), dtype: float64"
      ]
     },
     "execution_count": 52,
     "metadata": {},
     "output_type": "execute_result"
    }
   ],
   "source": [
    "df['Wind_Speed(mph)'].describe()"
   ]
  },
  {
   "cell_type": "code",
   "execution_count": 54,
   "id": "c781a9f3",
   "metadata": {},
   "outputs": [
    {
     "data": {
      "text/plain": [
       "20.7"
      ]
     },
     "execution_count": 54,
     "metadata": {},
     "output_type": "execute_result"
    }
   ],
   "source": [
    "np.percentile(df['Wind_Speed(mph)'].dropna(), 98)"
   ]
  },
  {
   "cell_type": "code",
   "execution_count": 55,
   "id": "8ea2ca2a",
   "metadata": {},
   "outputs": [],
   "source": [
    "Windspeed = df[(df['Wind_Speed(mph)']<20)&(df['Wind_Speed(mph)']>0)].dropna()['Wind_Speed(mph)']"
   ]
  },
  {
   "cell_type": "code",
   "execution_count": 56,
   "id": "f0248fe1",
   "metadata": {},
   "outputs": [
    {
     "data": {
      "text/plain": [
       "count    1.744306e+06\n",
       "mean     8.293165e+00\n",
       "std      3.812411e+00\n",
       "min      1.000000e+00\n",
       "25%      5.000000e+00\n",
       "50%      8.000000e+00\n",
       "75%      1.000000e+01\n",
       "max      1.960000e+01\n",
       "Name: Wind_Speed(mph), dtype: float64"
      ]
     },
     "execution_count": 56,
     "metadata": {},
     "output_type": "execute_result"
    }
   ],
   "source": [
    "Windspeed.describe()"
   ]
  },
  {
   "cell_type": "code",
   "execution_count": 57,
   "id": "ff8c9f3a",
   "metadata": {},
   "outputs": [
    {
     "data": {
      "text/html": [
       "<div>\n",
       "<style scoped>\n",
       "    .dataframe tbody tr th:only-of-type {\n",
       "        vertical-align: middle;\n",
       "    }\n",
       "\n",
       "    .dataframe tbody tr th {\n",
       "        vertical-align: top;\n",
       "    }\n",
       "\n",
       "    .dataframe thead th {\n",
       "        text-align: right;\n",
       "    }\n",
       "</style>\n",
       "<table border=\"1\" class=\"dataframe\">\n",
       "  <thead>\n",
       "    <tr style=\"text-align: right;\">\n",
       "      <th></th>\n",
       "      <th>index</th>\n",
       "      <th>Wind_Speed(mph)</th>\n",
       "    </tr>\n",
       "  </thead>\n",
       "  <tbody>\n",
       "    <tr>\n",
       "      <th>0</th>\n",
       "      <td>5.0</td>\n",
       "      <td>221452</td>\n",
       "    </tr>\n",
       "    <tr>\n",
       "      <th>1</th>\n",
       "      <td>3.0</td>\n",
       "      <td>217921</td>\n",
       "    </tr>\n",
       "    <tr>\n",
       "      <th>2</th>\n",
       "      <td>6.0</td>\n",
       "      <td>213183</td>\n",
       "    </tr>\n",
       "    <tr>\n",
       "      <th>3</th>\n",
       "      <td>7.0</td>\n",
       "      <td>197411</td>\n",
       "    </tr>\n",
       "    <tr>\n",
       "      <th>4</th>\n",
       "      <td>8.0</td>\n",
       "      <td>177038</td>\n",
       "    </tr>\n",
       "    <tr>\n",
       "      <th>5</th>\n",
       "      <td>9.0</td>\n",
       "      <td>158911</td>\n",
       "    </tr>\n",
       "    <tr>\n",
       "      <th>6</th>\n",
       "      <td>10.0</td>\n",
       "      <td>131403</td>\n",
       "    </tr>\n",
       "    <tr>\n",
       "      <th>7</th>\n",
       "      <td>12.0</td>\n",
       "      <td>111262</td>\n",
       "    </tr>\n",
       "    <tr>\n",
       "      <th>8</th>\n",
       "      <td>13.0</td>\n",
       "      <td>85856</td>\n",
       "    </tr>\n",
       "    <tr>\n",
       "      <th>9</th>\n",
       "      <td>14.0</td>\n",
       "      <td>68737</td>\n",
       "    </tr>\n",
       "    <tr>\n",
       "      <th>10</th>\n",
       "      <td>15.0</td>\n",
       "      <td>53178</td>\n",
       "    </tr>\n",
       "    <tr>\n",
       "      <th>11</th>\n",
       "      <td>16.0</td>\n",
       "      <td>38862</td>\n",
       "    </tr>\n",
       "    <tr>\n",
       "      <th>12</th>\n",
       "      <td>17.0</td>\n",
       "      <td>28319</td>\n",
       "    </tr>\n",
       "    <tr>\n",
       "      <th>13</th>\n",
       "      <td>18.0</td>\n",
       "      <td>21180</td>\n",
       "    </tr>\n",
       "    <tr>\n",
       "      <th>14</th>\n",
       "      <td>8.1</td>\n",
       "      <td>1948</td>\n",
       "    </tr>\n",
       "    <tr>\n",
       "      <th>15</th>\n",
       "      <td>6.9</td>\n",
       "      <td>1914</td>\n",
       "    </tr>\n",
       "    <tr>\n",
       "      <th>16</th>\n",
       "      <td>5.8</td>\n",
       "      <td>1910</td>\n",
       "    </tr>\n",
       "    <tr>\n",
       "      <th>17</th>\n",
       "      <td>9.2</td>\n",
       "      <td>1828</td>\n",
       "    </tr>\n",
       "    <tr>\n",
       "      <th>18</th>\n",
       "      <td>10.4</td>\n",
       "      <td>1727</td>\n",
       "    </tr>\n",
       "    <tr>\n",
       "      <th>19</th>\n",
       "      <td>4.6</td>\n",
       "      <td>1711</td>\n",
       "    </tr>\n",
       "  </tbody>\n",
       "</table>\n",
       "</div>"
      ],
      "text/plain": [
       "    index  Wind_Speed(mph)\n",
       "0     5.0           221452\n",
       "1     3.0           217921\n",
       "2     6.0           213183\n",
       "3     7.0           197411\n",
       "4     8.0           177038\n",
       "5     9.0           158911\n",
       "6    10.0           131403\n",
       "7    12.0           111262\n",
       "8    13.0            85856\n",
       "9    14.0            68737\n",
       "10   15.0            53178\n",
       "11   16.0            38862\n",
       "12   17.0            28319\n",
       "13   18.0            21180\n",
       "14    8.1             1948\n",
       "15    6.9             1914\n",
       "16    5.8             1910\n",
       "17    9.2             1828\n",
       "18   10.4             1727\n",
       "19    4.6             1711"
      ]
     },
     "execution_count": 57,
     "metadata": {},
     "output_type": "execute_result"
    }
   ],
   "source": [
    "wind_data = Windspeed.value_counts().reset_index()\n",
    "wind_data.head(20)"
   ]
  },
  {
   "cell_type": "code",
   "execution_count": 58,
   "id": "ce9347d4",
   "metadata": {},
   "outputs": [
    {
     "data": {
      "text/plain": [
       "<seaborn.axisgrid.FacetGrid at 0x246b6daa880>"
      ]
     },
     "execution_count": 58,
     "metadata": {},
     "output_type": "execute_result"
    },
    {
     "data": {
      "image/png": "[encoded data removed]",
      "text/plain": [
       "<Figure size 360x360 with 1 Axes>"
      ]
     },
     "metadata": {},
     "output_type": "display_data"
    }
   ],
   "source": [
    "sns.lmplot(data=wind_data, x=\"index\", y=\"Wind_Speed(mph)\")"
   ]
  },
  {
   "cell_type": "code",
   "execution_count": 59,
   "id": "28537fc5",
   "metadata": {},
   "outputs": [
    {
     "data": {
      "text/plain": [
       "count    2.772250e+06\n",
       "mean     6.436545e+01\n",
       "std      2.287457e+01\n",
       "min      1.000000e+00\n",
       "25%      4.800000e+01\n",
       "50%      6.700000e+01\n",
       "75%      8.300000e+01\n",
       "max      1.000000e+02\n",
       "Name: Humidity(%), dtype: float64"
      ]
     },
     "execution_count": 59,
     "metadata": {},
     "output_type": "execute_result"
    }
   ],
   "source": [
    "df['Humidity(%)'].describe()"
   ]
  },
  {
   "cell_type": "code",
   "execution_count": 62,
   "id": "fddaaebf",
   "metadata": {},
   "outputs": [],
   "source": [
    "H = df['Humidity(%)'].value_counts().reset_index()"
   ]
  },
  {
   "cell_type": "code",
   "execution_count": 63,
   "id": "8e82b42e",
   "metadata": {},
   "outputs": [
    {
     "data": {
      "text/plain": [
       "<seaborn.axisgrid.FacetGrid at 0x246ef0b1dc0>"
      ]
     },
     "execution_count": 63,
     "metadata": {},
     "output_type": "execute_result"
    },
    {
     "data": {
      "image/png": "[encoded data removed]",
      "text/plain": [
       "<Figure size 360x360 with 1 Axes>"
      ]
     },
     "metadata": {},
     "output_type": "display_data"
    }
   ],
   "source": [
    "sns.lmplot(data=H[H[\"Humidity(%)\"]<60000], x=\"index\", y=\"Humidity(%)\")"
   ]
  },
  {
   "cell_type": "code",
   "execution_count": 64,
   "id": "633fc3ea",
   "metadata": {},
   "outputs": [
    {
     "data": {
      "text/plain": [
       "count    2.786142e+06\n",
       "mean     2.947234e+01\n",
       "std      1.045286e+00\n",
       "min      0.000000e+00\n",
       "25%      2.931000e+01\n",
       "50%      2.982000e+01\n",
       "75%      3.001000e+01\n",
       "max      5.890000e+01\n",
       "Name: Pressure(in), dtype: float64"
      ]
     },
     "execution_count": 64,
     "metadata": {},
     "output_type": "execute_result"
    }
   ],
   "source": [
    "df['Pressure(in)'].describe()"
   ]
  },
  {
   "cell_type": "code",
   "execution_count": 65,
   "id": "9c24ff19",
   "metadata": {},
   "outputs": [
    {
     "data": {
      "text/html": [
       "<div>\n",
       "<style scoped>\n",
       "    .dataframe tbody tr th:only-of-type {\n",
       "        vertical-align: middle;\n",
       "    }\n",
       "\n",
       "    .dataframe tbody tr th {\n",
       "        vertical-align: top;\n",
       "    }\n",
       "\n",
       "    .dataframe thead th {\n",
       "        text-align: right;\n",
       "    }\n",
       "</style>\n",
       "<table border=\"1\" class=\"dataframe\">\n",
       "  <thead>\n",
       "    <tr style=\"text-align: right;\">\n",
       "      <th></th>\n",
       "      <th>index</th>\n",
       "      <th>Pressure(in)</th>\n",
       "    </tr>\n",
       "  </thead>\n",
       "  <tbody>\n",
       "    <tr>\n",
       "      <th>0</th>\n",
       "      <td>29.96</td>\n",
       "      <td>43668</td>\n",
       "    </tr>\n",
       "    <tr>\n",
       "      <th>1</th>\n",
       "      <td>29.94</td>\n",
       "      <td>43165</td>\n",
       "    </tr>\n",
       "    <tr>\n",
       "      <th>2</th>\n",
       "      <td>29.99</td>\n",
       "      <td>42978</td>\n",
       "    </tr>\n",
       "    <tr>\n",
       "      <th>3</th>\n",
       "      <td>30.01</td>\n",
       "      <td>41736</td>\n",
       "    </tr>\n",
       "    <tr>\n",
       "      <th>4</th>\n",
       "      <td>30.03</td>\n",
       "      <td>41477</td>\n",
       "    </tr>\n",
       "    <tr>\n",
       "      <th>...</th>\n",
       "      <td>...</td>\n",
       "      <td>...</td>\n",
       "    </tr>\n",
       "    <tr>\n",
       "      <th>1063</th>\n",
       "      <td>58.90</td>\n",
       "      <td>1</td>\n",
       "    </tr>\n",
       "    <tr>\n",
       "      <th>1064</th>\n",
       "      <td>56.31</td>\n",
       "      <td>1</td>\n",
       "    </tr>\n",
       "    <tr>\n",
       "      <th>1065</th>\n",
       "      <td>31.14</td>\n",
       "      <td>1</td>\n",
       "    </tr>\n",
       "    <tr>\n",
       "      <th>1066</th>\n",
       "      <td>22.04</td>\n",
       "      <td>1</td>\n",
       "    </tr>\n",
       "    <tr>\n",
       "      <th>1067</th>\n",
       "      <td>0.00</td>\n",
       "      <td>1</td>\n",
       "    </tr>\n",
       "  </tbody>\n",
       "</table>\n",
       "<p>1068 rows × 2 columns</p>\n",
       "</div>"
      ],
      "text/plain": [
       "      index  Pressure(in)\n",
       "0     29.96         43668\n",
       "1     29.94         43165\n",
       "2     29.99         42978\n",
       "3     30.01         41736\n",
       "4     30.03         41477\n",
       "...     ...           ...\n",
       "1063  58.90             1\n",
       "1064  56.31             1\n",
       "1065  31.14             1\n",
       "1066  22.04             1\n",
       "1067   0.00             1\n",
       "\n",
       "[1068 rows x 2 columns]"
      ]
     },
     "execution_count": 65,
     "metadata": {},
     "output_type": "execute_result"
    }
   ],
   "source": [
    "P = df['Pressure(in)'].value_counts().reset_index()\n",
    "P"
   ]
  },
  {
   "cell_type": "code",
   "execution_count": 66,
   "id": "d5011304",
   "metadata": {},
   "outputs": [
    {
     "data": {
      "text/plain": [
       "<seaborn.axisgrid.FacetGrid at 0x246ef1ecdf0>"
      ]
     },
     "execution_count": 66,
     "metadata": {},
     "output_type": "execute_result"
    },
    {
     "data": {
      "image/png": "[encoded data removed]",
      "text/plain": [
       "<Figure size 360x360 with 1 Axes>"
      ]
     },
     "metadata": {},
     "output_type": "display_data"
    }
   ],
   "source": [
    "sns.lmplot(data=P[(P[\"index\"]<35)&(P[\"index\"]>18)], x=\"index\", y='Pressure(in)')"
   ]
  },
  {
   "cell_type": "code",
   "execution_count": 67,
   "id": "1b1610ff",
   "metadata": {},
   "outputs": [
    {
     "data": {
      "text/plain": [
       "count    2.774796e+06\n",
       "mean     9.099391e+00\n",
       "std      2.717546e+00\n",
       "min      0.000000e+00\n",
       "25%      1.000000e+01\n",
       "50%      1.000000e+01\n",
       "75%      1.000000e+01\n",
       "max      1.400000e+02\n",
       "Name: Visibility(mi), dtype: float64"
      ]
     },
     "execution_count": 67,
     "metadata": {},
     "output_type": "execute_result"
    }
   ],
   "source": [
    "df['Visibility(mi)'].describe()"
   ]
  },
  {
   "cell_type": "code",
   "execution_count": 68,
   "id": "0124a575",
   "metadata": {},
   "outputs": [],
   "source": [
    "df = df[df['Visibility(mi)']<=10]"
   ]
  },
  {
   "cell_type": "code",
   "execution_count": 69,
   "id": "9c65aa2c",
   "metadata": {},
   "outputs": [
    {
     "data": {
      "text/html": [
       "<div>\n",
       "<style scoped>\n",
       "    .dataframe tbody tr th:only-of-type {\n",
       "        vertical-align: middle;\n",
       "    }\n",
       "\n",
       "    .dataframe tbody tr th {\n",
       "        vertical-align: top;\n",
       "    }\n",
       "\n",
       "    .dataframe thead th {\n",
       "        text-align: right;\n",
       "    }\n",
       "</style>\n",
       "<table border=\"1\" class=\"dataframe\">\n",
       "  <thead>\n",
       "    <tr style=\"text-align: right;\">\n",
       "      <th></th>\n",
       "      <th>index</th>\n",
       "      <th>Visibility(mi)</th>\n",
       "    </tr>\n",
       "  </thead>\n",
       "  <tbody>\n",
       "    <tr>\n",
       "      <th>0</th>\n",
       "      <td>10.00</td>\n",
       "      <td>2230276</td>\n",
       "    </tr>\n",
       "    <tr>\n",
       "      <th>1</th>\n",
       "      <td>7.00</td>\n",
       "      <td>79649</td>\n",
       "    </tr>\n",
       "    <tr>\n",
       "      <th>2</th>\n",
       "      <td>9.00</td>\n",
       "      <td>68817</td>\n",
       "    </tr>\n",
       "    <tr>\n",
       "      <th>3</th>\n",
       "      <td>8.00</td>\n",
       "      <td>55955</td>\n",
       "    </tr>\n",
       "    <tr>\n",
       "      <th>4</th>\n",
       "      <td>5.00</td>\n",
       "      <td>53933</td>\n",
       "    </tr>\n",
       "    <tr>\n",
       "      <th>5</th>\n",
       "      <td>6.00</td>\n",
       "      <td>49051</td>\n",
       "    </tr>\n",
       "    <tr>\n",
       "      <th>6</th>\n",
       "      <td>2.00</td>\n",
       "      <td>46160</td>\n",
       "    </tr>\n",
       "    <tr>\n",
       "      <th>7</th>\n",
       "      <td>4.00</td>\n",
       "      <td>45437</td>\n",
       "    </tr>\n",
       "    <tr>\n",
       "      <th>8</th>\n",
       "      <td>3.00</td>\n",
       "      <td>44012</td>\n",
       "    </tr>\n",
       "    <tr>\n",
       "      <th>9</th>\n",
       "      <td>1.00</td>\n",
       "      <td>38445</td>\n",
       "    </tr>\n",
       "    <tr>\n",
       "      <th>10</th>\n",
       "      <td>0.50</td>\n",
       "      <td>12290</td>\n",
       "    </tr>\n",
       "    <tr>\n",
       "      <th>11</th>\n",
       "      <td>0.25</td>\n",
       "      <td>11359</td>\n",
       "    </tr>\n",
       "    <tr>\n",
       "      <th>12</th>\n",
       "      <td>0.75</td>\n",
       "      <td>8248</td>\n",
       "    </tr>\n",
       "    <tr>\n",
       "      <th>13</th>\n",
       "      <td>2.50</td>\n",
       "      <td>4337</td>\n",
       "    </tr>\n",
       "    <tr>\n",
       "      <th>14</th>\n",
       "      <td>0.00</td>\n",
       "      <td>3238</td>\n",
       "    </tr>\n",
       "    <tr>\n",
       "      <th>15</th>\n",
       "      <td>0.20</td>\n",
       "      <td>2870</td>\n",
       "    </tr>\n",
       "    <tr>\n",
       "      <th>16</th>\n",
       "      <td>1.50</td>\n",
       "      <td>2448</td>\n",
       "    </tr>\n",
       "    <tr>\n",
       "      <th>17</th>\n",
       "      <td>0.80</td>\n",
       "      <td>2036</td>\n",
       "    </tr>\n",
       "    <tr>\n",
       "      <th>18</th>\n",
       "      <td>1.80</td>\n",
       "      <td>1946</td>\n",
       "    </tr>\n",
       "    <tr>\n",
       "      <th>19</th>\n",
       "      <td>1.20</td>\n",
       "      <td>1566</td>\n",
       "    </tr>\n",
       "  </tbody>\n",
       "</table>\n",
       "</div>"
      ],
      "text/plain": [
       "    index  Visibility(mi)\n",
       "0   10.00         2230276\n",
       "1    7.00           79649\n",
       "2    9.00           68817\n",
       "3    8.00           55955\n",
       "4    5.00           53933\n",
       "5    6.00           49051\n",
       "6    2.00           46160\n",
       "7    4.00           45437\n",
       "8    3.00           44012\n",
       "9    1.00           38445\n",
       "10   0.50           12290\n",
       "11   0.25           11359\n",
       "12   0.75            8248\n",
       "13   2.50            4337\n",
       "14   0.00            3238\n",
       "15   0.20            2870\n",
       "16   1.50            2448\n",
       "17   0.80            2036\n",
       "18   1.80            1946\n",
       "19   1.20            1566"
      ]
     },
     "execution_count": 69,
     "metadata": {},
     "output_type": "execute_result"
    }
   ],
   "source": [
    "V = df['Visibility(mi)'].value_counts().reset_index()\n",
    "V.head(20)"
   ]
  },
  {
   "cell_type": "code",
   "execution_count": 70,
   "id": "bc47cbb7",
   "metadata": {},
   "outputs": [
    {
     "data": {
      "text/plain": [
       "<seaborn.axisgrid.FacetGrid at 0x246ef25e3a0>"
      ]
     },
     "execution_count": 70,
     "metadata": {},
     "output_type": "execute_result"
    },
    {
     "data": {
      "image/png": "[encoded data removed]",
      "text/plain": [
       "<Figure size 360x360 with 1 Axes>"
      ]
     },
     "metadata": {},
     "output_type": "display_data"
    }
   ],
   "source": [
    "sns.lmplot(data=V, x=\"index\", y='Visibility(mi)')"
   ]
  },
  {
   "cell_type": "code",
   "execution_count": 71,
   "id": "a960d32e",
   "metadata": {},
   "outputs": [
    {
     "data": {
      "text/plain": [
       "<seaborn.axisgrid.FacetGrid at 0x246ef2adbb0>"
      ]
     },
     "execution_count": 71,
     "metadata": {},
     "output_type": "execute_result"
    },
    {
     "data": {
      "image/png": "[encoded data removed]",
      "text/plain": [
       "<Figure size 360x360 with 1 Axes>"
      ]
     },
     "metadata": {},
     "output_type": "display_data"
    }
   ],
   "source": [
    "sns.lmplot(data=V[V['Visibility(mi)']<60000], x=\"index\", y='Visibility(mi)')"
   ]
  },
  {
   "cell_type": "code",
   "execution_count": 72,
   "id": "be951c15",
   "metadata": {},
   "outputs": [
    {
     "data": {
      "text/plain": [
       "count    2.361366e+06\n",
       "mean     5.968003e+01\n",
       "std      2.114066e+01\n",
       "min     -8.900000e+01\n",
       "25%      4.600000e+01\n",
       "50%      6.300000e+01\n",
       "75%      7.600000e+01\n",
       "max      1.960000e+02\n",
       "Name: Wind_Chill(F), dtype: float64"
      ]
     },
     "execution_count": 72,
     "metadata": {},
     "output_type": "execute_result"
    }
   ],
   "source": [
    "df['Wind_Chill(F)'].describe()"
   ]
  },
  {
   "cell_type": "code",
   "execution_count": 73,
   "id": "c41add8c",
   "metadata": {},
   "outputs": [
    {
     "data": {
      "text/html": [
       "<div>\n",
       "<style scoped>\n",
       "    .dataframe tbody tr th:only-of-type {\n",
       "        vertical-align: middle;\n",
       "    }\n",
       "\n",
       "    .dataframe tbody tr th {\n",
       "        vertical-align: top;\n",
       "    }\n",
       "\n",
       "    .dataframe thead th {\n",
       "        text-align: right;\n",
       "    }\n",
       "</style>\n",
       "<table border=\"1\" class=\"dataframe\">\n",
       "  <thead>\n",
       "    <tr style=\"text-align: right;\">\n",
       "      <th></th>\n",
       "      <th>index</th>\n",
       "      <th>Wind_Chill(F)</th>\n",
       "    </tr>\n",
       "  </thead>\n",
       "  <tbody>\n",
       "    <tr>\n",
       "      <th>0</th>\n",
       "      <td>73.0</td>\n",
       "      <td>56075</td>\n",
       "    </tr>\n",
       "    <tr>\n",
       "      <th>1</th>\n",
       "      <td>77.0</td>\n",
       "      <td>52863</td>\n",
       "    </tr>\n",
       "    <tr>\n",
       "      <th>2</th>\n",
       "      <td>75.0</td>\n",
       "      <td>52529</td>\n",
       "    </tr>\n",
       "    <tr>\n",
       "      <th>3</th>\n",
       "      <td>72.0</td>\n",
       "      <td>51754</td>\n",
       "    </tr>\n",
       "    <tr>\n",
       "      <th>4</th>\n",
       "      <td>63.0</td>\n",
       "      <td>50469</td>\n",
       "    </tr>\n",
       "    <tr>\n",
       "      <th>...</th>\n",
       "      <td>...</td>\n",
       "      <td>...</td>\n",
       "    </tr>\n",
       "    <tr>\n",
       "      <th>887</th>\n",
       "      <td>-9.7</td>\n",
       "      <td>1</td>\n",
       "    </tr>\n",
       "    <tr>\n",
       "      <th>888</th>\n",
       "      <td>-23.3</td>\n",
       "      <td>1</td>\n",
       "    </tr>\n",
       "    <tr>\n",
       "      <th>889</th>\n",
       "      <td>-52.3</td>\n",
       "      <td>1</td>\n",
       "    </tr>\n",
       "    <tr>\n",
       "      <th>890</th>\n",
       "      <td>-38.9</td>\n",
       "      <td>1</td>\n",
       "    </tr>\n",
       "    <tr>\n",
       "      <th>891</th>\n",
       "      <td>-4.6</td>\n",
       "      <td>1</td>\n",
       "    </tr>\n",
       "  </tbody>\n",
       "</table>\n",
       "<p>892 rows × 2 columns</p>\n",
       "</div>"
      ],
      "text/plain": [
       "     index  Wind_Chill(F)\n",
       "0     73.0          56075\n",
       "1     77.0          52863\n",
       "2     75.0          52529\n",
       "3     72.0          51754\n",
       "4     63.0          50469\n",
       "..     ...            ...\n",
       "887   -9.7              1\n",
       "888  -23.3              1\n",
       "889  -52.3              1\n",
       "890  -38.9              1\n",
       "891   -4.6              1\n",
       "\n",
       "[892 rows x 2 columns]"
      ]
     },
     "execution_count": 73,
     "metadata": {},
     "output_type": "execute_result"
    }
   ],
   "source": [
    "W = df['Wind_Chill(F)'].value_counts().reset_index()\n",
    "W"
   ]
  },
  {
   "cell_type": "code",
   "execution_count": 74,
   "id": "3c4c1772",
   "metadata": {},
   "outputs": [
    {
     "data": {
      "text/plain": [
       "<seaborn.axisgrid.FacetGrid at 0x246b66210d0>"
      ]
     },
     "execution_count": 74,
     "metadata": {},
     "output_type": "execute_result"
    },
    {
     "data": {
      "image/png": "[encoded data removed]",
      "text/plain": [
       "<Figure size 360x360 with 1 Axes>"
      ]
     },
     "metadata": {},
     "output_type": "display_data"
    }
   ],
   "source": [
    "sns.lmplot(data=W, x=\"index\", y='Wind_Chill(F)')"
   ]
  },
  {
   "cell_type": "code",
   "execution_count": 75,
   "id": "8b579fe4",
   "metadata": {},
   "outputs": [
    {
     "data": {
      "text/plain": [
       "<seaborn.axisgrid.FacetGrid at 0x246ef24e070>"
      ]
     },
     "execution_count": 75,
     "metadata": {},
     "output_type": "execute_result"
    },
    {
     "data": {
      "image/png": "[encoded data removed]",
      "text/plain": [
       "<Figure size 360x360 with 1 Axes>"
      ]
     },
     "metadata": {},
     "output_type": "display_data"
    }
   ],
   "source": [
    "sns.lmplot(data=W[W[\"index\"]<125], x=\"index\", y='Wind_Chill(F)')"
   ]
  },
  {
   "cell_type": "code",
   "execution_count": 76,
   "id": "8d5bb7ee",
   "metadata": {},
   "outputs": [
    {
     "data": {
      "text/html": [
       "<div>\n",
       "<style scoped>\n",
       "    .dataframe tbody tr th:only-of-type {\n",
       "        vertical-align: middle;\n",
       "    }\n",
       "\n",
       "    .dataframe tbody tr th {\n",
       "        vertical-align: top;\n",
       "    }\n",
       "\n",
       "    .dataframe thead th {\n",
       "        text-align: right;\n",
       "    }\n",
       "</style>\n",
       "<table border=\"1\" class=\"dataframe\">\n",
       "  <thead>\n",
       "    <tr style=\"text-align: right;\">\n",
       "      <th></th>\n",
       "      <th>index</th>\n",
       "      <th>Sunrise_Sunset</th>\n",
       "    </tr>\n",
       "  </thead>\n",
       "  <tbody>\n",
       "    <tr>\n",
       "      <th>0</th>\n",
       "      <td>Day</td>\n",
       "      <td>1762599</td>\n",
       "    </tr>\n",
       "    <tr>\n",
       "      <th>1</th>\n",
       "      <td>Night</td>\n",
       "      <td>998809</td>\n",
       "    </tr>\n",
       "  </tbody>\n",
       "</table>\n",
       "</div>"
      ],
      "text/plain": [
       "   index  Sunrise_Sunset\n",
       "0    Day         1762599\n",
       "1  Night          998809"
      ]
     },
     "execution_count": 76,
     "metadata": {},
     "output_type": "execute_result"
    }
   ],
   "source": [
    "Day_night = df.Sunrise_Sunset.value_counts().to_frame().reset_index()\n",
    "Day_night"
   ]
  },
  {
   "cell_type": "code",
   "execution_count": 77,
   "id": "f6278a51",
   "metadata": {},
   "outputs": [
    {
     "data": {
      "text/plain": [
       "<AxesSubplot:xlabel='index', ylabel='Sunrise_Sunset'>"
      ]
     },
     "execution_count": 77,
     "metadata": {},
     "output_type": "execute_result"
    },
    {
     "data": {
      "image/png": "[encoded data removed]",
      "text/plain": [
       "<Figure size 432x288 with 1 Axes>"
      ]
     },
     "metadata": {},
     "output_type": "display_data"
    }
   ],
   "source": [
    "sns.barplot(x=\"index\", y='Sunrise_Sunset', data=Day_night)"
   ]
  },
  {
   "cell_type": "code",
   "execution_count": 78,
   "id": "b440f89f",
   "metadata": {},
   "outputs": [
    {
     "data": {
      "text/html": [
       "<div>\n",
       "<style scoped>\n",
       "    .dataframe tbody tr th:only-of-type {\n",
       "        vertical-align: middle;\n",
       "    }\n",
       "\n",
       "    .dataframe tbody tr th {\n",
       "        vertical-align: top;\n",
       "    }\n",
       "\n",
       "    .dataframe thead th {\n",
       "        text-align: right;\n",
       "    }\n",
       "</style>\n",
       "<table border=\"1\" class=\"dataframe\">\n",
       "  <thead>\n",
       "    <tr style=\"text-align: right;\">\n",
       "      <th></th>\n",
       "      <th>Sunrise_Sunset</th>\n",
       "      <th>Severity</th>\n",
       "    </tr>\n",
       "  </thead>\n",
       "  <tbody>\n",
       "    <tr>\n",
       "      <th>0</th>\n",
       "      <td>Day</td>\n",
       "      <td>2.129559</td>\n",
       "    </tr>\n",
       "    <tr>\n",
       "      <th>1</th>\n",
       "      <td>Night</td>\n",
       "      <td>2.146125</td>\n",
       "    </tr>\n",
       "  </tbody>\n",
       "</table>\n",
       "</div>"
      ],
      "text/plain": [
       "  Sunrise_Sunset  Severity\n",
       "0            Day  2.129559\n",
       "1          Night  2.146125"
      ]
     },
     "execution_count": 78,
     "metadata": {},
     "output_type": "execute_result"
    }
   ],
   "source": [
    "sev_DN = df[[\"Severity\",\"Sunrise_Sunset\"]].groupby(['Sunrise_Sunset']).mean().reset_index()\n",
    "sev_DN"
   ]
  },
  {
   "cell_type": "code",
   "execution_count": 79,
   "id": "a820a41f",
   "metadata": {},
   "outputs": [
    {
     "data": {
      "text/plain": [
       "<AxesSubplot:xlabel='Sunrise_Sunset', ylabel='Severity'>"
      ]
     },
     "execution_count": 79,
     "metadata": {},
     "output_type": "execute_result"
    },
    {
     "data": {
      "image/png": "[encoded data removed]",
      "text/plain": [
       "<Figure size 432x288 with 1 Axes>"
      ]
     },
     "metadata": {},
     "output_type": "display_data"
    }
   ],
   "source": [
    "sns.barplot(x=\"Sunrise_Sunset\", y='Severity', data=sev_DN)"
   ]
  },
  {
   "cell_type": "code",
   "execution_count": null,
   "id": "40be7925",
   "metadata": {},
   "outputs": [],
   "source": []
  }
 ],
 "metadata": {
  "kernelspec": {
   "display_name": "Python 3",
   "language": "python",
   "name": "python3"
  },
  "language_info": {
   "codemirror_mode": {
    "name": "ipython",
    "version": 3
   },
   "file_extension": ".py",
   "mimetype": "text/x-python",
   "name": "python",
   "nbconvert_exporter": "python",
   "pygments_lexer": "ipython3",
   "version": "3.8.8"
  }
 },
 "nbformat": 4,
 "nbformat_minor": 5
}
